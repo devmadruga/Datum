{
 "cells": [
  {
   "cell_type": "markdown",
   "metadata": {
    "application/vnd.databricks.v1+cell": {
     "cellMetadata": {
      "byteLimit": 2048000,
      "rowLimit": 10000
     },
     "inputWidgets": {},
     "nuid": "6ba77b0f-0618-466c-a04d-e1f2540c8d2d",
     "showTitle": false,
     "title": ""
    }
   },
   "source": [
    "\n",
    "# 1. Imports"
   ]
  },
  {
   "cell_type": "code",
   "execution_count": 0,
   "metadata": {
    "application/vnd.databricks.v1+cell": {
     "cellMetadata": {
      "byteLimit": 2048000,
      "rowLimit": 10000
     },
     "inputWidgets": {},
     "nuid": "270ea1e0-f1c8-435a-9a37-5788ec8ff417",
     "showTitle": false,
     "title": ""
    }
   },
   "outputs": [],
   "source": [
    "from pyspark.sql.functions import (\n",
    "    from_utc_timestamp,\n",
    "    date_format,\n",
    "    dayofweek,\n",
    "    sum\n",
    ")\n",
    "\n",
    "from pyspark.sql.types import (\n",
    "    StringType,\n",
    ")"
   ]
  },
  {
   "cell_type": "markdown",
   "metadata": {
    "application/vnd.databricks.v1+cell": {
     "cellMetadata": {
      "byteLimit": 2048000,
      "rowLimit": 10000
     },
     "inputWidgets": {},
     "nuid": "3dfc1d5f-46e6-4b17-b800-2b7f40e4bbd8",
     "showTitle": false,
     "title": ""
    }
   },
   "source": [
    "\n",
    "# 2. Carregando sparkDFs"
   ]
  },
  {
   "cell_type": "markdown",
   "metadata": {
    "application/vnd.databricks.v1+cell": {
     "cellMetadata": {
      "byteLimit": 2048000,
      "rowLimit": 10000
     },
     "inputWidgets": {},
     "nuid": "d0dd8933-2fad-43d2-88f6-ae0aadd9d31c",
     "showTitle": false,
     "title": ""
    }
   },
   "source": [
    "\n",
    "## 2.1. Total payment order"
   ]
  },
  {
   "cell_type": "code",
   "execution_count": 0,
   "metadata": {
    "application/vnd.databricks.v1+cell": {
     "cellMetadata": {
      "byteLimit": 2048000,
      "rowLimit": 10000
     },
     "inputWidgets": {},
     "nuid": "9b1f14c0-3078-427e-91f0-f2ad5874a1a0",
     "showTitle": false,
     "title": ""
    }
   },
   "outputs": [],
   "source": [
    "# Local do arquivo Delta\n",
    "path_to_delta_table = \"dbfs:/FileStore/Datum/KaggleOlistData/silver/delta/order_payments\"\n",
    "\n",
    "# Ler o arquivo Delta como um DataFrame\n",
    "df_order_payments = spark.read.format(\"delta\").load(path_to_delta_table)"
   ]
  },
  {
   "cell_type": "code",
   "execution_count": 0,
   "metadata": {
    "application/vnd.databricks.v1+cell": {
     "cellMetadata": {
      "byteLimit": 2048000,
      "rowLimit": 10000
     },
     "inputWidgets": {},
     "nuid": "d4bdc36d-2fa1-4263-a42d-b1ee085560a2",
     "showTitle": false,
     "title": ""
    }
   },
   "outputs": [
    {
     "output_type": "display_data",
     "data": {
      "text/html": [
       "<style scoped>\n",
       "  .table-result-container {\n",
       "    max-height: 300px;\n",
       "    overflow: auto;\n",
       "  }\n",
       "  table, th, td {\n",
       "    border: 1px solid black;\n",
       "    border-collapse: collapse;\n",
       "  }\n",
       "  th, td {\n",
       "    padding: 5px;\n",
       "  }\n",
       "  th {\n",
       "    text-align: left;\n",
       "  }\n",
       "</style><div class='table-result-container'><table class='table-result'><thead style='background-color: white'><tr><th>order_id</th><th>payment_sequential</th><th>payment_type</th><th>payment_installments</th><th>payment_value</th></tr></thead><tbody><tr><td>b81ef226f3fe1789b1e8b2acac839d17</td><td>1</td><td>credit_card</td><td>8</td><td>99.330000000000000000</td></tr><tr><td>a9810da82917af2d9aefd1278f1dcfa0</td><td>1</td><td>credit_card</td><td>1</td><td>24.390000000000000000</td></tr><tr><td>25e8ea4e93396b6fa0d3dd708e76c1bd</td><td>1</td><td>credit_card</td><td>1</td><td>65.710000000000000000</td></tr><tr><td>ba78997921bbcdc1373bb41e913ab953</td><td>1</td><td>credit_card</td><td>8</td><td>107.780000000000000000</td></tr><tr><td>42fdf880ba16b47b59251dd489d4441a</td><td>1</td><td>credit_card</td><td>2</td><td>128.450000000000000000</td></tr><tr><td>298fcdf1f73eb413e4d26d01b25bc1cd</td><td>1</td><td>credit_card</td><td>2</td><td>96.120000000000000000</td></tr><tr><td>771ee386b001f06208a7419e4fc1bbd7</td><td>1</td><td>credit_card</td><td>1</td><td>81.160000000000000000</td></tr><tr><td>3d7239c394a212faae122962df514ac7</td><td>1</td><td>credit_card</td><td>3</td><td>51.840000000000000000</td></tr><tr><td>1f78449c87a54faf9e96e88ba1491fa9</td><td>1</td><td>credit_card</td><td>6</td><td>341.090000000000000000</td></tr><tr><td>0573b5e23cbd798006520e1d5b4c6714</td><td>1</td><td>boleto</td><td>1</td><td>51.950000000000000000</td></tr></tbody></table></div>"
      ]
     },
     "metadata": {
      "application/vnd.databricks.v1+output": {
       "addedWidgets": {},
       "aggData": [],
       "aggError": "",
       "aggOverflow": false,
       "aggSchema": [],
       "aggSeriesLimitReached": false,
       "aggType": "",
       "arguments": {},
       "columnCustomDisplayInfos": {},
       "data": [
        [
         "b81ef226f3fe1789b1e8b2acac839d17",
         1,
         "credit_card",
         8,
         "99.330000000000000000"
        ],
        [
         "a9810da82917af2d9aefd1278f1dcfa0",
         1,
         "credit_card",
         1,
         "24.390000000000000000"
        ],
        [
         "25e8ea4e93396b6fa0d3dd708e76c1bd",
         1,
         "credit_card",
         1,
         "65.710000000000000000"
        ],
        [
         "ba78997921bbcdc1373bb41e913ab953",
         1,
         "credit_card",
         8,
         "107.780000000000000000"
        ],
        [
         "42fdf880ba16b47b59251dd489d4441a",
         1,
         "credit_card",
         2,
         "128.450000000000000000"
        ],
        [
         "298fcdf1f73eb413e4d26d01b25bc1cd",
         1,
         "credit_card",
         2,
         "96.120000000000000000"
        ],
        [
         "771ee386b001f06208a7419e4fc1bbd7",
         1,
         "credit_card",
         1,
         "81.160000000000000000"
        ],
        [
         "3d7239c394a212faae122962df514ac7",
         1,
         "credit_card",
         3,
         "51.840000000000000000"
        ],
        [
         "1f78449c87a54faf9e96e88ba1491fa9",
         1,
         "credit_card",
         6,
         "341.090000000000000000"
        ],
        [
         "0573b5e23cbd798006520e1d5b4c6714",
         1,
         "boleto",
         1,
         "51.950000000000000000"
        ]
       ],
       "datasetInfos": [],
       "dbfsResultPath": null,
       "isJsonSchema": true,
       "metadata": {},
       "overflow": false,
       "plotOptions": {
        "customPlotOptions": {},
        "displayType": "table",
        "pivotAggregation": null,
        "pivotColumns": null,
        "xColumns": null,
        "yColumns": null
       },
       "removedWidgets": [],
       "schema": [
        {
         "metadata": "{}",
         "name": "order_id",
         "type": "\"string\""
        },
        {
         "metadata": "{}",
         "name": "payment_sequential",
         "type": "\"long\""
        },
        {
         "metadata": "{}",
         "name": "payment_type",
         "type": "\"string\""
        },
        {
         "metadata": "{}",
         "name": "payment_installments",
         "type": "\"long\""
        },
        {
         "metadata": "{}",
         "name": "payment_value",
         "type": "\"decimal(38,18)\""
        }
       ],
       "type": "table"
      }
     },
     "output_type": "display_data"
    }
   ],
   "source": [
    "display(df_order_payments.take(10))"
   ]
  },
  {
   "cell_type": "markdown",
   "metadata": {
    "application/vnd.databricks.v1+cell": {
     "cellMetadata": {
      "byteLimit": 2048000,
      "rowLimit": 10000
     },
     "inputWidgets": {},
     "nuid": "df73f7ca-6cf6-4423-b844-d23f4529281f",
     "showTitle": false,
     "title": ""
    }
   },
   "source": [
    "\n",
    "## 2.2 Orders"
   ]
  },
  {
   "cell_type": "code",
   "execution_count": 0,
   "metadata": {
    "application/vnd.databricks.v1+cell": {
     "cellMetadata": {
      "byteLimit": 2048000,
      "rowLimit": 10000
     },
     "inputWidgets": {},
     "nuid": "358d5bf0-8af5-459d-8612-7681b2c560a8",
     "showTitle": false,
     "title": ""
    }
   },
   "outputs": [],
   "source": [
    "# Local do arquivo Delta\n",
    "path_to_delta_table = \"dbfs:/FileStore/Datum/KaggleOlistData/silver/delta/orders\"\n",
    "\n",
    "# Ler o arquivo Delta como um DataFrame\n",
    "df_orders = spark.read.format(\"delta\").load(path_to_delta_table)"
   ]
  },
  {
   "cell_type": "code",
   "execution_count": 0,
   "metadata": {
    "application/vnd.databricks.v1+cell": {
     "cellMetadata": {
      "byteLimit": 2048000,
      "rowLimit": 10000
     },
     "inputWidgets": {},
     "nuid": "ecd486e3-542d-478e-96fe-c1102b816acd",
     "showTitle": false,
     "title": ""
    }
   },
   "outputs": [
    {
     "output_type": "display_data",
     "data": {
      "text/html": [
       "<style scoped>\n",
       "  .table-result-container {\n",
       "    max-height: 300px;\n",
       "    overflow: auto;\n",
       "  }\n",
       "  table, th, td {\n",
       "    border: 1px solid black;\n",
       "    border-collapse: collapse;\n",
       "  }\n",
       "  th, td {\n",
       "    padding: 5px;\n",
       "  }\n",
       "  th {\n",
       "    text-align: left;\n",
       "  }\n",
       "</style><div class='table-result-container'><table class='table-result'><thead style='background-color: white'><tr><th>order_id</th><th>customer_id</th><th>order_status</th><th>order_purchase_timestamp</th><th>order_approved_at</th><th>order_delivered_carrier_date</th><th>order_delivered_customer_date</th><th>order_estimated_delivery_date</th><th>delivery_time_diff</th></tr></thead><tbody><tr><td>e481f51cbdc54678b7cc49136f2d6af7</td><td>9ef432eb6251297304e76186b10a928d</td><td>delivered</td><td>2017-10-02T10:56:33Z</td><td>2017-10-02T11:07:15Z</td><td>2017-10-04T19:55:00Z</td><td>2017-10-10T21:25:13Z</td><td>2017-10-18T00:00:00Z</td><td>-8</td></tr><tr><td>53cdb2fc8bc7dce0b6741e2150273451</td><td>b0830fb4747a6c6d20dea0b8c802d7ef</td><td>delivered</td><td>2018-07-24T20:41:37Z</td><td>2018-07-26T03:24:27Z</td><td>2018-07-26T14:31:00Z</td><td>2018-08-07T15:27:45Z</td><td>2018-08-13T00:00:00Z</td><td>-6</td></tr><tr><td>47770eb9100c2d0c44946d9cf07ec65d</td><td>41ce2a54c0b03bf3443c3d931a367089</td><td>delivered</td><td>2018-08-08T08:38:49Z</td><td>2018-08-08T08:55:23Z</td><td>2018-08-08T13:50:00Z</td><td>2018-08-17T18:06:29Z</td><td>2018-09-04T00:00:00Z</td><td>-18</td></tr><tr><td>949d5b44dbf5de918fe9c16f97b45f8a</td><td>f88197465ea7920adcdbec7375364d82</td><td>delivered</td><td>2017-11-18T19:28:06Z</td><td>2017-11-18T19:45:59Z</td><td>2017-11-22T13:39:59Z</td><td>2017-12-02T00:28:42Z</td><td>2017-12-15T00:00:00Z</td><td>-13</td></tr><tr><td>ad21c59c0840e6cb83a9ceb5573f8159</td><td>8ab97904e6daea8866dbdbc4fb7aad2c</td><td>delivered</td><td>2018-02-13T21:18:39Z</td><td>2018-02-13T22:20:29Z</td><td>2018-02-14T19:46:34Z</td><td>2018-02-16T18:17:02Z</td><td>2018-02-26T00:00:00Z</td><td>-10</td></tr><tr><td>a4591c265e18cb1dcee52889e2d8acc3</td><td>503740e9ca751ccdda7ba28e9ab8f608</td><td>delivered</td><td>2017-07-09T21:57:05Z</td><td>2017-07-09T22:10:13Z</td><td>2017-07-11T14:58:04Z</td><td>2017-07-26T10:57:55Z</td><td>2017-08-01T00:00:00Z</td><td>-6</td></tr><tr><td>136cce7faa42fdb2cefd53fdc79a6098</td><td>ed0271e0b7da060a393796590e7b737a</td><td>invoiced</td><td>2017-04-11T12:22:08Z</td><td>2017-04-13T13:25:17Z</td><td>null</td><td>null</td><td>2017-05-09T00:00:00Z</td><td>null</td></tr><tr><td>6514b8ad8028c9f2cc2374ded245783f</td><td>9bdf08b4b3b52b5526ff42d37d47f222</td><td>delivered</td><td>2017-05-16T13:10:30Z</td><td>2017-05-16T13:22:11Z</td><td>2017-05-22T10:07:46Z</td><td>2017-05-26T12:55:51Z</td><td>2017-06-07T00:00:00Z</td><td>-12</td></tr><tr><td>76c6e866289321a7c93b82b54852dc33</td><td>f54a9f0e6b351c431402b8461ea51999</td><td>delivered</td><td>2017-01-23T18:29:09Z</td><td>2017-01-25T02:50:47Z</td><td>2017-01-26T14:16:31Z</td><td>2017-02-02T14:08:10Z</td><td>2017-03-06T00:00:00Z</td><td>-32</td></tr><tr><td>e69bfb5eb88e0ed6a785585b27e16dbf</td><td>31ad1d1b63eb9962463f764d4e6e0c9d</td><td>delivered</td><td>2017-07-29T11:55:02Z</td><td>2017-07-29T12:05:32Z</td><td>2017-08-10T19:45:24Z</td><td>2017-08-16T17:14:30Z</td><td>2017-08-23T00:00:00Z</td><td>-7</td></tr></tbody></table></div>"
      ]
     },
     "metadata": {
      "application/vnd.databricks.v1+output": {
       "addedWidgets": {},
       "aggData": [],
       "aggError": "",
       "aggOverflow": false,
       "aggSchema": [],
       "aggSeriesLimitReached": false,
       "aggType": "",
       "arguments": {},
       "columnCustomDisplayInfos": {},
       "data": [
        [
         "e481f51cbdc54678b7cc49136f2d6af7",
         "9ef432eb6251297304e76186b10a928d",
         "delivered",
         "2017-10-02T10:56:33Z",
         "2017-10-02T11:07:15Z",
         "2017-10-04T19:55:00Z",
         "2017-10-10T21:25:13Z",
         "2017-10-18T00:00:00Z",
         -8
        ],
        [
         "53cdb2fc8bc7dce0b6741e2150273451",
         "b0830fb4747a6c6d20dea0b8c802d7ef",
         "delivered",
         "2018-07-24T20:41:37Z",
         "2018-07-26T03:24:27Z",
         "2018-07-26T14:31:00Z",
         "2018-08-07T15:27:45Z",
         "2018-08-13T00:00:00Z",
         -6
        ],
        [
         "47770eb9100c2d0c44946d9cf07ec65d",
         "41ce2a54c0b03bf3443c3d931a367089",
         "delivered",
         "2018-08-08T08:38:49Z",
         "2018-08-08T08:55:23Z",
         "2018-08-08T13:50:00Z",
         "2018-08-17T18:06:29Z",
         "2018-09-04T00:00:00Z",
         -18
        ],
        [
         "949d5b44dbf5de918fe9c16f97b45f8a",
         "f88197465ea7920adcdbec7375364d82",
         "delivered",
         "2017-11-18T19:28:06Z",
         "2017-11-18T19:45:59Z",
         "2017-11-22T13:39:59Z",
         "2017-12-02T00:28:42Z",
         "2017-12-15T00:00:00Z",
         -13
        ],
        [
         "ad21c59c0840e6cb83a9ceb5573f8159",
         "8ab97904e6daea8866dbdbc4fb7aad2c",
         "delivered",
         "2018-02-13T21:18:39Z",
         "2018-02-13T22:20:29Z",
         "2018-02-14T19:46:34Z",
         "2018-02-16T18:17:02Z",
         "2018-02-26T00:00:00Z",
         -10
        ],
        [
         "a4591c265e18cb1dcee52889e2d8acc3",
         "503740e9ca751ccdda7ba28e9ab8f608",
         "delivered",
         "2017-07-09T21:57:05Z",
         "2017-07-09T22:10:13Z",
         "2017-07-11T14:58:04Z",
         "2017-07-26T10:57:55Z",
         "2017-08-01T00:00:00Z",
         -6
        ],
        [
         "136cce7faa42fdb2cefd53fdc79a6098",
         "ed0271e0b7da060a393796590e7b737a",
         "invoiced",
         "2017-04-11T12:22:08Z",
         "2017-04-13T13:25:17Z",
         null,
         null,
         "2017-05-09T00:00:00Z",
         null
        ],
        [
         "6514b8ad8028c9f2cc2374ded245783f",
         "9bdf08b4b3b52b5526ff42d37d47f222",
         "delivered",
         "2017-05-16T13:10:30Z",
         "2017-05-16T13:22:11Z",
         "2017-05-22T10:07:46Z",
         "2017-05-26T12:55:51Z",
         "2017-06-07T00:00:00Z",
         -12
        ],
        [
         "76c6e866289321a7c93b82b54852dc33",
         "f54a9f0e6b351c431402b8461ea51999",
         "delivered",
         "2017-01-23T18:29:09Z",
         "2017-01-25T02:50:47Z",
         "2017-01-26T14:16:31Z",
         "2017-02-02T14:08:10Z",
         "2017-03-06T00:00:00Z",
         -32
        ],
        [
         "e69bfb5eb88e0ed6a785585b27e16dbf",
         "31ad1d1b63eb9962463f764d4e6e0c9d",
         "delivered",
         "2017-07-29T11:55:02Z",
         "2017-07-29T12:05:32Z",
         "2017-08-10T19:45:24Z",
         "2017-08-16T17:14:30Z",
         "2017-08-23T00:00:00Z",
         -7
        ]
       ],
       "datasetInfos": [],
       "dbfsResultPath": null,
       "isJsonSchema": true,
       "metadata": {},
       "overflow": false,
       "plotOptions": {
        "customPlotOptions": {},
        "displayType": "table",
        "pivotAggregation": null,
        "pivotColumns": null,
        "xColumns": null,
        "yColumns": null
       },
       "removedWidgets": [],
       "schema": [
        {
         "metadata": "{}",
         "name": "order_id",
         "type": "\"string\""
        },
        {
         "metadata": "{}",
         "name": "customer_id",
         "type": "\"string\""
        },
        {
         "metadata": "{}",
         "name": "order_status",
         "type": "\"string\""
        },
        {
         "metadata": "{}",
         "name": "order_purchase_timestamp",
         "type": "\"timestamp\""
        },
        {
         "metadata": "{}",
         "name": "order_approved_at",
         "type": "\"timestamp\""
        },
        {
         "metadata": "{}",
         "name": "order_delivered_carrier_date",
         "type": "\"timestamp\""
        },
        {
         "metadata": "{}",
         "name": "order_delivered_customer_date",
         "type": "\"timestamp\""
        },
        {
         "metadata": "{}",
         "name": "order_estimated_delivery_date",
         "type": "\"timestamp\""
        },
        {
         "metadata": "{}",
         "name": "delivery_time_diff",
         "type": "\"long\""
        }
       ],
       "type": "table"
      }
     },
     "output_type": "display_data"
    }
   ],
   "source": [
    "display(df_orders.take(10))"
   ]
  },
  {
   "cell_type": "code",
   "execution_count": 0,
   "metadata": {
    "application/vnd.databricks.v1+cell": {
     "cellMetadata": {
      "byteLimit": 2048000,
      "rowLimit": 10000
     },
     "inputWidgets": {},
     "nuid": "8816e4d4-6d10-4bef-9150-e9e63f35e7ef",
     "showTitle": false,
     "title": ""
    }
   },
   "outputs": [],
   "source": [
    "del path_to_delta_table"
   ]
  },
  {
   "cell_type": "markdown",
   "metadata": {
    "application/vnd.databricks.v1+cell": {
     "cellMetadata": {
      "byteLimit": 2048000,
      "rowLimit": 10000
     },
     "inputWidgets": {},
     "nuid": "44ac9725-a65d-42b3-a8cd-2d4a527ed68e",
     "showTitle": false,
     "title": ""
    }
   },
   "source": [
    "\n",
    "# 3. Identificando Padrões de Compra\n",
    "\n",
    "> Teste Prático -> Introduza uma regra mais complexa, como identificar padrões de comportamento de compra ao longo do tempo ou criar categorias personalizadas de produtos com base em determinados critérios."
   ]
  },
  {
   "cell_type": "markdown",
   "metadata": {
    "application/vnd.databricks.v1+cell": {
     "cellMetadata": {
      "byteLimit": 2048000,
      "rowLimit": 10000
     },
     "inputWidgets": {},
     "nuid": "bef70c94-1e93-40e5-a4e2-0a6c28130223",
     "showTitle": false,
     "title": ""
    }
   },
   "source": [
    "\n",
    "## 3.1 Identificação do dia da semana, por mês, que gera o maior valor de venda"
   ]
  },
  {
   "cell_type": "code",
   "execution_count": 0,
   "metadata": {
    "application/vnd.databricks.v1+cell": {
     "cellMetadata": {
      "byteLimit": 2048000,
      "rowLimit": 10000
     },
     "inputWidgets": {},
     "nuid": "ceed31f6-90e8-4803-bbc9-7867ed4ade5a",
     "showTitle": false,
     "title": ""
    }
   },
   "outputs": [],
   "source": [
    "df_total_payment_order = df_order_payments.groupBy(\"order_id\").agg(\n",
    "    sum(\"payment_value\").alias(\"total_payment_value\")\n",
    ")"
   ]
  },
  {
   "cell_type": "code",
   "execution_count": 0,
   "metadata": {
    "application/vnd.databricks.v1+cell": {
     "cellMetadata": {
      "byteLimit": 2048000,
      "rowLimit": 10000
     },
     "inputWidgets": {},
     "nuid": "009b242c-b0bb-4633-8808-6916f5e7c8bc",
     "showTitle": false,
     "title": ""
    }
   },
   "outputs": [],
   "source": [
    "df_total_payment_order_with_weekday = df_total_payment_order.join(\n",
    "    df_orders,\n",
    "    df_total_payment_order.order_id == df_orders.order_id,\n",
    "    \"left\",\n",
    ").select(\n",
    "    df_total_payment_order[\"*\"],\n",
    "    df_orders[\"customer_id\"],\n",
    "    df_orders[\"order_purchase_timestamp\"],\n",
    ")"
   ]
  },
  {
   "cell_type": "code",
   "execution_count": 0,
   "metadata": {
    "application/vnd.databricks.v1+cell": {
     "cellMetadata": {
      "byteLimit": 2048000,
      "rowLimit": 10000
     },
     "inputWidgets": {},
     "nuid": "04264b9f-a05a-458b-ac5b-27ab32447879",
     "showTitle": false,
     "title": ""
    }
   },
   "outputs": [],
   "source": [
    "# Criando coluna com em BRT Timezone\n",
    "df_total_payment_order_with_weekday = df_total_payment_order_with_weekday.withColumn(\n",
    "    \"brt_timestamp\", from_utc_timestamp(\"order_purchase_timestamp\", \"America/Sao_Paulo\")\n",
    ")\n",
    "\n",
    "# \"Retirando\" o Z (Zulu Time), do brt_timestamp, para não gerar confução na interpretação do timestamp:\n",
    "df_total_payment_order_with_weekday = df_total_payment_order_with_weekday.withColumn(\n",
    "    \"brt_formatted\", date_format(\"brt_timestamp\", \"yyyy-MM-dd HH:mm:ss\")\n",
    ")\n",
    "\n",
    "# Criando coluna com o dia da semana como número\n",
    "df_total_payment_order_with_weekday = df_total_payment_order_with_weekday.withColumn(\n",
    "    \"day_of_week_num\", dayofweek(\"brt_formatted\")\n",
    ")\n",
    "\n",
    "# Criando coluna com o dia da semana como nome\n",
    "df_total_payment_order_with_weekday = df_total_payment_order_with_weekday.withColumn(\n",
    "    \"day_of_week_name\", date_format(\"brt_formatted\", \"EEEE\")\n",
    ")\n",
    "\n",
    "# Selecionando e renomeando as colunas desejadas\n",
    "df_total_payment_order_with_weekday = df_total_payment_order_with_weekday.select(\n",
    "    \"order_id\",\n",
    "    \"total_payment_value\",\n",
    "    \"customer_id\",\n",
    "    df_total_payment_order_with_weekday.brt_formatted.alias(\n",
    "        \"order_purchase_timestamp_brt\"\n",
    "    ),\n",
    "    \"day_of_week_num\",\n",
    "    \"day_of_week_name\",\n",
    ")"
   ]
  },
  {
   "cell_type": "code",
   "execution_count": 0,
   "metadata": {
    "application/vnd.databricks.v1+cell": {
     "cellMetadata": {
      "byteLimit": 2048000,
      "rowLimit": 10000
     },
     "inputWidgets": {},
     "nuid": "7144948f-2e08-4d91-ab84-b911753a7dd4",
     "showTitle": false,
     "title": ""
    }
   },
   "outputs": [
    {
     "output_type": "display_data",
     "data": {
      "text/html": [
       "<style scoped>\n",
       "  .table-result-container {\n",
       "    max-height: 300px;\n",
       "    overflow: auto;\n",
       "  }\n",
       "  table, th, td {\n",
       "    border: 1px solid black;\n",
       "    border-collapse: collapse;\n",
       "  }\n",
       "  th, td {\n",
       "    padding: 5px;\n",
       "  }\n",
       "  th {\n",
       "    text-align: left;\n",
       "  }\n",
       "</style><div class='table-result-container'><table class='table-result'><thead style='background-color: white'><tr><th>order_id</th><th>total_payment_value</th><th>customer_id</th><th>order_purchase_timestamp_brt</th><th>day_of_week_num</th><th>day_of_week_name</th></tr></thead><tbody><tr><td>bb2d7e3141540afc268df7ef6580fc75</td><td>37.150000000000000000</td><td>8b325e34eab50c4b1e54500a3ff31e6e</td><td>2018-08-09 13:28:34</td><td>5</td><td>Thursday</td></tr><tr><td>85be7c94bcd3f908fc877157ee21f755</td><td>72.750000000000000000</td><td>54b307e9a6121f572faef4f220fbac3a</td><td>2017-09-21 19:00:36</td><td>5</td><td>Thursday</td></tr><tr><td>8ca5bdac5ebe8f2d6fc9171d5ebc906a</td><td>189.080000000000000000</td><td>155716e7d7dbee88852ff931b86889aa</td><td>2018-03-18 19:58:56</td><td>1</td><td>Sunday</td></tr><tr><td>54066aeaaf3ac32e7bb6e45aa3bf65e4</td><td>148.060000000000000000</td><td>6a0fdc8625275b516a4cf721d28261f8</td><td>2017-06-01 08:22:39</td><td>5</td><td>Thursday</td></tr><tr><td>5db54d41d5ebd6d76cb69223355601f5</td><td>136.260000000000000000</td><td>fe66ded86a1678a8ad544e4c78447348</td><td>2017-03-02 15:53:45</td><td>5</td><td>Thursday</td></tr><tr><td>41537821ce113ccef16d0e4b303f1230</td><td>89.270000000000000000</td><td>0312590499e722678eeb292f4da77e77</td><td>2017-12-11 11:56:03</td><td>2</td><td>Monday</td></tr><tr><td>beca5b5e9460824d84352c01cb89b421</td><td>239.500000000000000000</td><td>18c39fea8fbb5612f4e5b8bbecf60d5b</td><td>2018-01-30 09:03:14</td><td>3</td><td>Tuesday</td></tr><tr><td>33f1e992ba3e439bfd0d432164a3d44a</td><td>248.510000000000000000</td><td>ef898057565789279a822bd22a0b6dc0</td><td>2018-03-01 09:57:42</td><td>5</td><td>Thursday</td></tr><tr><td>3fa59277573f0fe06ece044ebec2eb02</td><td>91.050000000000000000</td><td>ee1fb534e64d33fcb16a1023dc721a24</td><td>2018-01-12 19:59:20</td><td>6</td><td>Friday</td></tr><tr><td>e239d280236cdd3c40cb2c033f681d1c</td><td>102.030000000000000000</td><td>8f3b9d3f52f2f606b6675ef3d7d85e7b</td><td>2018-03-01 15:32:58</td><td>5</td><td>Thursday</td></tr></tbody></table></div>"
      ]
     },
     "metadata": {
      "application/vnd.databricks.v1+output": {
       "addedWidgets": {},
       "aggData": [],
       "aggError": "",
       "aggOverflow": false,
       "aggSchema": [],
       "aggSeriesLimitReached": false,
       "aggType": "",
       "arguments": {},
       "columnCustomDisplayInfos": {},
       "data": [
        [
         "bb2d7e3141540afc268df7ef6580fc75",
         "37.150000000000000000",
         "8b325e34eab50c4b1e54500a3ff31e6e",
         "2018-08-09 13:28:34",
         5,
         "Thursday"
        ],
        [
         "85be7c94bcd3f908fc877157ee21f755",
         "72.750000000000000000",
         "54b307e9a6121f572faef4f220fbac3a",
         "2017-09-21 19:00:36",
         5,
         "Thursday"
        ],
        [
         "8ca5bdac5ebe8f2d6fc9171d5ebc906a",
         "189.080000000000000000",
         "155716e7d7dbee88852ff931b86889aa",
         "2018-03-18 19:58:56",
         1,
         "Sunday"
        ],
        [
         "54066aeaaf3ac32e7bb6e45aa3bf65e4",
         "148.060000000000000000",
         "6a0fdc8625275b516a4cf721d28261f8",
         "2017-06-01 08:22:39",
         5,
         "Thursday"
        ],
        [
         "5db54d41d5ebd6d76cb69223355601f5",
         "136.260000000000000000",
         "fe66ded86a1678a8ad544e4c78447348",
         "2017-03-02 15:53:45",
         5,
         "Thursday"
        ],
        [
         "41537821ce113ccef16d0e4b303f1230",
         "89.270000000000000000",
         "0312590499e722678eeb292f4da77e77",
         "2017-12-11 11:56:03",
         2,
         "Monday"
        ],
        [
         "beca5b5e9460824d84352c01cb89b421",
         "239.500000000000000000",
         "18c39fea8fbb5612f4e5b8bbecf60d5b",
         "2018-01-30 09:03:14",
         3,
         "Tuesday"
        ],
        [
         "33f1e992ba3e439bfd0d432164a3d44a",
         "248.510000000000000000",
         "ef898057565789279a822bd22a0b6dc0",
         "2018-03-01 09:57:42",
         5,
         "Thursday"
        ],
        [
         "3fa59277573f0fe06ece044ebec2eb02",
         "91.050000000000000000",
         "ee1fb534e64d33fcb16a1023dc721a24",
         "2018-01-12 19:59:20",
         6,
         "Friday"
        ],
        [
         "e239d280236cdd3c40cb2c033f681d1c",
         "102.030000000000000000",
         "8f3b9d3f52f2f606b6675ef3d7d85e7b",
         "2018-03-01 15:32:58",
         5,
         "Thursday"
        ]
       ],
       "datasetInfos": [],
       "dbfsResultPath": null,
       "isJsonSchema": true,
       "metadata": {},
       "overflow": false,
       "plotOptions": {
        "customPlotOptions": {},
        "displayType": "table",
        "pivotAggregation": null,
        "pivotColumns": null,
        "xColumns": null,
        "yColumns": null
       },
       "removedWidgets": [],
       "schema": [
        {
         "metadata": "{}",
         "name": "order_id",
         "type": "\"string\""
        },
        {
         "metadata": "{}",
         "name": "total_payment_value",
         "type": "\"decimal(38,18)\""
        },
        {
         "metadata": "{}",
         "name": "customer_id",
         "type": "\"string\""
        },
        {
         "metadata": "{}",
         "name": "order_purchase_timestamp_brt",
         "type": "\"string\""
        },
        {
         "metadata": "{}",
         "name": "day_of_week_num",
         "type": "\"long\""
        },
        {
         "metadata": "{}",
         "name": "day_of_week_name",
         "type": "\"string\""
        }
       ],
       "type": "table"
      }
     },
     "output_type": "display_data"
    }
   ],
   "source": [
    "display(df_total_payment_order_with_weekday.take(10))"
   ]
  },
  {
   "cell_type": "code",
   "execution_count": 0,
   "metadata": {
    "application/vnd.databricks.v1+cell": {
     "cellMetadata": {
      "byteLimit": 2048000,
      "rowLimit": 10000
     },
     "inputWidgets": {},
     "nuid": "57f3a641-dc3c-4ba1-8c73-49f7f319e78e",
     "showTitle": false,
     "title": ""
    }
   },
   "outputs": [],
   "source": [
    "df_total_payment_sum_per_weekday = df_total_payment_order_with_weekday.groupBy(\n",
    "    \"day_of_week_name\"\n",
    ").agg(sum(\"total_payment_value\"))"
   ]
  },
  {
   "cell_type": "code",
   "execution_count": 0,
   "metadata": {
    "application/vnd.databricks.v1+cell": {
     "cellMetadata": {
      "byteLimit": 2048000,
      "rowLimit": 10000
     },
     "inputWidgets": {},
     "nuid": "8e1af5db-3bd2-43ee-b898-f75784904eca",
     "showTitle": false,
     "title": ""
    }
   },
   "outputs": [
    {
     "output_type": "display_data",
     "data": {
      "text/html": [
       "<style scoped>\n",
       "  .table-result-container {\n",
       "    max-height: 300px;\n",
       "    overflow: auto;\n",
       "  }\n",
       "  table, th, td {\n",
       "    border: 1px solid black;\n",
       "    border-collapse: collapse;\n",
       "  }\n",
       "  th, td {\n",
       "    padding: 5px;\n",
       "  }\n",
       "  th {\n",
       "    text-align: left;\n",
       "  }\n",
       "</style><div class='table-result-container'><table class='table-result'><thead style='background-color: white'><tr><th>day_of_week_name</th><th>sum(total_payment_value)</th></tr></thead><tbody><tr><td>Wednesday</td><td>2481998.830000000000000000</td></tr><tr><td>Tuesday</td><td>2580433.480000000000000000</td></tr><tr><td>Friday</td><td>2268808.260000000000000000</td></tr><tr><td>Thursday</td><td>2409388.460000000000000000</td></tr><tr><td>Saturday</td><td>1766722.480000000000000000</td></tr><tr><td>Monday</td><td>2629227.920000000000000000</td></tr><tr><td>Sunday</td><td>1872292.690000000000000000</td></tr></tbody></table></div>"
      ]
     },
     "metadata": {
      "application/vnd.databricks.v1+output": {
       "addedWidgets": {},
       "aggData": [],
       "aggError": "",
       "aggOverflow": false,
       "aggSchema": [],
       "aggSeriesLimitReached": false,
       "aggType": "",
       "arguments": {},
       "columnCustomDisplayInfos": {},
       "data": [
        [
         "Wednesday",
         "2481998.830000000000000000"
        ],
        [
         "Tuesday",
         "2580433.480000000000000000"
        ],
        [
         "Friday",
         "2268808.260000000000000000"
        ],
        [
         "Thursday",
         "2409388.460000000000000000"
        ],
        [
         "Saturday",
         "1766722.480000000000000000"
        ],
        [
         "Monday",
         "2629227.920000000000000000"
        ],
        [
         "Sunday",
         "1872292.690000000000000000"
        ]
       ],
       "datasetInfos": [],
       "dbfsResultPath": null,
       "isJsonSchema": true,
       "metadata": {},
       "overflow": false,
       "plotOptions": {
        "customPlotOptions": {},
        "displayType": "table",
        "pivotAggregation": null,
        "pivotColumns": null,
        "xColumns": null,
        "yColumns": null
       },
       "removedWidgets": [],
       "schema": [
        {
         "metadata": "{}",
         "name": "day_of_week_name",
         "type": "\"string\""
        },
        {
         "metadata": "{}",
         "name": "sum(total_payment_value)",
         "type": "\"decimal(38,18)\""
        }
       ],
       "type": "table"
      }
     },
     "output_type": "display_data"
    }
   ],
   "source": [
    "display(df_total_payment_sum_per_weekday.take(10))"
   ]
  },
  {
   "cell_type": "code",
   "execution_count": 0,
   "metadata": {
    "application/vnd.databricks.v1+cell": {
     "cellMetadata": {
      "byteLimit": 2048000,
      "rowLimit": 10000
     },
     "inputWidgets": {},
     "nuid": "930890bf-3aad-4cf9-a4a0-3629652f598a",
     "showTitle": false,
     "title": ""
    }
   },
   "outputs": [],
   "source": [
    "# cast timestamp em order_purchase_timestamp_brt\n",
    "df_total_payment_order_with_weekday = df_total_payment_order_with_weekday.withColumn(\n",
    "    \"order_purchase_timestamp_brt\",\n",
    "    df_total_payment_order_with_weekday[\"order_purchase_timestamp_brt\"].cast(\n",
    "        \"timestamp\"\n",
    "    ),\n",
    ")\n",
    "\n",
    "# Adicionando uma coluna para ano e mês no formato 'yyyy-MM'\n",
    "df_total_payment_order_with_weekday = df_total_payment_order_with_weekday.withColumn(\n",
    "    \"year_month\", date_format(\"order_purchase_timestamp_brt\", \"yyyy-MM\")\n",
    ")\n",
    "\n",
    "# Agrupando por ano-mês e dia da semana e calculando a soma\n",
    "df_total_sales_by_month_by_day = (\n",
    "    df_total_payment_order_with_weekday.groupBy(\"year_month\", \"day_of_week_name\")\n",
    "    .agg(sum(\"total_payment_value\").alias(\"total_sales\"))\n",
    "    .orderBy(\"year_month\", \"total_sales\", ascending=[0, 0])\n",
    ")"
   ]
  },
  {
   "cell_type": "code",
   "execution_count": 0,
   "metadata": {
    "application/vnd.databricks.v1+cell": {
     "cellMetadata": {
      "byteLimit": 2048000,
      "rowLimit": 10000
     },
     "inputWidgets": {},
     "nuid": "bb39611a-f5d3-4a53-82f2-cf1d75212e5e",
     "showTitle": false,
     "title": ""
    }
   },
   "outputs": [
    {
     "output_type": "display_data",
     "data": {
      "text/html": [
       "<style scoped>\n",
       "  .table-result-container {\n",
       "    max-height: 300px;\n",
       "    overflow: auto;\n",
       "  }\n",
       "  table, th, td {\n",
       "    border: 1px solid black;\n",
       "    border-collapse: collapse;\n",
       "  }\n",
       "  th, td {\n",
       "    padding: 5px;\n",
       "  }\n",
       "  th {\n",
       "    text-align: left;\n",
       "  }\n",
       "</style><div class='table-result-container'><table class='table-result'><thead style='background-color: white'><tr><th>year_month</th><th>day_of_week_name</th><th>total_sales</th></tr></thead><tbody><tr><td>2018-10</td><td>Wednesday</td><td>287.260000000000000000</td></tr><tr><td>2018-10</td><td>Tuesday</td><td>222.030000000000000000</td></tr><tr><td>2018-10</td><td>Monday</td><td>80.380000000000000000</td></tr><tr><td>2018-09</td><td>Thursday</td><td>3048.700000000000000000</td></tr><tr><td>2018-09</td><td>Monday</td><td>594.390000000000000000</td></tr><tr><td>2018-09</td><td>Tuesday</td><td>480.210000000000000000</td></tr><tr><td>2018-09</td><td>Wednesday</td><td>179.210000000000000000</td></tr><tr><td>2018-09</td><td>Saturday</td><td>137.030000000000000000</td></tr><tr><td>2018-08</td><td>Wednesday</td><td>178487.660000000000000000</td></tr><tr><td>2018-08</td><td>Monday</td><td>162395.600000000000000000</td></tr></tbody></table></div>"
      ]
     },
     "metadata": {
      "application/vnd.databricks.v1+output": {
       "addedWidgets": {},
       "aggData": [],
       "aggError": "",
       "aggOverflow": false,
       "aggSchema": [],
       "aggSeriesLimitReached": false,
       "aggType": "",
       "arguments": {},
       "columnCustomDisplayInfos": {},
       "data": [
        [
         "2018-10",
         "Wednesday",
         "287.260000000000000000"
        ],
        [
         "2018-10",
         "Tuesday",
         "222.030000000000000000"
        ],
        [
         "2018-10",
         "Monday",
         "80.380000000000000000"
        ],
        [
         "2018-09",
         "Thursday",
         "3048.700000000000000000"
        ],
        [
         "2018-09",
         "Monday",
         "594.390000000000000000"
        ],
        [
         "2018-09",
         "Tuesday",
         "480.210000000000000000"
        ],
        [
         "2018-09",
         "Wednesday",
         "179.210000000000000000"
        ],
        [
         "2018-09",
         "Saturday",
         "137.030000000000000000"
        ],
        [
         "2018-08",
         "Wednesday",
         "178487.660000000000000000"
        ],
        [
         "2018-08",
         "Monday",
         "162395.600000000000000000"
        ]
       ],
       "datasetInfos": [],
       "dbfsResultPath": null,
       "isJsonSchema": true,
       "metadata": {},
       "overflow": false,
       "plotOptions": {
        "customPlotOptions": {},
        "displayType": "table",
        "pivotAggregation": null,
        "pivotColumns": null,
        "xColumns": null,
        "yColumns": null
       },
       "removedWidgets": [],
       "schema": [
        {
         "metadata": "{}",
         "name": "year_month",
         "type": "\"string\""
        },
        {
         "metadata": "{}",
         "name": "day_of_week_name",
         "type": "\"string\""
        },
        {
         "metadata": "{}",
         "name": "total_sales",
         "type": "\"decimal(38,18)\""
        }
       ],
       "type": "table"
      }
     },
     "output_type": "display_data"
    }
   ],
   "source": [
    "display(df_total_sales_by_month_by_day.take(10))"
   ]
  },
  {
   "cell_type": "code",
   "execution_count": 0,
   "metadata": {
    "application/vnd.databricks.v1+cell": {
     "cellMetadata": {
      "byteLimit": 2048000,
      "rowLimit": 10000
     },
     "inputWidgets": {},
     "nuid": "c95384c5-23b9-42cb-8ac6-52912baf7969",
     "showTitle": false,
     "title": ""
    }
   },
   "outputs": [],
   "source": [
    "# Função de tradução de inglês para português\n",
    "def translate_weekday(weekday):\n",
    "    translations = {\n",
    "        \"Monday\": \"Segunda-feira\",\n",
    "        \"Tuesday\": \"Terça-feira\",\n",
    "        \"Wednesday\": \"Quarta-feira\",\n",
    "        \"Thursday\": \"Quinta-feira\",\n",
    "        \"Friday\": \"Sexta-feira\",\n",
    "        \"Saturday\": \"Sábado\",\n",
    "        \"Sunday\": \"Domingo\",\n",
    "    }\n",
    "    return translations.get(weekday, weekday)\n",
    "\n",
    "\n",
    "# User-Defined Function\n",
    "translate_weekday_udf = udf(translate_weekday, StringType())"
   ]
  },
  {
   "cell_type": "code",
   "execution_count": 0,
   "metadata": {
    "application/vnd.databricks.v1+cell": {
     "cellMetadata": {
      "byteLimit": 2048000,
      "rowLimit": 10000
     },
     "inputWidgets": {},
     "nuid": "2e6ba517-c0b2-4092-a503-014b62baec79",
     "showTitle": false,
     "title": ""
    }
   },
   "outputs": [],
   "source": [
    "# Aplicando a tradução à coluna \"day_of_week_name\"\n",
    "df_total_sales_by_month_by_day = df_total_sales_by_month_by_day.withColumn(\n",
    "    \"day_of_week_name\", translate_weekday_udf(df_total_sales_by_month_by_day[\"day_of_week_name\"])\n",
    ")"
   ]
  },
  {
   "cell_type": "code",
   "execution_count": 0,
   "metadata": {
    "application/vnd.databricks.v1+cell": {
     "cellMetadata": {
      "byteLimit": 2048000,
      "rowLimit": 10000
     },
     "inputWidgets": {},
     "nuid": "d68eca1e-47cd-425f-aeca-ae66eeb7159a",
     "showTitle": false,
     "title": ""
    }
   },
   "outputs": [
    {
     "output_type": "display_data",
     "data": {
      "text/html": [
       "<style scoped>\n",
       "  .table-result-container {\n",
       "    max-height: 300px;\n",
       "    overflow: auto;\n",
       "  }\n",
       "  table, th, td {\n",
       "    border: 1px solid black;\n",
       "    border-collapse: collapse;\n",
       "  }\n",
       "  th, td {\n",
       "    padding: 5px;\n",
       "  }\n",
       "  th {\n",
       "    text-align: left;\n",
       "  }\n",
       "</style><div class='table-result-container'><table class='table-result'><thead style='background-color: white'><tr><th>year_month</th><th>day_of_week_name</th><th>total_sales</th></tr></thead><tbody><tr><td>2018-10</td><td>Quarta-feira</td><td>287.260000000000000000</td></tr><tr><td>2018-10</td><td>Terça-feira</td><td>222.030000000000000000</td></tr><tr><td>2018-10</td><td>Segunda-feira</td><td>80.380000000000000000</td></tr><tr><td>2018-09</td><td>Quinta-feira</td><td>3048.700000000000000000</td></tr><tr><td>2018-09</td><td>Segunda-feira</td><td>594.390000000000000000</td></tr><tr><td>2018-09</td><td>Terça-feira</td><td>480.210000000000000000</td></tr><tr><td>2018-09</td><td>Quarta-feira</td><td>179.210000000000000000</td></tr><tr><td>2018-09</td><td>Sábado</td><td>137.030000000000000000</td></tr><tr><td>2018-08</td><td>Quarta-feira</td><td>178487.660000000000000000</td></tr><tr><td>2018-08</td><td>Segunda-feira</td><td>162395.600000000000000000</td></tr></tbody></table></div>"
      ]
     },
     "metadata": {
      "application/vnd.databricks.v1+output": {
       "addedWidgets": {},
       "aggData": [],
       "aggError": "",
       "aggOverflow": false,
       "aggSchema": [],
       "aggSeriesLimitReached": false,
       "aggType": "",
       "arguments": {},
       "columnCustomDisplayInfos": {},
       "data": [
        [
         "2018-10",
         "Quarta-feira",
         "287.260000000000000000"
        ],
        [
         "2018-10",
         "Terça-feira",
         "222.030000000000000000"
        ],
        [
         "2018-10",
         "Segunda-feira",
         "80.380000000000000000"
        ],
        [
         "2018-09",
         "Quinta-feira",
         "3048.700000000000000000"
        ],
        [
         "2018-09",
         "Segunda-feira",
         "594.390000000000000000"
        ],
        [
         "2018-09",
         "Terça-feira",
         "480.210000000000000000"
        ],
        [
         "2018-09",
         "Quarta-feira",
         "179.210000000000000000"
        ],
        [
         "2018-09",
         "Sábado",
         "137.030000000000000000"
        ],
        [
         "2018-08",
         "Quarta-feira",
         "178487.660000000000000000"
        ],
        [
         "2018-08",
         "Segunda-feira",
         "162395.600000000000000000"
        ]
       ],
       "datasetInfos": [],
       "dbfsResultPath": null,
       "isJsonSchema": true,
       "metadata": {},
       "overflow": false,
       "plotOptions": {
        "customPlotOptions": {},
        "displayType": "table",
        "pivotAggregation": null,
        "pivotColumns": null,
        "xColumns": null,
        "yColumns": null
       },
       "removedWidgets": [],
       "schema": [
        {
         "metadata": "{}",
         "name": "year_month",
         "type": "\"string\""
        },
        {
         "metadata": "{}",
         "name": "day_of_week_name",
         "type": "\"string\""
        },
        {
         "metadata": "{}",
         "name": "total_sales",
         "type": "\"decimal(38,18)\""
        }
       ],
       "type": "table"
      }
     },
     "output_type": "display_data"
    }
   ],
   "source": [
    "display(df_total_sales_by_month_by_day.take(10))"
   ]
  },
  {
   "cell_type": "code",
   "execution_count": 0,
   "metadata": {
    "application/vnd.databricks.v1+cell": {
     "cellMetadata": {
      "byteLimit": 2048000,
      "rowLimit": 10000
     },
     "inputWidgets": {},
     "nuid": "7b203e7c-09d4-4e8b-89a5-7fb76c83421d",
     "showTitle": false,
     "title": ""
    }
   },
   "outputs": [],
   "source": [
    "del df_order_payments, df_orders, df_total_payment_order, df_total_payment_order_with_weekday, df_total_payment_sum_per_weekday"
   ]
  },
  {
   "cell_type": "markdown",
   "metadata": {
    "application/vnd.databricks.v1+cell": {
     "cellMetadata": {
      "byteLimit": 2048000,
      "rowLimit": 10000
     },
     "inputWidgets": {},
     "nuid": "0660f40a-b0cb-45d1-9e80-c2039ca27751",
     "showTitle": false,
     "title": ""
    }
   },
   "source": [
    "\n",
    "# 4. Exportando dados para Delta Lake\n",
    "\n",
    "> Teste Prático -> \"Grave os mesmos dados em formato Delta Lake para aproveitar as funcionalidades de versionamento e transações ACID.\""
   ]
  },
  {
   "cell_type": "code",
   "execution_count": 0,
   "metadata": {
    "application/vnd.databricks.v1+cell": {
     "cellMetadata": {
      "byteLimit": 2048000,
      "rowLimit": 10000
     },
     "inputWidgets": {},
     "nuid": "20ede9d6-2406-4d5b-8a9d-33dcd02030a1",
     "showTitle": false,
     "title": ""
    }
   },
   "outputs": [],
   "source": [
    "df_total_sales_by_month_by_day.write.format(\"delta\").mode(\"overwrite\").option(\"mergeSchema\", \"true\").save(\n",
    "    \"dbfs:/FileStore/Datum/KaggleOlistData/gold/delta/total_sales_by_month_by_day\"\n",
    ")"
   ]
  },
  {
   "cell_type": "code",
   "execution_count": 0,
   "metadata": {
    "application/vnd.databricks.v1+cell": {
     "cellMetadata": {
      "byteLimit": 2048000,
      "rowLimit": 10000
     },
     "inputWidgets": {},
     "nuid": "764a1b3e-8d7e-4ea8-88de-5577e183d941",
     "showTitle": false,
     "title": ""
    }
   },
   "outputs": [],
   "source": [
    "del df_total_sales_by_month_by_day"
   ]
  },
  {
   "cell_type": "markdown",
   "metadata": {
    "application/vnd.databricks.v1+cell": {
     "cellMetadata": {
      "byteLimit": 2048000,
      "rowLimit": 10000
     },
     "inputWidgets": {},
     "nuid": "752550c1-e0be-42f6-9d0c-c1b10236f76b",
     "showTitle": false,
     "title": ""
    }
   },
   "source": [
    "\n",
    "# 5. Criando Delta Table"
   ]
  },
  {
   "cell_type": "code",
   "execution_count": 0,
   "metadata": {
    "application/vnd.databricks.v1+cell": {
     "cellMetadata": {
      "byteLimit": 2048000,
      "implicitDf": true,
      "rowLimit": 10000
     },
     "inputWidgets": {},
     "nuid": "3895b4e4-6d7b-43e5-aaf1-4aec237d082d",
     "showTitle": false,
     "title": ""
    }
   },
   "outputs": [
    {
     "output_type": "display_data",
     "data": {
      "text/html": [
       "<style scoped>\n",
       "  .table-result-container {\n",
       "    max-height: 300px;\n",
       "    overflow: auto;\n",
       "  }\n",
       "  table, th, td {\n",
       "    border: 1px solid black;\n",
       "    border-collapse: collapse;\n",
       "  }\n",
       "  th, td {\n",
       "    padding: 5px;\n",
       "  }\n",
       "  th {\n",
       "    text-align: left;\n",
       "  }\n",
       "</style><div class='table-result-container'><table class='table-result'><thead style='background-color: white'><tr></tr></thead><tbody></tbody></table></div>"
      ]
     },
     "metadata": {
      "application/vnd.databricks.v1+output": {
       "addedWidgets": {},
       "aggData": [],
       "aggError": "",
       "aggOverflow": false,
       "aggSchema": [],
       "aggSeriesLimitReached": false,
       "aggType": "",
       "arguments": {},
       "columnCustomDisplayInfos": {},
       "data": [],
       "datasetInfos": [],
       "dbfsResultPath": null,
       "isJsonSchema": true,
       "metadata": {
        "dataframeName": null
       },
       "overflow": false,
       "plotOptions": {
        "customPlotOptions": {},
        "displayType": "table",
        "pivotAggregation": null,
        "pivotColumns": null,
        "xColumns": null,
        "yColumns": null
       },
       "removedWidgets": [],
       "schema": [],
       "type": "table"
      }
     },
     "output_type": "display_data"
    }
   ],
   "source": [
    "%sql\n",
    "\n",
    "create database if not exists olist;"
   ]
  },
  {
   "cell_type": "code",
   "execution_count": 0,
   "metadata": {
    "application/vnd.databricks.v1+cell": {
     "cellMetadata": {
      "byteLimit": 2048000,
      "implicitDf": true,
      "rowLimit": 10000
     },
     "inputWidgets": {},
     "nuid": "95fff065-d45c-4da9-976d-069bac97f97c",
     "showTitle": false,
     "title": ""
    }
   },
   "outputs": [
    {
     "output_type": "display_data",
     "data": {
      "text/html": [
       "<style scoped>\n",
       "  .table-result-container {\n",
       "    max-height: 300px;\n",
       "    overflow: auto;\n",
       "  }\n",
       "  table, th, td {\n",
       "    border: 1px solid black;\n",
       "    border-collapse: collapse;\n",
       "  }\n",
       "  th, td {\n",
       "    padding: 5px;\n",
       "  }\n",
       "  th {\n",
       "    text-align: left;\n",
       "  }\n",
       "</style><div class='table-result-container'><table class='table-result'><thead style='background-color: white'><tr></tr></thead><tbody></tbody></table></div>"
      ]
     },
     "metadata": {
      "application/vnd.databricks.v1+output": {
       "addedWidgets": {},
       "aggData": [],
       "aggError": "",
       "aggOverflow": false,
       "aggSchema": [],
       "aggSeriesLimitReached": false,
       "aggType": "",
       "arguments": {},
       "columnCustomDisplayInfos": {},
       "data": [],
       "datasetInfos": [],
       "dbfsResultPath": null,
       "isJsonSchema": true,
       "metadata": {
        "dataframeName": null
       },
       "overflow": false,
       "plotOptions": {
        "customPlotOptions": {},
        "displayType": "table",
        "pivotAggregation": null,
        "pivotColumns": null,
        "xColumns": null,
        "yColumns": null
       },
       "removedWidgets": [],
       "schema": [],
       "type": "table"
      }
     },
     "output_type": "display_data"
    }
   ],
   "source": [
    "%sql\n",
    "\n",
    "use olist;"
   ]
  },
  {
   "cell_type": "code",
   "execution_count": 0,
   "metadata": {
    "application/vnd.databricks.v1+cell": {
     "cellMetadata": {
      "byteLimit": 2048000,
      "implicitDf": true,
      "rowLimit": 10000
     },
     "inputWidgets": {},
     "nuid": "beaadae3-c57b-4122-8b02-50c6fcc1a6ec",
     "showTitle": false,
     "title": ""
    }
   },
   "outputs": [
    {
     "output_type": "display_data",
     "data": {
      "text/html": [
       "<style scoped>\n",
       "  .table-result-container {\n",
       "    max-height: 300px;\n",
       "    overflow: auto;\n",
       "  }\n",
       "  table, th, td {\n",
       "    border: 1px solid black;\n",
       "    border-collapse: collapse;\n",
       "  }\n",
       "  th, td {\n",
       "    padding: 5px;\n",
       "  }\n",
       "  th {\n",
       "    text-align: left;\n",
       "  }\n",
       "</style><div class='table-result-container'><table class='table-result'><thead style='background-color: white'><tr></tr></thead><tbody></tbody></table></div>"
      ]
     },
     "metadata": {
      "application/vnd.databricks.v1+output": {
       "addedWidgets": {},
       "aggData": [],
       "aggError": "",
       "aggOverflow": false,
       "aggSchema": [],
       "aggSeriesLimitReached": false,
       "aggType": "",
       "arguments": {},
       "columnCustomDisplayInfos": {},
       "data": [],
       "datasetInfos": [],
       "dbfsResultPath": null,
       "isJsonSchema": true,
       "metadata": {
        "dataframeName": null
       },
       "overflow": false,
       "plotOptions": {
        "customPlotOptions": {},
        "displayType": "table",
        "pivotAggregation": null,
        "pivotColumns": null,
        "xColumns": null,
        "yColumns": null
       },
       "removedWidgets": [],
       "schema": [],
       "type": "table"
      }
     },
     "output_type": "display_data"
    }
   ],
   "source": [
    "%sql\n",
    "\n",
    "drop table if exists total_sales_by_month_by_day;"
   ]
  },
  {
   "cell_type": "code",
   "execution_count": 0,
   "metadata": {
    "application/vnd.databricks.v1+cell": {
     "cellMetadata": {
      "byteLimit": 2048000,
      "implicitDf": true,
      "rowLimit": 10000
     },
     "inputWidgets": {},
     "nuid": "d0a7029c-5c23-4e96-ab2b-d0266a135b0f",
     "showTitle": false,
     "title": ""
    }
   },
   "outputs": [
    {
     "output_type": "display_data",
     "data": {
      "text/html": [
       "<style scoped>\n",
       "  .table-result-container {\n",
       "    max-height: 300px;\n",
       "    overflow: auto;\n",
       "  }\n",
       "  table, th, td {\n",
       "    border: 1px solid black;\n",
       "    border-collapse: collapse;\n",
       "  }\n",
       "  th, td {\n",
       "    padding: 5px;\n",
       "  }\n",
       "  th {\n",
       "    text-align: left;\n",
       "  }\n",
       "</style><div class='table-result-container'><table class='table-result'><thead style='background-color: white'><tr></tr></thead><tbody></tbody></table></div>"
      ]
     },
     "metadata": {
      "application/vnd.databricks.v1+output": {
       "addedWidgets": {},
       "aggData": [],
       "aggError": "",
       "aggOverflow": false,
       "aggSchema": [],
       "aggSeriesLimitReached": false,
       "aggType": "",
       "arguments": {},
       "columnCustomDisplayInfos": {},
       "data": [],
       "datasetInfos": [],
       "dbfsResultPath": null,
       "isJsonSchema": true,
       "metadata": {
        "dataframeName": null
       },
       "overflow": false,
       "plotOptions": {
        "customPlotOptions": {},
        "displayType": "table",
        "pivotAggregation": null,
        "pivotColumns": null,
        "xColumns": null,
        "yColumns": null
       },
       "removedWidgets": [],
       "schema": [],
       "type": "table"
      }
     },
     "output_type": "display_data"
    }
   ],
   "source": [
    "%sql\n",
    "\n",
    "CREATE TABLE total_sales_by_month_by_day\n",
    "USING DELTA\n",
    "LOCATION \"dbfs:/FileStore/Datum/KaggleOlistData/gold/delta/total_sales_by_month_by_day\""
   ]
  }
 ],
 "metadata": {
  "application/vnd.databricks.v1+notebook": {
   "dashboards": [],
   "language": "python",
   "notebookMetadata": {
    "mostRecentlyExecutedCommandWithImplicitDF": {
     "commandId": 3756082957300538,
     "dataframes": [
      "_sqldf"
     ]
    },
    "pythonIndentUnit": 4
   },
   "notebookName": "TotalSalesByMonthByDay",
   "widgets": {}
  }
 },
 "nbformat": 4,
 "nbformat_minor": 0
}
