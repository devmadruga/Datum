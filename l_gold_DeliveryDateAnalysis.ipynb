{
 "cells": [
  {
   "cell_type": "markdown",
   "metadata": {
    "application/vnd.databricks.v1+cell": {
     "cellMetadata": {
      "byteLimit": 2048000,
      "rowLimit": 10000
     },
     "inputWidgets": {},
     "nuid": "e735068b-a14f-4e6a-b8f3-8fed35bdcbaf",
     "showTitle": false,
     "title": ""
    }
   },
   "source": [
    "\n",
    "# 1. Imports"
   ]
  },
  {
   "cell_type": "code",
   "execution_count": 0,
   "metadata": {
    "application/vnd.databricks.v1+cell": {
     "cellMetadata": {
      "byteLimit": 2048000,
      "rowLimit": 10000
     },
     "inputWidgets": {},
     "nuid": "1970fe13-d2ff-4e77-8ee9-80d5650bb12c",
     "showTitle": false,
     "title": ""
    }
   },
   "outputs": [],
   "source": [
    "from pyspark.sql.functions import udf\n",
    "from pyspark.sql.types import StringType, DecimalType"
   ]
  },
  {
   "cell_type": "markdown",
   "metadata": {
    "application/vnd.databricks.v1+cell": {
     "cellMetadata": {
      "byteLimit": 2048000,
      "rowLimit": 10000
     },
     "inputWidgets": {},
     "nuid": "5c609713-88c0-4f62-a7d0-a7a2c91d7047",
     "showTitle": false,
     "title": ""
    }
   },
   "source": [
    "\n",
    "# 2. Carregando sparkDFs"
   ]
  },
  {
   "cell_type": "markdown",
   "metadata": {
    "application/vnd.databricks.v1+cell": {
     "cellMetadata": {
      "byteLimit": 2048000,
      "rowLimit": 10000
     },
     "inputWidgets": {},
     "nuid": "d535cba8-417d-486e-9783-b0791017f48f",
     "showTitle": false,
     "title": ""
    }
   },
   "source": [
    "\n",
    "## 2.1 Orders"
   ]
  },
  {
   "cell_type": "code",
   "execution_count": 0,
   "metadata": {
    "application/vnd.databricks.v1+cell": {
     "cellMetadata": {
      "byteLimit": 2048000,
      "rowLimit": 10000
     },
     "inputWidgets": {},
     "nuid": "91637e1a-e6c2-4d4a-9a4a-60dacab3c9b1",
     "showTitle": false,
     "title": ""
    }
   },
   "outputs": [],
   "source": [
    "# Local do arquivo Delta\n",
    "path_to_delta_table = \"dbfs:/FileStore/Datum/KaggleOlistData/silver/delta/orders\"\n",
    "\n",
    "# Ler o arquivo Delta como um DataFrame\n",
    "df_orders = spark.read.format(\"delta\").load(path_to_delta_table)"
   ]
  },
  {
   "cell_type": "code",
   "execution_count": 0,
   "metadata": {
    "application/vnd.databricks.v1+cell": {
     "cellMetadata": {
      "byteLimit": 2048000,
      "rowLimit": 10000
     },
     "inputWidgets": {},
     "nuid": "7fc60fcb-5f88-4b5e-9b50-076d05427aef",
     "showTitle": false,
     "title": ""
    }
   },
   "outputs": [
    {
     "output_type": "display_data",
     "data": {
      "text/html": [
       "<style scoped>\n",
       "  .table-result-container {\n",
       "    max-height: 300px;\n",
       "    overflow: auto;\n",
       "  }\n",
       "  table, th, td {\n",
       "    border: 1px solid black;\n",
       "    border-collapse: collapse;\n",
       "  }\n",
       "  th, td {\n",
       "    padding: 5px;\n",
       "  }\n",
       "  th {\n",
       "    text-align: left;\n",
       "  }\n",
       "</style><div class='table-result-container'><table class='table-result'><thead style='background-color: white'><tr><th>order_id</th><th>customer_id</th><th>order_status</th><th>order_purchase_timestamp</th><th>order_approved_at</th><th>order_delivered_carrier_date</th><th>order_delivered_customer_date</th><th>order_estimated_delivery_date</th><th>delivery_time_diff</th></tr></thead><tbody><tr><td>e481f51cbdc54678b7cc49136f2d6af7</td><td>9ef432eb6251297304e76186b10a928d</td><td>delivered</td><td>2017-10-02T10:56:33Z</td><td>2017-10-02T11:07:15Z</td><td>2017-10-04T19:55:00Z</td><td>2017-10-10T21:25:13Z</td><td>2017-10-18T00:00:00Z</td><td>-8</td></tr><tr><td>53cdb2fc8bc7dce0b6741e2150273451</td><td>b0830fb4747a6c6d20dea0b8c802d7ef</td><td>delivered</td><td>2018-07-24T20:41:37Z</td><td>2018-07-26T03:24:27Z</td><td>2018-07-26T14:31:00Z</td><td>2018-08-07T15:27:45Z</td><td>2018-08-13T00:00:00Z</td><td>-6</td></tr><tr><td>47770eb9100c2d0c44946d9cf07ec65d</td><td>41ce2a54c0b03bf3443c3d931a367089</td><td>delivered</td><td>2018-08-08T08:38:49Z</td><td>2018-08-08T08:55:23Z</td><td>2018-08-08T13:50:00Z</td><td>2018-08-17T18:06:29Z</td><td>2018-09-04T00:00:00Z</td><td>-18</td></tr><tr><td>949d5b44dbf5de918fe9c16f97b45f8a</td><td>f88197465ea7920adcdbec7375364d82</td><td>delivered</td><td>2017-11-18T19:28:06Z</td><td>2017-11-18T19:45:59Z</td><td>2017-11-22T13:39:59Z</td><td>2017-12-02T00:28:42Z</td><td>2017-12-15T00:00:00Z</td><td>-13</td></tr><tr><td>ad21c59c0840e6cb83a9ceb5573f8159</td><td>8ab97904e6daea8866dbdbc4fb7aad2c</td><td>delivered</td><td>2018-02-13T21:18:39Z</td><td>2018-02-13T22:20:29Z</td><td>2018-02-14T19:46:34Z</td><td>2018-02-16T18:17:02Z</td><td>2018-02-26T00:00:00Z</td><td>-10</td></tr><tr><td>a4591c265e18cb1dcee52889e2d8acc3</td><td>503740e9ca751ccdda7ba28e9ab8f608</td><td>delivered</td><td>2017-07-09T21:57:05Z</td><td>2017-07-09T22:10:13Z</td><td>2017-07-11T14:58:04Z</td><td>2017-07-26T10:57:55Z</td><td>2017-08-01T00:00:00Z</td><td>-6</td></tr><tr><td>136cce7faa42fdb2cefd53fdc79a6098</td><td>ed0271e0b7da060a393796590e7b737a</td><td>invoiced</td><td>2017-04-11T12:22:08Z</td><td>2017-04-13T13:25:17Z</td><td>null</td><td>null</td><td>2017-05-09T00:00:00Z</td><td>null</td></tr><tr><td>6514b8ad8028c9f2cc2374ded245783f</td><td>9bdf08b4b3b52b5526ff42d37d47f222</td><td>delivered</td><td>2017-05-16T13:10:30Z</td><td>2017-05-16T13:22:11Z</td><td>2017-05-22T10:07:46Z</td><td>2017-05-26T12:55:51Z</td><td>2017-06-07T00:00:00Z</td><td>-12</td></tr><tr><td>76c6e866289321a7c93b82b54852dc33</td><td>f54a9f0e6b351c431402b8461ea51999</td><td>delivered</td><td>2017-01-23T18:29:09Z</td><td>2017-01-25T02:50:47Z</td><td>2017-01-26T14:16:31Z</td><td>2017-02-02T14:08:10Z</td><td>2017-03-06T00:00:00Z</td><td>-32</td></tr><tr><td>e69bfb5eb88e0ed6a785585b27e16dbf</td><td>31ad1d1b63eb9962463f764d4e6e0c9d</td><td>delivered</td><td>2017-07-29T11:55:02Z</td><td>2017-07-29T12:05:32Z</td><td>2017-08-10T19:45:24Z</td><td>2017-08-16T17:14:30Z</td><td>2017-08-23T00:00:00Z</td><td>-7</td></tr></tbody></table></div>"
      ]
     },
     "metadata": {
      "application/vnd.databricks.v1+output": {
       "addedWidgets": {},
       "aggData": [],
       "aggError": "",
       "aggOverflow": false,
       "aggSchema": [],
       "aggSeriesLimitReached": false,
       "aggType": "",
       "arguments": {},
       "columnCustomDisplayInfos": {},
       "data": [
        [
         "e481f51cbdc54678b7cc49136f2d6af7",
         "9ef432eb6251297304e76186b10a928d",
         "delivered",
         "2017-10-02T10:56:33Z",
         "2017-10-02T11:07:15Z",
         "2017-10-04T19:55:00Z",
         "2017-10-10T21:25:13Z",
         "2017-10-18T00:00:00Z",
         -8
        ],
        [
         "53cdb2fc8bc7dce0b6741e2150273451",
         "b0830fb4747a6c6d20dea0b8c802d7ef",
         "delivered",
         "2018-07-24T20:41:37Z",
         "2018-07-26T03:24:27Z",
         "2018-07-26T14:31:00Z",
         "2018-08-07T15:27:45Z",
         "2018-08-13T00:00:00Z",
         -6
        ],
        [
         "47770eb9100c2d0c44946d9cf07ec65d",
         "41ce2a54c0b03bf3443c3d931a367089",
         "delivered",
         "2018-08-08T08:38:49Z",
         "2018-08-08T08:55:23Z",
         "2018-08-08T13:50:00Z",
         "2018-08-17T18:06:29Z",
         "2018-09-04T00:00:00Z",
         -18
        ],
        [
         "949d5b44dbf5de918fe9c16f97b45f8a",
         "f88197465ea7920adcdbec7375364d82",
         "delivered",
         "2017-11-18T19:28:06Z",
         "2017-11-18T19:45:59Z",
         "2017-11-22T13:39:59Z",
         "2017-12-02T00:28:42Z",
         "2017-12-15T00:00:00Z",
         -13
        ],
        [
         "ad21c59c0840e6cb83a9ceb5573f8159",
         "8ab97904e6daea8866dbdbc4fb7aad2c",
         "delivered",
         "2018-02-13T21:18:39Z",
         "2018-02-13T22:20:29Z",
         "2018-02-14T19:46:34Z",
         "2018-02-16T18:17:02Z",
         "2018-02-26T00:00:00Z",
         -10
        ],
        [
         "a4591c265e18cb1dcee52889e2d8acc3",
         "503740e9ca751ccdda7ba28e9ab8f608",
         "delivered",
         "2017-07-09T21:57:05Z",
         "2017-07-09T22:10:13Z",
         "2017-07-11T14:58:04Z",
         "2017-07-26T10:57:55Z",
         "2017-08-01T00:00:00Z",
         -6
        ],
        [
         "136cce7faa42fdb2cefd53fdc79a6098",
         "ed0271e0b7da060a393796590e7b737a",
         "invoiced",
         "2017-04-11T12:22:08Z",
         "2017-04-13T13:25:17Z",
         null,
         null,
         "2017-05-09T00:00:00Z",
         null
        ],
        [
         "6514b8ad8028c9f2cc2374ded245783f",
         "9bdf08b4b3b52b5526ff42d37d47f222",
         "delivered",
         "2017-05-16T13:10:30Z",
         "2017-05-16T13:22:11Z",
         "2017-05-22T10:07:46Z",
         "2017-05-26T12:55:51Z",
         "2017-06-07T00:00:00Z",
         -12
        ],
        [
         "76c6e866289321a7c93b82b54852dc33",
         "f54a9f0e6b351c431402b8461ea51999",
         "delivered",
         "2017-01-23T18:29:09Z",
         "2017-01-25T02:50:47Z",
         "2017-01-26T14:16:31Z",
         "2017-02-02T14:08:10Z",
         "2017-03-06T00:00:00Z",
         -32
        ],
        [
         "e69bfb5eb88e0ed6a785585b27e16dbf",
         "31ad1d1b63eb9962463f764d4e6e0c9d",
         "delivered",
         "2017-07-29T11:55:02Z",
         "2017-07-29T12:05:32Z",
         "2017-08-10T19:45:24Z",
         "2017-08-16T17:14:30Z",
         "2017-08-23T00:00:00Z",
         -7
        ]
       ],
       "datasetInfos": [],
       "dbfsResultPath": null,
       "isJsonSchema": true,
       "metadata": {},
       "overflow": false,
       "plotOptions": {
        "customPlotOptions": {},
        "displayType": "table",
        "pivotAggregation": null,
        "pivotColumns": null,
        "xColumns": null,
        "yColumns": null
       },
       "removedWidgets": [],
       "schema": [
        {
         "metadata": "{}",
         "name": "order_id",
         "type": "\"string\""
        },
        {
         "metadata": "{}",
         "name": "customer_id",
         "type": "\"string\""
        },
        {
         "metadata": "{}",
         "name": "order_status",
         "type": "\"string\""
        },
        {
         "metadata": "{}",
         "name": "order_purchase_timestamp",
         "type": "\"timestamp\""
        },
        {
         "metadata": "{}",
         "name": "order_approved_at",
         "type": "\"timestamp\""
        },
        {
         "metadata": "{}",
         "name": "order_delivered_carrier_date",
         "type": "\"timestamp\""
        },
        {
         "metadata": "{}",
         "name": "order_delivered_customer_date",
         "type": "\"timestamp\""
        },
        {
         "metadata": "{}",
         "name": "order_estimated_delivery_date",
         "type": "\"timestamp\""
        },
        {
         "metadata": "{}",
         "name": "delivery_time_diff",
         "type": "\"long\""
        }
       ],
       "type": "table"
      }
     },
     "output_type": "display_data"
    }
   ],
   "source": [
    "display(df_orders.take(10))"
   ]
  },
  {
   "cell_type": "code",
   "execution_count": 0,
   "metadata": {
    "application/vnd.databricks.v1+cell": {
     "cellMetadata": {
      "byteLimit": 2048000,
      "rowLimit": 10000
     },
     "inputWidgets": {},
     "nuid": "e737c95e-3918-42a7-a78e-297201febd85",
     "showTitle": false,
     "title": ""
    }
   },
   "outputs": [],
   "source": [
    "del path_to_delta_table"
   ]
  },
  {
   "cell_type": "markdown",
   "metadata": {
    "application/vnd.databricks.v1+cell": {
     "cellMetadata": {
      "byteLimit": 2048000,
      "rowLimit": 10000
     },
     "inputWidgets": {},
     "nuid": "60cc840e-b520-40d5-93e0-41fad5cac9d7",
     "showTitle": false,
     "title": ""
    }
   },
   "source": [
    "\n",
    "# 3. Transformação de Dados"
   ]
  },
  {
   "cell_type": "markdown",
   "metadata": {
    "application/vnd.databricks.v1+cell": {
     "cellMetadata": {
      "byteLimit": 2048000,
      "rowLimit": 10000
     },
     "inputWidgets": {},
     "nuid": "910c8eff-9618-4f23-afd3-36a0db97c284",
     "showTitle": false,
     "title": ""
    }
   },
   "source": [
    "\n",
    "## 3.1 Orders"
   ]
  },
  {
   "cell_type": "code",
   "execution_count": 0,
   "metadata": {
    "application/vnd.databricks.v1+cell": {
     "cellMetadata": {
      "byteLimit": 2048000,
      "rowLimit": 10000
     },
     "inputWidgets": {},
     "nuid": "812ddca0-6ae8-4213-ab1a-3a6b324c0939",
     "showTitle": false,
     "title": ""
    }
   },
   "outputs": [],
   "source": [
    "df_orders = df_orders.filter(df_orders['delivery_time_diff'].isNotNull())\n",
    "\n",
    "df_orders = df_orders.filter(df_orders['order_status'] != \"canceled\")"
   ]
  },
  {
   "cell_type": "code",
   "execution_count": 0,
   "metadata": {
    "application/vnd.databricks.v1+cell": {
     "cellMetadata": {
      "byteLimit": 2048000,
      "rowLimit": 10000
     },
     "inputWidgets": {},
     "nuid": "4b1848c4-226a-4144-a090-bdc82996f553",
     "showTitle": false,
     "title": ""
    }
   },
   "outputs": [
    {
     "output_type": "display_data",
     "data": {
      "text/html": [
       "<style scoped>\n",
       "  .table-result-container {\n",
       "    max-height: 300px;\n",
       "    overflow: auto;\n",
       "  }\n",
       "  table, th, td {\n",
       "    border: 1px solid black;\n",
       "    border-collapse: collapse;\n",
       "  }\n",
       "  th, td {\n",
       "    padding: 5px;\n",
       "  }\n",
       "  th {\n",
       "    text-align: left;\n",
       "  }\n",
       "</style><div class='table-result-container'><table class='table-result'><thead style='background-color: white'><tr><th>order_id</th><th>customer_id</th><th>order_status</th><th>order_purchase_timestamp</th><th>order_approved_at</th><th>order_delivered_carrier_date</th><th>order_delivered_customer_date</th><th>order_estimated_delivery_date</th><th>delivery_time_diff</th></tr></thead><tbody><tr><td>6ec1bea8cbcef0a1b81bc9b7fbd37ccb</td><td>e6b5e20566e5c72cbaab04f91dec9c85</td><td>delivered</td><td>2018-08-07T05:42:46Z</td><td>2018-08-07T05:50:08Z</td><td>2018-08-13T09:24:00Z</td><td>2018-08-27T15:28:22Z</td><td>2018-09-18T00:00:00Z</td><td>-22</td></tr><tr><td>441972a5bbd51a10459a487402076942</td><td>b79fa9dfed0c3d624b70fbd0ca2469de</td><td>delivered</td><td>2018-08-23T22:37:44Z</td><td>2018-08-24T00:35:13Z</td><td>2018-08-24T13:19:00Z</td><td>2018-08-29T18:03:26Z</td><td>2018-09-04T00:00:00Z</td><td>-6</td></tr><tr><td>fbecebecbe32df9dc3411b1e35b5484c</td><td>7f9f88f14a8f0dc733a5e371af98abac</td><td>delivered</td><td>2017-03-20T18:22:46Z</td><td>2017-03-20T18:22:46Z</td><td>2017-03-21T13:35:58Z</td><td>2017-03-27T12:30:15Z</td><td>2017-04-12T00:00:00Z</td><td>-16</td></tr><tr><td>9e22b00fd1b9f036577e8c517ea0a5d4</td><td>5a7346263920ecab0f88da703bbaf3b1</td><td>delivered</td><td>2017-12-01T13:45:30Z</td><td>2017-12-03T13:52:24Z</td><td>2017-12-04T21:22:58Z</td><td>2018-01-03T21:36:42Z</td><td>2017-12-27T00:00:00Z</td><td>7</td></tr><tr><td>07d9d11b0175952638ddd53d7855f8a7</td><td>a1c779cddccf5ffe60e543d3ce0dc477</td><td>delivered</td><td>2017-11-22T16:40:23Z</td><td>2017-11-22T16:48:33Z</td><td>2017-11-28T19:48:46Z</td><td>2017-11-30T13:49:03Z</td><td>2017-12-04T00:00:00Z</td><td>-4</td></tr><tr><td>1c38314597f39a117548efb308041b76</td><td>39a23021e4ee2efd04ea8decaff7b328</td><td>delivered</td><td>2017-12-11T15:43:06Z</td><td>2017-12-11T15:51:22Z</td><td>2017-12-18T18:35:20Z</td><td>2017-12-28T17:43:32Z</td><td>2018-01-08T00:00:00Z</td><td>-11</td></tr><tr><td>06caf4b0e55d9bc015a91fa77432a1cb</td><td>e42b1319fefce9bf37acf91a0ac8c1a9</td><td>delivered</td><td>2017-03-11T11:42:16Z</td><td>2017-03-11T11:42:16Z</td><td>2017-03-13T14:54:54Z</td><td>2017-03-21T10:58:09Z</td><td>2017-04-06T00:00:00Z</td><td>-16</td></tr><tr><td>1330176f6500125ff6e8e10922fb714c</td><td>89479f50ebac0687b3d8d0ac9f1193b1</td><td>delivered</td><td>2017-10-18T23:24:58Z</td><td>2017-10-19T00:05:28Z</td><td>2017-10-20T17:52:05Z</td><td>2017-10-21T17:34:44Z</td><td>2017-10-30T00:00:00Z</td><td>-9</td></tr><tr><td>6616fa4c89b8bf2a7e17271cdc542fca</td><td>19245d7a8dfb1639e01f96c455fb05b1</td><td>delivered</td><td>2018-08-17T20:47:06Z</td><td>2018-08-18T03:09:38Z</td><td>2018-08-23T07:11:00Z</td><td>2018-08-28T16:09:37Z</td><td>2018-09-25T00:00:00Z</td><td>-28</td></tr><tr><td>06f544e5c7afe6215b9e2a26b4f08442</td><td>26d283dae44fbc9eee874cecca589853</td><td>delivered</td><td>2018-04-12T10:23:19Z</td><td>2018-04-12T10:35:13Z</td><td>2018-04-17T19:41:03Z</td><td>2018-04-24T18:41:15Z</td><td>2018-05-08T00:00:00Z</td><td>-14</td></tr></tbody></table></div>"
      ]
     },
     "metadata": {
      "application/vnd.databricks.v1+output": {
       "addedWidgets": {},
       "aggData": [],
       "aggError": "",
       "aggOverflow": false,
       "aggSchema": [],
       "aggSeriesLimitReached": false,
       "aggType": "",
       "arguments": {},
       "columnCustomDisplayInfos": {},
       "data": [
        [
         "6ec1bea8cbcef0a1b81bc9b7fbd37ccb",
         "e6b5e20566e5c72cbaab04f91dec9c85",
         "delivered",
         "2018-08-07T05:42:46Z",
         "2018-08-07T05:50:08Z",
         "2018-08-13T09:24:00Z",
         "2018-08-27T15:28:22Z",
         "2018-09-18T00:00:00Z",
         -22
        ],
        [
         "441972a5bbd51a10459a487402076942",
         "b79fa9dfed0c3d624b70fbd0ca2469de",
         "delivered",
         "2018-08-23T22:37:44Z",
         "2018-08-24T00:35:13Z",
         "2018-08-24T13:19:00Z",
         "2018-08-29T18:03:26Z",
         "2018-09-04T00:00:00Z",
         -6
        ],
        [
         "fbecebecbe32df9dc3411b1e35b5484c",
         "7f9f88f14a8f0dc733a5e371af98abac",
         "delivered",
         "2017-03-20T18:22:46Z",
         "2017-03-20T18:22:46Z",
         "2017-03-21T13:35:58Z",
         "2017-03-27T12:30:15Z",
         "2017-04-12T00:00:00Z",
         -16
        ],
        [
         "9e22b00fd1b9f036577e8c517ea0a5d4",
         "5a7346263920ecab0f88da703bbaf3b1",
         "delivered",
         "2017-12-01T13:45:30Z",
         "2017-12-03T13:52:24Z",
         "2017-12-04T21:22:58Z",
         "2018-01-03T21:36:42Z",
         "2017-12-27T00:00:00Z",
         7
        ],
        [
         "07d9d11b0175952638ddd53d7855f8a7",
         "a1c779cddccf5ffe60e543d3ce0dc477",
         "delivered",
         "2017-11-22T16:40:23Z",
         "2017-11-22T16:48:33Z",
         "2017-11-28T19:48:46Z",
         "2017-11-30T13:49:03Z",
         "2017-12-04T00:00:00Z",
         -4
        ],
        [
         "1c38314597f39a117548efb308041b76",
         "39a23021e4ee2efd04ea8decaff7b328",
         "delivered",
         "2017-12-11T15:43:06Z",
         "2017-12-11T15:51:22Z",
         "2017-12-18T18:35:20Z",
         "2017-12-28T17:43:32Z",
         "2018-01-08T00:00:00Z",
         -11
        ],
        [
         "06caf4b0e55d9bc015a91fa77432a1cb",
         "e42b1319fefce9bf37acf91a0ac8c1a9",
         "delivered",
         "2017-03-11T11:42:16Z",
         "2017-03-11T11:42:16Z",
         "2017-03-13T14:54:54Z",
         "2017-03-21T10:58:09Z",
         "2017-04-06T00:00:00Z",
         -16
        ],
        [
         "1330176f6500125ff6e8e10922fb714c",
         "89479f50ebac0687b3d8d0ac9f1193b1",
         "delivered",
         "2017-10-18T23:24:58Z",
         "2017-10-19T00:05:28Z",
         "2017-10-20T17:52:05Z",
         "2017-10-21T17:34:44Z",
         "2017-10-30T00:00:00Z",
         -9
        ],
        [
         "6616fa4c89b8bf2a7e17271cdc542fca",
         "19245d7a8dfb1639e01f96c455fb05b1",
         "delivered",
         "2018-08-17T20:47:06Z",
         "2018-08-18T03:09:38Z",
         "2018-08-23T07:11:00Z",
         "2018-08-28T16:09:37Z",
         "2018-09-25T00:00:00Z",
         -28
        ],
        [
         "06f544e5c7afe6215b9e2a26b4f08442",
         "26d283dae44fbc9eee874cecca589853",
         "delivered",
         "2018-04-12T10:23:19Z",
         "2018-04-12T10:35:13Z",
         "2018-04-17T19:41:03Z",
         "2018-04-24T18:41:15Z",
         "2018-05-08T00:00:00Z",
         -14
        ]
       ],
       "datasetInfos": [],
       "dbfsResultPath": null,
       "isJsonSchema": true,
       "metadata": {},
       "overflow": false,
       "plotOptions": {
        "customPlotOptions": {},
        "displayType": "table",
        "pivotAggregation": null,
        "pivotColumns": null,
        "xColumns": null,
        "yColumns": null
       },
       "removedWidgets": [],
       "schema": [
        {
         "metadata": "{}",
         "name": "order_id",
         "type": "\"string\""
        },
        {
         "metadata": "{}",
         "name": "customer_id",
         "type": "\"string\""
        },
        {
         "metadata": "{}",
         "name": "order_status",
         "type": "\"string\""
        },
        {
         "metadata": "{}",
         "name": "order_purchase_timestamp",
         "type": "\"timestamp\""
        },
        {
         "metadata": "{}",
         "name": "order_approved_at",
         "type": "\"timestamp\""
        },
        {
         "metadata": "{}",
         "name": "order_delivered_carrier_date",
         "type": "\"timestamp\""
        },
        {
         "metadata": "{}",
         "name": "order_delivered_customer_date",
         "type": "\"timestamp\""
        },
        {
         "metadata": "{}",
         "name": "order_estimated_delivery_date",
         "type": "\"timestamp\""
        },
        {
         "metadata": "{}",
         "name": "delivery_time_diff",
         "type": "\"long\""
        }
       ],
       "type": "table"
      }
     },
     "output_type": "display_data"
    }
   ],
   "source": [
    "display(df_orders.take(10))"
   ]
  },
  {
   "cell_type": "code",
   "execution_count": 0,
   "metadata": {
    "application/vnd.databricks.v1+cell": {
     "cellMetadata": {
      "byteLimit": 2048000,
      "rowLimit": 10000
     },
     "inputWidgets": {},
     "nuid": "1aaf3880-61c0-4db2-818e-30e3e27bcb8f",
     "showTitle": false,
     "title": ""
    }
   },
   "outputs": [],
   "source": [
    "# Definindo a função para categorizar 'delivery_time_diff'\n",
    "def categorize_delivery_time_diff(diff):\n",
    "    if diff > 10:\n",
    "        return '11, 12, ..., 188'\n",
    "    elif diff >= 8:\n",
    "        return '8, 9 ou 10'\n",
    "    elif diff >= 6:\n",
    "        return '6 ou 7'\n",
    "    elif diff >= 4:\n",
    "        return '4 ou 5'\n",
    "    elif diff == 3:\n",
    "        return '3'\n",
    "    elif diff == 2:\n",
    "        return '2'\n",
    "    elif diff == 1:\n",
    "        return '1'\n",
    "    elif diff == 0:\n",
    "        return '0'\n",
    "    elif diff == -1:\n",
    "        return '-1'\n",
    "    elif diff == -2:\n",
    "        return '-2'\n",
    "    elif diff == -3:\n",
    "        return '-3'\n",
    "    elif diff == -4 or diff == -5:\n",
    "        return '-4 ou -5'\n",
    "    elif diff == -6 or diff == -7:\n",
    "        return '-6 ou -7'\n",
    "    elif diff >= -10 and diff <= -8:\n",
    "        return '-8, -9 ou -10'\n",
    "    else:\n",
    "        return '-11, -12, ..., -147'"
   ]
  },
  {
   "cell_type": "code",
   "execution_count": 0,
   "metadata": {
    "application/vnd.databricks.v1+cell": {
     "cellMetadata": {
      "byteLimit": 2048000,
      "rowLimit": 10000
     },
     "inputWidgets": {},
     "nuid": "b3ffa762-d128-4956-b820-cf58f2a16884",
     "showTitle": false,
     "title": ""
    }
   },
   "outputs": [],
   "source": [
    "# Registrando a função como UDF\n",
    "categorize_udf = udf(categorize_delivery_time_diff, StringType())"
   ]
  },
  {
   "cell_type": "code",
   "execution_count": 0,
   "metadata": {
    "application/vnd.databricks.v1+cell": {
     "cellMetadata": {
      "byteLimit": 2048000,
      "rowLimit": 10000
     },
     "inputWidgets": {},
     "nuid": "7f95bcbd-4d2c-488e-8c27-1faa125e4402",
     "showTitle": false,
     "title": ""
    }
   },
   "outputs": [],
   "source": [
    "# Adicionando a nova coluna 'category'\n",
    "df_orders = df_orders.withColumn('category', categorize_udf('delivery_time_diff'))\n",
    "\n",
    "# Calculando a contagem total\n",
    "total_orders = df_orders.count()\n",
    "\n",
    "# Agrupando por categoria e contando\n",
    "df_category_count = df_orders.groupBy('category').count()\n",
    "\n",
    "# Calculando a porcentagem e convertendo para DecimalType(5,2)\n",
    "df_percentage = df_category_count.withColumn('percentage', (df_category_count['count'] / total_orders * 100).cast(DecimalType(5, 2)))\n",
    "\n",
    "# Ordenando o resultado final de forma descendente pela coluna 'percentage'\n",
    "df_delivery_date_analyses = df_percentage.selectExpr('category as delivery_time_diff', 'percentage').orderBy('percentage', ascending=False)"
   ]
  },
  {
   "cell_type": "code",
   "execution_count": 0,
   "metadata": {
    "application/vnd.databricks.v1+cell": {
     "cellMetadata": {
      "byteLimit": 2048000,
      "rowLimit": 10000
     },
     "inputWidgets": {},
     "nuid": "2d40381d-d79c-4149-9057-010730f82cdb",
     "showTitle": false,
     "title": ""
    }
   },
   "outputs": [
    {
     "output_type": "display_data",
     "data": {
      "text/html": [
       "<style scoped>\n",
       "  .table-result-container {\n",
       "    max-height: 300px;\n",
       "    overflow: auto;\n",
       "  }\n",
       "  table, th, td {\n",
       "    border: 1px solid black;\n",
       "    border-collapse: collapse;\n",
       "  }\n",
       "  th, td {\n",
       "    padding: 5px;\n",
       "  }\n",
       "  th {\n",
       "    text-align: left;\n",
       "  }\n",
       "</style><div class='table-result-container'><table class='table-result'><thead style='background-color: white'><tr><th>delivery_time_diff</th><th>percentage</th></tr></thead><tbody><tr><td>-11, -12, ..., -147</td><td>59.300000000000000000</td></tr><tr><td>-8, -9 ou -10</td><td>14.620000000000000000</td></tr><tr><td>-6 ou -7</td><td>8.770000000000000000</td></tr><tr><td>-4 ou -5</td><td>4.290000000000000000</td></tr><tr><td>11, 12, ..., 188</td><td>2.170000000000000000</td></tr><tr><td>-3</td><td>1.790000000000000000</td></tr><tr><td>-2</td><td>1.610000000000000000</td></tr><tr><td>-1</td><td>1.520000000000000000</td></tr><tr><td>0</td><td>1.340000000000000000</td></tr><tr><td>6 ou 7</td><td>0.940000000000000000</td></tr></tbody></table></div>"
      ]
     },
     "metadata": {
      "application/vnd.databricks.v1+output": {
       "addedWidgets": {},
       "aggData": [],
       "aggError": "",
       "aggOverflow": false,
       "aggSchema": [],
       "aggSeriesLimitReached": false,
       "aggType": "",
       "arguments": {},
       "columnCustomDisplayInfos": {},
       "data": [
        [
         "-11, -12, ..., -147",
         "59.300000000000000000"
        ],
        [
         "-8, -9 ou -10",
         "14.620000000000000000"
        ],
        [
         "-6 ou -7",
         "8.770000000000000000"
        ],
        [
         "-4 ou -5",
         "4.290000000000000000"
        ],
        [
         "11, 12, ..., 188",
         "2.170000000000000000"
        ],
        [
         "-3",
         "1.790000000000000000"
        ],
        [
         "-2",
         "1.610000000000000000"
        ],
        [
         "-1",
         "1.520000000000000000"
        ],
        [
         "0",
         "1.340000000000000000"
        ],
        [
         "6 ou 7",
         "0.940000000000000000"
        ]
       ],
       "datasetInfos": [],
       "dbfsResultPath": null,
       "isJsonSchema": true,
       "metadata": {},
       "overflow": false,
       "plotOptions": {
        "customPlotOptions": {},
        "displayType": "table",
        "pivotAggregation": null,
        "pivotColumns": null,
        "xColumns": null,
        "yColumns": null
       },
       "removedWidgets": [],
       "schema": [
        {
         "metadata": "{}",
         "name": "delivery_time_diff",
         "type": "\"string\""
        },
        {
         "metadata": "{}",
         "name": "percentage",
         "type": "\"decimal(38,18)\""
        }
       ],
       "type": "table"
      }
     },
     "output_type": "display_data"
    }
   ],
   "source": [
    "display(df_delivery_date_analyses.take(10))"
   ]
  },
  {
   "cell_type": "code",
   "execution_count": 0,
   "metadata": {
    "application/vnd.databricks.v1+cell": {
     "cellMetadata": {
      "byteLimit": 2048000,
      "rowLimit": 10000
     },
     "inputWidgets": {},
     "nuid": "1ed830c8-dba6-4359-8fe6-55f9710d5677",
     "showTitle": false,
     "title": ""
    }
   },
   "outputs": [],
   "source": [
    "del df_orders, total_orders, df_category_count, df_percentage"
   ]
  },
  {
   "cell_type": "markdown",
   "metadata": {
    "application/vnd.databricks.v1+cell": {
     "cellMetadata": {
      "byteLimit": 2048000,
      "rowLimit": 10000
     },
     "inputWidgets": {},
     "nuid": "1c5ddfd9-6bc6-4415-9723-f3e1270929f7",
     "showTitle": false,
     "title": ""
    }
   },
   "source": [
    "\n",
    "# 4. Exportando para Delta Lake\n",
    "\n",
    "> Teste Prático -> \"Grave os mesmos dados em formato Delta Lake para aproveitar as funcionalidades de versionamento e transações ACID.\""
   ]
  },
  {
   "cell_type": "code",
   "execution_count": 0,
   "metadata": {
    "application/vnd.databricks.v1+cell": {
     "cellMetadata": {
      "byteLimit": 2048000,
      "rowLimit": 10000
     },
     "inputWidgets": {},
     "nuid": "1282d1d9-39cc-4556-8b7f-aadb5e6c1f44",
     "showTitle": false,
     "title": ""
    }
   },
   "outputs": [],
   "source": [
    "df_delivery_date_analyses.write.format(\"delta\").mode(\"overwrite\").option(\"mergeSchema\", \"true\").save(\n",
    "    \"dbfs:/FileStore/Datum/KaggleOlistData/gold/delta/delivery_date_analyses\"\n",
    ")"
   ]
  },
  {
   "cell_type": "code",
   "execution_count": 0,
   "metadata": {
    "application/vnd.databricks.v1+cell": {
     "cellMetadata": {
      "byteLimit": 2048000,
      "rowLimit": 10000
     },
     "inputWidgets": {},
     "nuid": "29005ba0-1c42-4961-9d14-8ff30e96b1bc",
     "showTitle": false,
     "title": ""
    }
   },
   "outputs": [],
   "source": [
    "del df_delivery_date_analyses"
   ]
  },
  {
   "cell_type": "markdown",
   "metadata": {
    "application/vnd.databricks.v1+cell": {
     "cellMetadata": {
      "byteLimit": 2048000,
      "rowLimit": 10000
     },
     "inputWidgets": {},
     "nuid": "92885596-43d9-4390-b8f4-ac256192a061",
     "showTitle": false,
     "title": ""
    }
   },
   "source": [
    "\n",
    "# 5. Criando Delta Table"
   ]
  },
  {
   "cell_type": "code",
   "execution_count": 0,
   "metadata": {
    "application/vnd.databricks.v1+cell": {
     "cellMetadata": {
      "byteLimit": 2048000,
      "implicitDf": true,
      "rowLimit": 10000
     },
     "inputWidgets": {},
     "nuid": "49a7c205-799c-4029-8923-88f78e85495d",
     "showTitle": false,
     "title": ""
    }
   },
   "outputs": [
    {
     "output_type": "display_data",
     "data": {
      "text/html": [
       "<style scoped>\n",
       "  .table-result-container {\n",
       "    max-height: 300px;\n",
       "    overflow: auto;\n",
       "  }\n",
       "  table, th, td {\n",
       "    border: 1px solid black;\n",
       "    border-collapse: collapse;\n",
       "  }\n",
       "  th, td {\n",
       "    padding: 5px;\n",
       "  }\n",
       "  th {\n",
       "    text-align: left;\n",
       "  }\n",
       "</style><div class='table-result-container'><table class='table-result'><thead style='background-color: white'><tr></tr></thead><tbody></tbody></table></div>"
      ]
     },
     "metadata": {
      "application/vnd.databricks.v1+output": {
       "addedWidgets": {},
       "aggData": [],
       "aggError": "",
       "aggOverflow": false,
       "aggSchema": [],
       "aggSeriesLimitReached": false,
       "aggType": "",
       "arguments": {},
       "columnCustomDisplayInfos": {},
       "data": [],
       "datasetInfos": [],
       "dbfsResultPath": null,
       "isJsonSchema": true,
       "metadata": {
        "dataframeName": null
       },
       "overflow": false,
       "plotOptions": {
        "customPlotOptions": {},
        "displayType": "table",
        "pivotAggregation": null,
        "pivotColumns": null,
        "xColumns": null,
        "yColumns": null
       },
       "removedWidgets": [],
       "schema": [],
       "type": "table"
      }
     },
     "output_type": "display_data"
    }
   ],
   "source": [
    "%sql\n",
    "\n",
    "create database if not exists olist;"
   ]
  },
  {
   "cell_type": "code",
   "execution_count": 0,
   "metadata": {
    "application/vnd.databricks.v1+cell": {
     "cellMetadata": {
      "byteLimit": 2048000,
      "implicitDf": true,
      "rowLimit": 10000
     },
     "inputWidgets": {},
     "nuid": "5c64611f-bd16-41f8-a862-604be4267b2b",
     "showTitle": false,
     "title": ""
    }
   },
   "outputs": [
    {
     "output_type": "display_data",
     "data": {
      "text/html": [
       "<style scoped>\n",
       "  .table-result-container {\n",
       "    max-height: 300px;\n",
       "    overflow: auto;\n",
       "  }\n",
       "  table, th, td {\n",
       "    border: 1px solid black;\n",
       "    border-collapse: collapse;\n",
       "  }\n",
       "  th, td {\n",
       "    padding: 5px;\n",
       "  }\n",
       "  th {\n",
       "    text-align: left;\n",
       "  }\n",
       "</style><div class='table-result-container'><table class='table-result'><thead style='background-color: white'><tr></tr></thead><tbody></tbody></table></div>"
      ]
     },
     "metadata": {
      "application/vnd.databricks.v1+output": {
       "addedWidgets": {},
       "aggData": [],
       "aggError": "",
       "aggOverflow": false,
       "aggSchema": [],
       "aggSeriesLimitReached": false,
       "aggType": "",
       "arguments": {},
       "columnCustomDisplayInfos": {},
       "data": [],
       "datasetInfos": [],
       "dbfsResultPath": null,
       "isJsonSchema": true,
       "metadata": {
        "dataframeName": null
       },
       "overflow": false,
       "plotOptions": {
        "customPlotOptions": {},
        "displayType": "table",
        "pivotAggregation": null,
        "pivotColumns": null,
        "xColumns": null,
        "yColumns": null
       },
       "removedWidgets": [],
       "schema": [],
       "type": "table"
      }
     },
     "output_type": "display_data"
    }
   ],
   "source": [
    "%sql\n",
    "\n",
    "use olist;"
   ]
  },
  {
   "cell_type": "code",
   "execution_count": 0,
   "metadata": {
    "application/vnd.databricks.v1+cell": {
     "cellMetadata": {
      "byteLimit": 2048000,
      "implicitDf": true,
      "rowLimit": 10000
     },
     "inputWidgets": {},
     "nuid": "b18f97c1-a4d9-4830-8da8-36859bb96049",
     "showTitle": false,
     "title": ""
    }
   },
   "outputs": [
    {
     "output_type": "display_data",
     "data": {
      "text/html": [
       "<style scoped>\n",
       "  .table-result-container {\n",
       "    max-height: 300px;\n",
       "    overflow: auto;\n",
       "  }\n",
       "  table, th, td {\n",
       "    border: 1px solid black;\n",
       "    border-collapse: collapse;\n",
       "  }\n",
       "  th, td {\n",
       "    padding: 5px;\n",
       "  }\n",
       "  th {\n",
       "    text-align: left;\n",
       "  }\n",
       "</style><div class='table-result-container'><table class='table-result'><thead style='background-color: white'><tr></tr></thead><tbody></tbody></table></div>"
      ]
     },
     "metadata": {
      "application/vnd.databricks.v1+output": {
       "addedWidgets": {},
       "aggData": [],
       "aggError": "",
       "aggOverflow": false,
       "aggSchema": [],
       "aggSeriesLimitReached": false,
       "aggType": "",
       "arguments": {},
       "columnCustomDisplayInfos": {},
       "data": [],
       "datasetInfos": [],
       "dbfsResultPath": null,
       "isJsonSchema": true,
       "metadata": {
        "dataframeName": null
       },
       "overflow": false,
       "plotOptions": {
        "customPlotOptions": {},
        "displayType": "table",
        "pivotAggregation": null,
        "pivotColumns": null,
        "xColumns": null,
        "yColumns": null
       },
       "removedWidgets": [],
       "schema": [],
       "type": "table"
      }
     },
     "output_type": "display_data"
    }
   ],
   "source": [
    "%sql\n",
    "\n",
    "drop table if exists delivery_date_analyses;"
   ]
  },
  {
   "cell_type": "code",
   "execution_count": 0,
   "metadata": {
    "application/vnd.databricks.v1+cell": {
     "cellMetadata": {
      "byteLimit": 2048000,
      "implicitDf": true,
      "rowLimit": 10000
     },
     "inputWidgets": {},
     "nuid": "343dee54-4edd-4e49-b42e-3dcfe1ba93e9",
     "showTitle": false,
     "title": ""
    }
   },
   "outputs": [
    {
     "output_type": "display_data",
     "data": {
      "text/html": [
       "<style scoped>\n",
       "  .table-result-container {\n",
       "    max-height: 300px;\n",
       "    overflow: auto;\n",
       "  }\n",
       "  table, th, td {\n",
       "    border: 1px solid black;\n",
       "    border-collapse: collapse;\n",
       "  }\n",
       "  th, td {\n",
       "    padding: 5px;\n",
       "  }\n",
       "  th {\n",
       "    text-align: left;\n",
       "  }\n",
       "</style><div class='table-result-container'><table class='table-result'><thead style='background-color: white'><tr></tr></thead><tbody></tbody></table></div>"
      ]
     },
     "metadata": {
      "application/vnd.databricks.v1+output": {
       "addedWidgets": {},
       "aggData": [],
       "aggError": "",
       "aggOverflow": false,
       "aggSchema": [],
       "aggSeriesLimitReached": false,
       "aggType": "",
       "arguments": {},
       "columnCustomDisplayInfos": {},
       "data": [],
       "datasetInfos": [],
       "dbfsResultPath": null,
       "isJsonSchema": true,
       "metadata": {
        "dataframeName": null
       },
       "overflow": false,
       "plotOptions": {
        "customPlotOptions": {},
        "displayType": "table",
        "pivotAggregation": null,
        "pivotColumns": null,
        "xColumns": null,
        "yColumns": null
       },
       "removedWidgets": [],
       "schema": [],
       "type": "table"
      }
     },
     "output_type": "display_data"
    }
   ],
   "source": [
    "%sql\n",
    "\n",
    "CREATE TABLE delivery_date_analyses\n",
    "USING DELTA\n",
    "LOCATION \"dbfs:/FileStore/Datum/KaggleOlistData/gold/delta/delivery_date_analyses\""
   ]
  }
 ],
 "metadata": {
  "application/vnd.databricks.v1+notebook": {
   "dashboards": [],
   "language": "python",
   "notebookMetadata": {
    "mostRecentlyExecutedCommandWithImplicitDF": {
     "commandId": 3131359893782651,
     "dataframes": [
      "_sqldf"
     ]
    },
    "pythonIndentUnit": 4
   },
   "notebookName": "DeliveryDateAnalysis",
   "widgets": {}
  }
 },
 "nbformat": 4,
 "nbformat_minor": 0
}
