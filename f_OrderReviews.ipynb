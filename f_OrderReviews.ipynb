{
 "cells": [
  {
   "cell_type": "markdown",
   "metadata": {
    "application/vnd.databricks.v1+cell": {
     "cellMetadata": {
      "byteLimit": 2048000,
      "rowLimit": 10000
     },
     "inputWidgets": {},
     "nuid": "e875823e-9f30-4e7f-ab4a-3b4e98123d20",
     "showTitle": false,
     "title": ""
    }
   },
   "source": [
    "\n",
    "# 1. Imports"
   ]
  },
  {
   "cell_type": "code",
   "execution_count": 0,
   "metadata": {
    "application/vnd.databricks.v1+cell": {
     "cellMetadata": {
      "byteLimit": 2048000,
      "rowLimit": 10000
     },
     "inputWidgets": {},
     "nuid": "c1668b84-1e69-4611-9f2f-ff3e3a404f3f",
     "showTitle": false,
     "title": ""
    }
   },
   "outputs": [],
   "source": [
    "from pyspark.sql.types import (\n",
    "    StructType,\n",
    "    StructField,\n",
    "    StringType,\n",
    "    IntegerType,\n",
    "    TimestampType\n",
    ")"
   ]
  },
  {
   "cell_type": "markdown",
   "metadata": {
    "application/vnd.databricks.v1+cell": {
     "cellMetadata": {
      "byteLimit": 2048000,
      "rowLimit": 10000
     },
     "inputWidgets": {},
     "nuid": "cf611514-26bf-43b5-b7a6-f168857b88ed",
     "showTitle": false,
     "title": ""
    }
   },
   "source": [
    "\n",
    "# 2. Criando o sparkDF\n",
    "\n",
    "> Teste Prático -> Explore o esquema dos dados e faça ajustes conforme necessário.\n",
    "\n",
    "> Teste Prático -> Realize transformações necessárias, como tratamento de valores nulos, conversões de tipos, etc.\n",
    "\n",
    "Em alguns sparkDataframes poderia ter utilizado inferschema=True, para agilizar, mas optei por definir manualmente, analisando no dataset qual é a tipagem de dado mais pertinente para cada coluna."
   ]
  },
  {
   "cell_type": "markdown",
   "metadata": {
    "application/vnd.databricks.v1+cell": {
     "cellMetadata": {
      "byteLimit": 2048000,
      "rowLimit": 10000
     },
     "inputWidgets": {},
     "nuid": "219da292-7d5c-4872-a432-264a9c6877af",
     "showTitle": false,
     "title": ""
    }
   },
   "source": [
    "\n",
    "## 2.1. Order reviews"
   ]
  },
  {
   "cell_type": "code",
   "execution_count": 0,
   "metadata": {
    "application/vnd.databricks.v1+cell": {
     "cellMetadata": {
      "byteLimit": 2048000,
      "rowLimit": 10000
     },
     "inputWidgets": {},
     "nuid": "885a187c-1309-40ce-a6c9-7c344c3beec6",
     "showTitle": false,
     "title": ""
    }
   },
   "outputs": [],
   "source": [
    "schema = StructType(\n",
    "    [\n",
    "        StructField(\"review_id\", StringType(), True),\n",
    "        StructField(\"order_id\", StringType(), True),\n",
    "        StructField(\"review_score\", IntegerType(), True),\n",
    "        StructField(\"review_comment_title\", StringType(), True),\n",
    "        StructField(\"review_comment_message\", StringType(), True),\n",
    "        StructField(\"review_creation_date\", TimestampType(), True),\n",
    "        StructField(\"review_answer_timestamp\", TimestampType(), True),\n",
    "    ]\n",
    ")\n",
    "\n",
    "df_order_reviews = spark.read.csv(\n",
    "    \"dbfs:/FileStore/Datum/KaggleOlistData/bronze/olist_order_reviews_dataset.csv\",\n",
    "    header=True,\n",
    "    schema=schema,\n",
    "    multiLine=True,  # Coluna review_comment_message possui muita quebra de linha, devido a ser entrada de usuários.\n",
    ")"
   ]
  },
  {
   "cell_type": "code",
   "execution_count": 0,
   "metadata": {
    "application/vnd.databricks.v1+cell": {
     "cellMetadata": {
      "byteLimit": 2048000,
      "rowLimit": 10000
     },
     "inputWidgets": {},
     "nuid": "5b7f5994-fa5c-4b89-b838-c75c09341edd",
     "showTitle": false,
     "title": ""
    }
   },
   "outputs": [
    {
     "output_type": "display_data",
     "data": {
      "text/html": [
       "<style scoped>\n",
       "  .table-result-container {\n",
       "    max-height: 300px;\n",
       "    overflow: auto;\n",
       "  }\n",
       "  table, th, td {\n",
       "    border: 1px solid black;\n",
       "    border-collapse: collapse;\n",
       "  }\n",
       "  th, td {\n",
       "    padding: 5px;\n",
       "  }\n",
       "  th {\n",
       "    text-align: left;\n",
       "  }\n",
       "</style><div class='table-result-container'><table class='table-result'><thead style='background-color: white'><tr><th>review_id</th><th>order_id</th><th>review_score</th><th>review_comment_title</th><th>review_comment_message</th><th>review_creation_date</th><th>review_answer_timestamp</th></tr></thead><tbody><tr><td>7bc2406110b926393aa56f80a40eba40</td><td>73fc7af87114b39712e6da79b0a377eb</td><td>4</td><td>null</td><td>null</td><td>2018-01-18T00:00:00Z</td><td>2018-01-18T21:46:59Z</td></tr><tr><td>80e641a11e56f04c1ad469d5645fdfde</td><td>a548910a1c6147796b98fdf73dbeba33</td><td>5</td><td>null</td><td>null</td><td>2018-03-10T00:00:00Z</td><td>2018-03-11T03:05:13Z</td></tr><tr><td>228ce5500dc1d8e020d8d1322874b6f0</td><td>f9e4b658b201a9f2ecdecbb34bed034b</td><td>5</td><td>null</td><td>null</td><td>2018-02-17T00:00:00Z</td><td>2018-02-18T14:36:24Z</td></tr><tr><td>e64fb393e7b32834bb789ff8bb30750e</td><td>658677c97b385a9be170737859d3511b</td><td>5</td><td>null</td><td>Recebi bem antes do prazo estipulado.</td><td>2017-04-21T00:00:00Z</td><td>2017-04-21T22:02:06Z</td></tr><tr><td>f7c4243c7fe1938f181bec41a392bdeb</td><td>8e6bfb81e283fa7e4f11123a3fb894f1</td><td>5</td><td>null</td><td>Parabéns lojas lannister adorei comprar pela Internet seguro e prático Parabéns a todos feliz Páscoa</td><td>2018-03-01T00:00:00Z</td><td>2018-03-02T10:26:53Z</td></tr><tr><td>15197aa66ff4d0650b5434f1b46cda19</td><td>b18dcdf73be66366873cd26c5724d1dc</td><td>1</td><td>null</td><td>null</td><td>2018-04-13T00:00:00Z</td><td>2018-04-16T00:39:37Z</td></tr><tr><td>07f9bee5d1b850860defd761afa7ff16</td><td>e48aa0d2dcec3a2e87348811bcfdf22b</td><td>5</td><td>null</td><td>null</td><td>2017-07-16T00:00:00Z</td><td>2017-07-18T19:30:34Z</td></tr><tr><td>7c6400515c67679fbee952a7525281ef</td><td>c31a859e34e3adac22f376954e19b39d</td><td>5</td><td>null</td><td>null</td><td>2018-08-14T00:00:00Z</td><td>2018-08-14T21:36:06Z</td></tr><tr><td>a3f6f7f6f433de0aefbb97da197c554c</td><td>9c214ac970e84273583ab523dfafd09b</td><td>5</td><td>null</td><td>null</td><td>2017-05-17T00:00:00Z</td><td>2017-05-18T12:05:37Z</td></tr><tr><td>8670d52e15e00043ae7de4c01cc2fe06</td><td>b9bf720beb4ab3728760088589c62129</td><td>4</td><td>recomendo</td><td>aparelho eficiente. no site a marca do aparelho esta impresso como 3desinfector e ao chegar esta com outro nome...atualizar com a marca correta uma vez que é o mesmo aparelho</td><td>2018-05-22T00:00:00Z</td><td>2018-05-23T16:45:47Z</td></tr></tbody></table></div>"
      ]
     },
     "metadata": {
      "application/vnd.databricks.v1+output": {
       "addedWidgets": {},
       "aggData": [],
       "aggError": "",
       "aggOverflow": false,
       "aggSchema": [],
       "aggSeriesLimitReached": false,
       "aggType": "",
       "arguments": {},
       "columnCustomDisplayInfos": {},
       "data": [
        [
         "7bc2406110b926393aa56f80a40eba40",
         "73fc7af87114b39712e6da79b0a377eb",
         4,
         null,
         null,
         "2018-01-18T00:00:00Z",
         "2018-01-18T21:46:59Z"
        ],
        [
         "80e641a11e56f04c1ad469d5645fdfde",
         "a548910a1c6147796b98fdf73dbeba33",
         5,
         null,
         null,
         "2018-03-10T00:00:00Z",
         "2018-03-11T03:05:13Z"
        ],
        [
         "228ce5500dc1d8e020d8d1322874b6f0",
         "f9e4b658b201a9f2ecdecbb34bed034b",
         5,
         null,
         null,
         "2018-02-17T00:00:00Z",
         "2018-02-18T14:36:24Z"
        ],
        [
         "e64fb393e7b32834bb789ff8bb30750e",
         "658677c97b385a9be170737859d3511b",
         5,
         null,
         "Recebi bem antes do prazo estipulado.",
         "2017-04-21T00:00:00Z",
         "2017-04-21T22:02:06Z"
        ],
        [
         "f7c4243c7fe1938f181bec41a392bdeb",
         "8e6bfb81e283fa7e4f11123a3fb894f1",
         5,
         null,
         "Parabéns lojas lannister adorei comprar pela Internet seguro e prático Parabéns a todos feliz Páscoa",
         "2018-03-01T00:00:00Z",
         "2018-03-02T10:26:53Z"
        ],
        [
         "15197aa66ff4d0650b5434f1b46cda19",
         "b18dcdf73be66366873cd26c5724d1dc",
         1,
         null,
         null,
         "2018-04-13T00:00:00Z",
         "2018-04-16T00:39:37Z"
        ],
        [
         "07f9bee5d1b850860defd761afa7ff16",
         "e48aa0d2dcec3a2e87348811bcfdf22b",
         5,
         null,
         null,
         "2017-07-16T00:00:00Z",
         "2017-07-18T19:30:34Z"
        ],
        [
         "7c6400515c67679fbee952a7525281ef",
         "c31a859e34e3adac22f376954e19b39d",
         5,
         null,
         null,
         "2018-08-14T00:00:00Z",
         "2018-08-14T21:36:06Z"
        ],
        [
         "a3f6f7f6f433de0aefbb97da197c554c",
         "9c214ac970e84273583ab523dfafd09b",
         5,
         null,
         null,
         "2017-05-17T00:00:00Z",
         "2017-05-18T12:05:37Z"
        ],
        [
         "8670d52e15e00043ae7de4c01cc2fe06",
         "b9bf720beb4ab3728760088589c62129",
         4,
         "recomendo",
         "aparelho eficiente. no site a marca do aparelho esta impresso como 3desinfector e ao chegar esta com outro nome...atualizar com a marca correta uma vez que é o mesmo aparelho",
         "2018-05-22T00:00:00Z",
         "2018-05-23T16:45:47Z"
        ]
       ],
       "datasetInfos": [],
       "dbfsResultPath": null,
       "isJsonSchema": true,
       "metadata": {},
       "overflow": false,
       "plotOptions": {
        "customPlotOptions": {},
        "displayType": "table",
        "pivotAggregation": null,
        "pivotColumns": null,
        "xColumns": null,
        "yColumns": null
       },
       "removedWidgets": [],
       "schema": [
        {
         "metadata": "{}",
         "name": "review_id",
         "type": "\"string\""
        },
        {
         "metadata": "{}",
         "name": "order_id",
         "type": "\"string\""
        },
        {
         "metadata": "{}",
         "name": "review_score",
         "type": "\"long\""
        },
        {
         "metadata": "{}",
         "name": "review_comment_title",
         "type": "\"string\""
        },
        {
         "metadata": "{}",
         "name": "review_comment_message",
         "type": "\"string\""
        },
        {
         "metadata": "{}",
         "name": "review_creation_date",
         "type": "\"timestamp\""
        },
        {
         "metadata": "{}",
         "name": "review_answer_timestamp",
         "type": "\"timestamp\""
        }
       ],
       "type": "table"
      }
     },
     "output_type": "display_data"
    }
   ],
   "source": [
    "display(df_order_reviews.take(10))"
   ]
  },
  {
   "cell_type": "code",
   "execution_count": 0,
   "metadata": {
    "application/vnd.databricks.v1+cell": {
     "cellMetadata": {
      "byteLimit": 2048000,
      "rowLimit": 10000
     },
     "inputWidgets": {},
     "nuid": "27202411-1743-41c3-a406-5713e81c56cc",
     "showTitle": false,
     "title": ""
    }
   },
   "outputs": [],
   "source": [
    "del schema"
   ]
  },
  {
   "cell_type": "markdown",
   "metadata": {
    "application/vnd.databricks.v1+cell": {
     "cellMetadata": {
      "byteLimit": 2048000,
      "rowLimit": 10000
     },
     "inputWidgets": {},
     "nuid": "b1e5c060-26f6-4c06-a473-bcc541cd460b",
     "showTitle": false,
     "title": ""
    }
   },
   "source": [
    "\n",
    "# 3. Exportando dados para Delta Lake\n",
    "\n",
    "> Teste Prático -> \"Grave os mesmos dados em formato Delta Lake para aproveitar as funcionalidades de versionamento e transações ACID.\""
   ]
  },
  {
   "cell_type": "code",
   "execution_count": 0,
   "metadata": {
    "application/vnd.databricks.v1+cell": {
     "cellMetadata": {
      "byteLimit": 2048000,
      "rowLimit": 10000
     },
     "inputWidgets": {},
     "nuid": "16248c92-c744-402e-b7f4-bb24f4d3bdc1",
     "showTitle": false,
     "title": ""
    }
   },
   "outputs": [],
   "source": [
    "df_order_reviews.write.format(\"delta\").mode(\"overwrite\").option(\"mergeSchema\", \"true\").save(\n",
    "    \"dbfs:/FileStore/Datum/KaggleOlistData/silver/delta/order_reviews\"\n",
    ")"
   ]
  },
  {
   "cell_type": "code",
   "execution_count": 0,
   "metadata": {
    "application/vnd.databricks.v1+cell": {
     "cellMetadata": {
      "byteLimit": 2048000,
      "rowLimit": 10000
     },
     "inputWidgets": {},
     "nuid": "4ba33523-530c-4a3f-88d0-88b14def6df4",
     "showTitle": false,
     "title": ""
    }
   },
   "outputs": [],
   "source": [
    "del df_order_reviews"
   ]
  }
 ],
 "metadata": {
  "application/vnd.databricks.v1+notebook": {
   "dashboards": [],
   "language": "python",
   "notebookMetadata": {
    "pythonIndentUnit": 4
   },
   "notebookName": "OrderReviews",
   "widgets": {}
  }
 },
 "nbformat": 4,
 "nbformat_minor": 0
}
