{
 "cells": [
  {
   "cell_type": "markdown",
   "metadata": {
    "application/vnd.databricks.v1+cell": {
     "cellMetadata": {
      "byteLimit": 2048000,
      "rowLimit": 10000
     },
     "inputWidgets": {},
     "nuid": "baac69a3-eebc-45d5-bf6f-a61862c965d4",
     "showTitle": false,
     "title": ""
    }
   },
   "source": [
    "\n",
    "# 1. Imports"
   ]
  },
  {
   "cell_type": "code",
   "execution_count": 0,
   "metadata": {
    "application/vnd.databricks.v1+cell": {
     "cellMetadata": {
      "byteLimit": 2048000,
      "rowLimit": 10000
     },
     "inputWidgets": {},
     "nuid": "9b9af40b-43ca-4e34-a0f4-355af9a5dd13",
     "showTitle": false,
     "title": ""
    }
   },
   "outputs": [],
   "source": [
    "from pyspark.sql.functions import (\n",
    "    sum\n",
    ")"
   ]
  },
  {
   "cell_type": "markdown",
   "metadata": {
    "application/vnd.databricks.v1+cell": {
     "cellMetadata": {
      "byteLimit": 2048000,
      "rowLimit": 10000
     },
     "inputWidgets": {},
     "nuid": "35e09ae5-1ddc-4bbf-ad7d-bd140ba68bfc",
     "showTitle": false,
     "title": ""
    }
   },
   "source": [
    "\n",
    "# 2. Carregando sparkDFs"
   ]
  },
  {
   "cell_type": "markdown",
   "metadata": {
    "application/vnd.databricks.v1+cell": {
     "cellMetadata": {
      "byteLimit": 2048000,
      "rowLimit": 10000
     },
     "inputWidgets": {},
     "nuid": "9e8da251-25b5-46cc-895c-2004d26e65fc",
     "showTitle": false,
     "title": ""
    }
   },
   "source": [
    "\n",
    "## 2.1 Order payments"
   ]
  },
  {
   "cell_type": "code",
   "execution_count": 0,
   "metadata": {
    "application/vnd.databricks.v1+cell": {
     "cellMetadata": {
      "byteLimit": 2048000,
      "rowLimit": 10000
     },
     "inputWidgets": {},
     "nuid": "50c8db9d-4e3c-4c5f-bad7-d90bf81b29a4",
     "showTitle": false,
     "title": ""
    }
   },
   "outputs": [],
   "source": [
    "# Local do arquivo Delta\n",
    "path_to_delta_table = \"dbfs:/FileStore/Datum/KaggleOlistData/silver/delta/order_payments\"\n",
    "\n",
    "# Ler o arquivo Delta como um DataFrame\n",
    "df_order_payments = spark.read.format(\"delta\").load(path_to_delta_table)"
   ]
  },
  {
   "cell_type": "code",
   "execution_count": 0,
   "metadata": {
    "application/vnd.databricks.v1+cell": {
     "cellMetadata": {
      "byteLimit": 2048000,
      "rowLimit": 10000
     },
     "inputWidgets": {},
     "nuid": "4f34e260-bff1-4dbf-88ff-c95e9bb2f5fa",
     "showTitle": false,
     "title": ""
    }
   },
   "outputs": [
    {
     "output_type": "display_data",
     "data": {
      "text/html": [
       "<style scoped>\n",
       "  .table-result-container {\n",
       "    max-height: 300px;\n",
       "    overflow: auto;\n",
       "  }\n",
       "  table, th, td {\n",
       "    border: 1px solid black;\n",
       "    border-collapse: collapse;\n",
       "  }\n",
       "  th, td {\n",
       "    padding: 5px;\n",
       "  }\n",
       "  th {\n",
       "    text-align: left;\n",
       "  }\n",
       "</style><div class='table-result-container'><table class='table-result'><thead style='background-color: white'><tr><th>order_id</th><th>payment_sequential</th><th>payment_type</th><th>payment_installments</th><th>payment_value</th></tr></thead><tbody><tr><td>b81ef226f3fe1789b1e8b2acac839d17</td><td>1</td><td>credit_card</td><td>8</td><td>99.330000000000000000</td></tr><tr><td>a9810da82917af2d9aefd1278f1dcfa0</td><td>1</td><td>credit_card</td><td>1</td><td>24.390000000000000000</td></tr><tr><td>25e8ea4e93396b6fa0d3dd708e76c1bd</td><td>1</td><td>credit_card</td><td>1</td><td>65.710000000000000000</td></tr><tr><td>ba78997921bbcdc1373bb41e913ab953</td><td>1</td><td>credit_card</td><td>8</td><td>107.780000000000000000</td></tr><tr><td>42fdf880ba16b47b59251dd489d4441a</td><td>1</td><td>credit_card</td><td>2</td><td>128.450000000000000000</td></tr><tr><td>298fcdf1f73eb413e4d26d01b25bc1cd</td><td>1</td><td>credit_card</td><td>2</td><td>96.120000000000000000</td></tr><tr><td>771ee386b001f06208a7419e4fc1bbd7</td><td>1</td><td>credit_card</td><td>1</td><td>81.160000000000000000</td></tr><tr><td>3d7239c394a212faae122962df514ac7</td><td>1</td><td>credit_card</td><td>3</td><td>51.840000000000000000</td></tr><tr><td>1f78449c87a54faf9e96e88ba1491fa9</td><td>1</td><td>credit_card</td><td>6</td><td>341.090000000000000000</td></tr><tr><td>0573b5e23cbd798006520e1d5b4c6714</td><td>1</td><td>boleto</td><td>1</td><td>51.950000000000000000</td></tr></tbody></table></div>"
      ]
     },
     "metadata": {
      "application/vnd.databricks.v1+output": {
       "addedWidgets": {},
       "aggData": [],
       "aggError": "",
       "aggOverflow": false,
       "aggSchema": [],
       "aggSeriesLimitReached": false,
       "aggType": "",
       "arguments": {},
       "columnCustomDisplayInfos": {},
       "data": [
        [
         "b81ef226f3fe1789b1e8b2acac839d17",
         1,
         "credit_card",
         8,
         "99.330000000000000000"
        ],
        [
         "a9810da82917af2d9aefd1278f1dcfa0",
         1,
         "credit_card",
         1,
         "24.390000000000000000"
        ],
        [
         "25e8ea4e93396b6fa0d3dd708e76c1bd",
         1,
         "credit_card",
         1,
         "65.710000000000000000"
        ],
        [
         "ba78997921bbcdc1373bb41e913ab953",
         1,
         "credit_card",
         8,
         "107.780000000000000000"
        ],
        [
         "42fdf880ba16b47b59251dd489d4441a",
         1,
         "credit_card",
         2,
         "128.450000000000000000"
        ],
        [
         "298fcdf1f73eb413e4d26d01b25bc1cd",
         1,
         "credit_card",
         2,
         "96.120000000000000000"
        ],
        [
         "771ee386b001f06208a7419e4fc1bbd7",
         1,
         "credit_card",
         1,
         "81.160000000000000000"
        ],
        [
         "3d7239c394a212faae122962df514ac7",
         1,
         "credit_card",
         3,
         "51.840000000000000000"
        ],
        [
         "1f78449c87a54faf9e96e88ba1491fa9",
         1,
         "credit_card",
         6,
         "341.090000000000000000"
        ],
        [
         "0573b5e23cbd798006520e1d5b4c6714",
         1,
         "boleto",
         1,
         "51.950000000000000000"
        ]
       ],
       "datasetInfos": [],
       "dbfsResultPath": null,
       "isJsonSchema": true,
       "metadata": {},
       "overflow": false,
       "plotOptions": {
        "customPlotOptions": {},
        "displayType": "table",
        "pivotAggregation": null,
        "pivotColumns": null,
        "xColumns": null,
        "yColumns": null
       },
       "removedWidgets": [],
       "schema": [
        {
         "metadata": "{}",
         "name": "order_id",
         "type": "\"string\""
        },
        {
         "metadata": "{}",
         "name": "payment_sequential",
         "type": "\"long\""
        },
        {
         "metadata": "{}",
         "name": "payment_type",
         "type": "\"string\""
        },
        {
         "metadata": "{}",
         "name": "payment_installments",
         "type": "\"long\""
        },
        {
         "metadata": "{}",
         "name": "payment_value",
         "type": "\"decimal(38,18)\""
        }
       ],
       "type": "table"
      }
     },
     "output_type": "display_data"
    }
   ],
   "source": [
    "display(df_order_payments.take(10))"
   ]
  },
  {
   "cell_type": "markdown",
   "metadata": {
    "application/vnd.databricks.v1+cell": {
     "cellMetadata": {
      "byteLimit": 2048000,
      "rowLimit": 10000
     },
     "inputWidgets": {},
     "nuid": "88eeb896-5f1c-4026-acc1-fed6016e5628",
     "showTitle": false,
     "title": ""
    }
   },
   "source": [
    "\n",
    "## 2.2 Orders"
   ]
  },
  {
   "cell_type": "code",
   "execution_count": 0,
   "metadata": {
    "application/vnd.databricks.v1+cell": {
     "cellMetadata": {
      "byteLimit": 2048000,
      "rowLimit": 10000
     },
     "inputWidgets": {},
     "nuid": "1a15bc3b-2b32-4627-a528-6da3e7b4d774",
     "showTitle": false,
     "title": ""
    }
   },
   "outputs": [],
   "source": [
    "# Local do arquivo Delta\n",
    "path_to_delta_table = \"dbfs:/FileStore/Datum/KaggleOlistData/silver/delta/orders\"\n",
    "\n",
    "# Ler o arquivo Delta como um DataFrame\n",
    "df_orders = spark.read.format(\"delta\").load(path_to_delta_table)"
   ]
  },
  {
   "cell_type": "code",
   "execution_count": 0,
   "metadata": {
    "application/vnd.databricks.v1+cell": {
     "cellMetadata": {
      "byteLimit": 2048000,
      "rowLimit": 10000
     },
     "inputWidgets": {},
     "nuid": "58887fb6-b442-4ea9-8c7a-ce679a323d29",
     "showTitle": false,
     "title": ""
    }
   },
   "outputs": [
    {
     "output_type": "display_data",
     "data": {
      "text/html": [
       "<style scoped>\n",
       "  .table-result-container {\n",
       "    max-height: 300px;\n",
       "    overflow: auto;\n",
       "  }\n",
       "  table, th, td {\n",
       "    border: 1px solid black;\n",
       "    border-collapse: collapse;\n",
       "  }\n",
       "  th, td {\n",
       "    padding: 5px;\n",
       "  }\n",
       "  th {\n",
       "    text-align: left;\n",
       "  }\n",
       "</style><div class='table-result-container'><table class='table-result'><thead style='background-color: white'><tr><th>order_id</th><th>customer_id</th><th>order_status</th><th>order_purchase_timestamp</th><th>order_approved_at</th><th>order_delivered_carrier_date</th><th>order_delivered_customer_date</th><th>order_estimated_delivery_date</th><th>delivery_time_diff</th></tr></thead><tbody><tr><td>e481f51cbdc54678b7cc49136f2d6af7</td><td>9ef432eb6251297304e76186b10a928d</td><td>delivered</td><td>2017-10-02T10:56:33Z</td><td>2017-10-02T11:07:15Z</td><td>2017-10-04T19:55:00Z</td><td>2017-10-10T21:25:13Z</td><td>2017-10-18T00:00:00Z</td><td>-8</td></tr><tr><td>53cdb2fc8bc7dce0b6741e2150273451</td><td>b0830fb4747a6c6d20dea0b8c802d7ef</td><td>delivered</td><td>2018-07-24T20:41:37Z</td><td>2018-07-26T03:24:27Z</td><td>2018-07-26T14:31:00Z</td><td>2018-08-07T15:27:45Z</td><td>2018-08-13T00:00:00Z</td><td>-6</td></tr><tr><td>47770eb9100c2d0c44946d9cf07ec65d</td><td>41ce2a54c0b03bf3443c3d931a367089</td><td>delivered</td><td>2018-08-08T08:38:49Z</td><td>2018-08-08T08:55:23Z</td><td>2018-08-08T13:50:00Z</td><td>2018-08-17T18:06:29Z</td><td>2018-09-04T00:00:00Z</td><td>-18</td></tr><tr><td>949d5b44dbf5de918fe9c16f97b45f8a</td><td>f88197465ea7920adcdbec7375364d82</td><td>delivered</td><td>2017-11-18T19:28:06Z</td><td>2017-11-18T19:45:59Z</td><td>2017-11-22T13:39:59Z</td><td>2017-12-02T00:28:42Z</td><td>2017-12-15T00:00:00Z</td><td>-13</td></tr><tr><td>ad21c59c0840e6cb83a9ceb5573f8159</td><td>8ab97904e6daea8866dbdbc4fb7aad2c</td><td>delivered</td><td>2018-02-13T21:18:39Z</td><td>2018-02-13T22:20:29Z</td><td>2018-02-14T19:46:34Z</td><td>2018-02-16T18:17:02Z</td><td>2018-02-26T00:00:00Z</td><td>-10</td></tr><tr><td>a4591c265e18cb1dcee52889e2d8acc3</td><td>503740e9ca751ccdda7ba28e9ab8f608</td><td>delivered</td><td>2017-07-09T21:57:05Z</td><td>2017-07-09T22:10:13Z</td><td>2017-07-11T14:58:04Z</td><td>2017-07-26T10:57:55Z</td><td>2017-08-01T00:00:00Z</td><td>-6</td></tr><tr><td>136cce7faa42fdb2cefd53fdc79a6098</td><td>ed0271e0b7da060a393796590e7b737a</td><td>invoiced</td><td>2017-04-11T12:22:08Z</td><td>2017-04-13T13:25:17Z</td><td>null</td><td>null</td><td>2017-05-09T00:00:00Z</td><td>null</td></tr><tr><td>6514b8ad8028c9f2cc2374ded245783f</td><td>9bdf08b4b3b52b5526ff42d37d47f222</td><td>delivered</td><td>2017-05-16T13:10:30Z</td><td>2017-05-16T13:22:11Z</td><td>2017-05-22T10:07:46Z</td><td>2017-05-26T12:55:51Z</td><td>2017-06-07T00:00:00Z</td><td>-12</td></tr><tr><td>76c6e866289321a7c93b82b54852dc33</td><td>f54a9f0e6b351c431402b8461ea51999</td><td>delivered</td><td>2017-01-23T18:29:09Z</td><td>2017-01-25T02:50:47Z</td><td>2017-01-26T14:16:31Z</td><td>2017-02-02T14:08:10Z</td><td>2017-03-06T00:00:00Z</td><td>-32</td></tr><tr><td>e69bfb5eb88e0ed6a785585b27e16dbf</td><td>31ad1d1b63eb9962463f764d4e6e0c9d</td><td>delivered</td><td>2017-07-29T11:55:02Z</td><td>2017-07-29T12:05:32Z</td><td>2017-08-10T19:45:24Z</td><td>2017-08-16T17:14:30Z</td><td>2017-08-23T00:00:00Z</td><td>-7</td></tr></tbody></table></div>"
      ]
     },
     "metadata": {
      "application/vnd.databricks.v1+output": {
       "addedWidgets": {},
       "aggData": [],
       "aggError": "",
       "aggOverflow": false,
       "aggSchema": [],
       "aggSeriesLimitReached": false,
       "aggType": "",
       "arguments": {},
       "columnCustomDisplayInfos": {},
       "data": [
        [
         "e481f51cbdc54678b7cc49136f2d6af7",
         "9ef432eb6251297304e76186b10a928d",
         "delivered",
         "2017-10-02T10:56:33Z",
         "2017-10-02T11:07:15Z",
         "2017-10-04T19:55:00Z",
         "2017-10-10T21:25:13Z",
         "2017-10-18T00:00:00Z",
         -8
        ],
        [
         "53cdb2fc8bc7dce0b6741e2150273451",
         "b0830fb4747a6c6d20dea0b8c802d7ef",
         "delivered",
         "2018-07-24T20:41:37Z",
         "2018-07-26T03:24:27Z",
         "2018-07-26T14:31:00Z",
         "2018-08-07T15:27:45Z",
         "2018-08-13T00:00:00Z",
         -6
        ],
        [
         "47770eb9100c2d0c44946d9cf07ec65d",
         "41ce2a54c0b03bf3443c3d931a367089",
         "delivered",
         "2018-08-08T08:38:49Z",
         "2018-08-08T08:55:23Z",
         "2018-08-08T13:50:00Z",
         "2018-08-17T18:06:29Z",
         "2018-09-04T00:00:00Z",
         -18
        ],
        [
         "949d5b44dbf5de918fe9c16f97b45f8a",
         "f88197465ea7920adcdbec7375364d82",
         "delivered",
         "2017-11-18T19:28:06Z",
         "2017-11-18T19:45:59Z",
         "2017-11-22T13:39:59Z",
         "2017-12-02T00:28:42Z",
         "2017-12-15T00:00:00Z",
         -13
        ],
        [
         "ad21c59c0840e6cb83a9ceb5573f8159",
         "8ab97904e6daea8866dbdbc4fb7aad2c",
         "delivered",
         "2018-02-13T21:18:39Z",
         "2018-02-13T22:20:29Z",
         "2018-02-14T19:46:34Z",
         "2018-02-16T18:17:02Z",
         "2018-02-26T00:00:00Z",
         -10
        ],
        [
         "a4591c265e18cb1dcee52889e2d8acc3",
         "503740e9ca751ccdda7ba28e9ab8f608",
         "delivered",
         "2017-07-09T21:57:05Z",
         "2017-07-09T22:10:13Z",
         "2017-07-11T14:58:04Z",
         "2017-07-26T10:57:55Z",
         "2017-08-01T00:00:00Z",
         -6
        ],
        [
         "136cce7faa42fdb2cefd53fdc79a6098",
         "ed0271e0b7da060a393796590e7b737a",
         "invoiced",
         "2017-04-11T12:22:08Z",
         "2017-04-13T13:25:17Z",
         null,
         null,
         "2017-05-09T00:00:00Z",
         null
        ],
        [
         "6514b8ad8028c9f2cc2374ded245783f",
         "9bdf08b4b3b52b5526ff42d37d47f222",
         "delivered",
         "2017-05-16T13:10:30Z",
         "2017-05-16T13:22:11Z",
         "2017-05-22T10:07:46Z",
         "2017-05-26T12:55:51Z",
         "2017-06-07T00:00:00Z",
         -12
        ],
        [
         "76c6e866289321a7c93b82b54852dc33",
         "f54a9f0e6b351c431402b8461ea51999",
         "delivered",
         "2017-01-23T18:29:09Z",
         "2017-01-25T02:50:47Z",
         "2017-01-26T14:16:31Z",
         "2017-02-02T14:08:10Z",
         "2017-03-06T00:00:00Z",
         -32
        ],
        [
         "e69bfb5eb88e0ed6a785585b27e16dbf",
         "31ad1d1b63eb9962463f764d4e6e0c9d",
         "delivered",
         "2017-07-29T11:55:02Z",
         "2017-07-29T12:05:32Z",
         "2017-08-10T19:45:24Z",
         "2017-08-16T17:14:30Z",
         "2017-08-23T00:00:00Z",
         -7
        ]
       ],
       "datasetInfos": [],
       "dbfsResultPath": null,
       "isJsonSchema": true,
       "metadata": {},
       "overflow": false,
       "plotOptions": {
        "customPlotOptions": {},
        "displayType": "table",
        "pivotAggregation": null,
        "pivotColumns": null,
        "xColumns": null,
        "yColumns": null
       },
       "removedWidgets": [],
       "schema": [
        {
         "metadata": "{}",
         "name": "order_id",
         "type": "\"string\""
        },
        {
         "metadata": "{}",
         "name": "customer_id",
         "type": "\"string\""
        },
        {
         "metadata": "{}",
         "name": "order_status",
         "type": "\"string\""
        },
        {
         "metadata": "{}",
         "name": "order_purchase_timestamp",
         "type": "\"timestamp\""
        },
        {
         "metadata": "{}",
         "name": "order_approved_at",
         "type": "\"timestamp\""
        },
        {
         "metadata": "{}",
         "name": "order_delivered_carrier_date",
         "type": "\"timestamp\""
        },
        {
         "metadata": "{}",
         "name": "order_delivered_customer_date",
         "type": "\"timestamp\""
        },
        {
         "metadata": "{}",
         "name": "order_estimated_delivery_date",
         "type": "\"timestamp\""
        },
        {
         "metadata": "{}",
         "name": "delivery_time_diff",
         "type": "\"long\""
        }
       ],
       "type": "table"
      }
     },
     "output_type": "display_data"
    }
   ],
   "source": [
    "display(df_orders.take(10))"
   ]
  },
  {
   "cell_type": "markdown",
   "metadata": {
    "application/vnd.databricks.v1+cell": {
     "cellMetadata": {
      "byteLimit": 2048000,
      "rowLimit": 10000
     },
     "inputWidgets": {},
     "nuid": "a045b30d-243c-4f1e-aecc-42401e6f9ae9",
     "showTitle": false,
     "title": ""
    }
   },
   "source": [
    "\n",
    "## 2.3 Customers"
   ]
  },
  {
   "cell_type": "code",
   "execution_count": 0,
   "metadata": {
    "application/vnd.databricks.v1+cell": {
     "cellMetadata": {
      "byteLimit": 2048000,
      "rowLimit": 10000
     },
     "inputWidgets": {},
     "nuid": "43fc6a7f-c9d5-43ae-be2e-51e4aa424545",
     "showTitle": false,
     "title": ""
    }
   },
   "outputs": [],
   "source": [
    "# Local do arquivo Delta\n",
    "path_to_delta_table = \"dbfs:/FileStore/Datum/KaggleOlistData/silver/delta/customers\"\n",
    "\n",
    "# Ler o arquivo Delta como um DataFrame\n",
    "df_customers = spark.read.format(\"delta\").load(path_to_delta_table)"
   ]
  },
  {
   "cell_type": "code",
   "execution_count": 0,
   "metadata": {
    "application/vnd.databricks.v1+cell": {
     "cellMetadata": {
      "byteLimit": 2048000,
      "rowLimit": 10000
     },
     "inputWidgets": {},
     "nuid": "70f02180-2e99-46fa-9df3-34c1af859ce0",
     "showTitle": false,
     "title": ""
    }
   },
   "outputs": [
    {
     "output_type": "display_data",
     "data": {
      "text/html": [
       "<style scoped>\n",
       "  .table-result-container {\n",
       "    max-height: 300px;\n",
       "    overflow: auto;\n",
       "  }\n",
       "  table, th, td {\n",
       "    border: 1px solid black;\n",
       "    border-collapse: collapse;\n",
       "  }\n",
       "  th, td {\n",
       "    padding: 5px;\n",
       "  }\n",
       "  th {\n",
       "    text-align: left;\n",
       "  }\n",
       "</style><div class='table-result-container'><table class='table-result'><thead style='background-color: white'><tr><th>customer_id</th><th>customer_unique_id</th><th>customer_zip_code_prefix</th><th>customer_city</th><th>customer_state</th></tr></thead><tbody><tr><td>06b8999e2fba1a1fbc88172c00ba8bc7</td><td>861eff4711a542e4b93843c6dd7febb0</td><td>14409</td><td>franca</td><td>SP</td></tr><tr><td>18955e83d337fd6b2def6b18a428ac77</td><td>290c77bc529b7ac935b93aa66c333dc3</td><td>09790</td><td>sao bernardo do campo</td><td>SP</td></tr><tr><td>4e7b3e00288586ebd08712fdd0374a03</td><td>060e732b5b29e8181a18229c7b0b2b5e</td><td>01151</td><td>sao paulo</td><td>SP</td></tr><tr><td>b2b6027bc5c5109e529d4dc6358b12c3</td><td>259dac757896d24d7702b9acbbff3f3c</td><td>08775</td><td>mogi das cruzes</td><td>SP</td></tr><tr><td>4f2d8ab171c80ec8364f7c12e35b23ad</td><td>345ecd01c38d18a9036ed96c73b8d066</td><td>13056</td><td>campinas</td><td>SP</td></tr><tr><td>879864dab9bc3047522c92c82e1212b8</td><td>4c93744516667ad3b8f1fb645a3116a4</td><td>89254</td><td>jaragua do sul</td><td>SC</td></tr><tr><td>fd826e7cf63160e536e0908c76c3f441</td><td>addec96d2e059c80c30fe6871d30d177</td><td>04534</td><td>sao paulo</td><td>SP</td></tr><tr><td>5e274e7a0c3809e14aba7ad5aae0d407</td><td>57b2a98a409812fe9618067b6b8ebe4f</td><td>35182</td><td>timoteo</td><td>MG</td></tr><tr><td>5adf08e34b2e993982a47070956c5c65</td><td>1175e95fb47ddff9de6b2b06188f7e0d</td><td>81560</td><td>curitiba</td><td>PR</td></tr><tr><td>4b7139f34592b3a31687243a302fa75b</td><td>9afe194fb833f79e300e37e580171f22</td><td>30575</td><td>belo horizonte</td><td>MG</td></tr></tbody></table></div>"
      ]
     },
     "metadata": {
      "application/vnd.databricks.v1+output": {
       "addedWidgets": {},
       "aggData": [],
       "aggError": "",
       "aggOverflow": false,
       "aggSchema": [],
       "aggSeriesLimitReached": false,
       "aggType": "",
       "arguments": {},
       "columnCustomDisplayInfos": {},
       "data": [
        [
         "06b8999e2fba1a1fbc88172c00ba8bc7",
         "861eff4711a542e4b93843c6dd7febb0",
         "14409",
         "franca",
         "SP"
        ],
        [
         "18955e83d337fd6b2def6b18a428ac77",
         "290c77bc529b7ac935b93aa66c333dc3",
         "09790",
         "sao bernardo do campo",
         "SP"
        ],
        [
         "4e7b3e00288586ebd08712fdd0374a03",
         "060e732b5b29e8181a18229c7b0b2b5e",
         "01151",
         "sao paulo",
         "SP"
        ],
        [
         "b2b6027bc5c5109e529d4dc6358b12c3",
         "259dac757896d24d7702b9acbbff3f3c",
         "08775",
         "mogi das cruzes",
         "SP"
        ],
        [
         "4f2d8ab171c80ec8364f7c12e35b23ad",
         "345ecd01c38d18a9036ed96c73b8d066",
         "13056",
         "campinas",
         "SP"
        ],
        [
         "879864dab9bc3047522c92c82e1212b8",
         "4c93744516667ad3b8f1fb645a3116a4",
         "89254",
         "jaragua do sul",
         "SC"
        ],
        [
         "fd826e7cf63160e536e0908c76c3f441",
         "addec96d2e059c80c30fe6871d30d177",
         "04534",
         "sao paulo",
         "SP"
        ],
        [
         "5e274e7a0c3809e14aba7ad5aae0d407",
         "57b2a98a409812fe9618067b6b8ebe4f",
         "35182",
         "timoteo",
         "MG"
        ],
        [
         "5adf08e34b2e993982a47070956c5c65",
         "1175e95fb47ddff9de6b2b06188f7e0d",
         "81560",
         "curitiba",
         "PR"
        ],
        [
         "4b7139f34592b3a31687243a302fa75b",
         "9afe194fb833f79e300e37e580171f22",
         "30575",
         "belo horizonte",
         "MG"
        ]
       ],
       "datasetInfos": [],
       "dbfsResultPath": null,
       "isJsonSchema": true,
       "metadata": {},
       "overflow": false,
       "plotOptions": {
        "customPlotOptions": {},
        "displayType": "table",
        "pivotAggregation": null,
        "pivotColumns": null,
        "xColumns": null,
        "yColumns": null
       },
       "removedWidgets": [],
       "schema": [
        {
         "metadata": "{}",
         "name": "customer_id",
         "type": "\"string\""
        },
        {
         "metadata": "{}",
         "name": "customer_unique_id",
         "type": "\"string\""
        },
        {
         "metadata": "{}",
         "name": "customer_zip_code_prefix",
         "type": "\"string\""
        },
        {
         "metadata": "{}",
         "name": "customer_city",
         "type": "\"string\""
        },
        {
         "metadata": "{}",
         "name": "customer_state",
         "type": "\"string\""
        }
       ],
       "type": "table"
      }
     },
     "output_type": "display_data"
    }
   ],
   "source": [
    "display(df_customers.take(10))"
   ]
  },
  {
   "cell_type": "code",
   "execution_count": 0,
   "metadata": {
    "application/vnd.databricks.v1+cell": {
     "cellMetadata": {
      "byteLimit": 2048000,
      "rowLimit": 10000
     },
     "inputWidgets": {},
     "nuid": "8538db7a-6fa6-4d62-ad0b-70d6ff0518b5",
     "showTitle": false,
     "title": ""
    }
   },
   "outputs": [],
   "source": [
    "del path_to_delta_table"
   ]
  },
  {
   "cell_type": "markdown",
   "metadata": {
    "application/vnd.databricks.v1+cell": {
     "cellMetadata": {
      "byteLimit": 2048000,
      "rowLimit": 10000
     },
     "inputWidgets": {},
     "nuid": "7f0773f6-77a9-4482-ac76-0205385ba97d",
     "showTitle": false,
     "title": ""
    }
   },
   "source": [
    "\n",
    "# 3. Agregação de Dados\n",
    "\n",
    "> Teste Prático -> Agregue os dados para obter estatísticas de vendas, por exemplo, o total de vendas por produto ou por categoria.\n",
    "\n",
    "Nesta agregação, escolhi criar um dataframe que contenha, tanto o valor total de uma order_id, quanto as informações de estado e cidade do customer que fez a order. Desta forma, conseguiremos analisar quais cidades e ou estados que mais movimentam dinheiro com a Olist.\n",
    "\n",
    "Começo criando o df_total_payment_order, onde tenho a order_id associado ao valor total da compra."
   ]
  },
  {
   "cell_type": "code",
   "execution_count": 0,
   "metadata": {
    "application/vnd.databricks.v1+cell": {
     "cellMetadata": {
      "byteLimit": 2048000,
      "rowLimit": 10000
     },
     "inputWidgets": {},
     "nuid": "d5ea207b-5f03-4e92-a965-ab6f555a6ef5",
     "showTitle": false,
     "title": ""
    }
   },
   "outputs": [],
   "source": [
    "df_total_payment_order = df_order_payments.groupBy(\"order_id\").agg(\n",
    "    sum(\"payment_value\").alias(\"total_payment_value\")\n",
    ")"
   ]
  },
  {
   "cell_type": "code",
   "execution_count": 0,
   "metadata": {
    "application/vnd.databricks.v1+cell": {
     "cellMetadata": {
      "byteLimit": 2048000,
      "rowLimit": 10000
     },
     "inputWidgets": {},
     "nuid": "5391be43-8d81-4dd5-acd4-b2b7f8ab986c",
     "showTitle": false,
     "title": ""
    }
   },
   "outputs": [],
   "source": [
    "df_total_payment_order_with_customer_id = df_total_payment_order.join(\n",
    "    df_orders,\n",
    "    df_total_payment_order.order_id == df_orders.order_id,\n",
    "    \"left\",\n",
    ").select(df_total_payment_order[\"*\"], df_orders[\"customer_id\"])"
   ]
  },
  {
   "cell_type": "markdown",
   "metadata": {
    "application/vnd.databricks.v1+cell": {
     "cellMetadata": {
      "byteLimit": 2048000,
      "rowLimit": 10000
     },
     "inputWidgets": {},
     "nuid": "fc7c65eb-571c-4095-88fd-41f1111489e8",
     "showTitle": false,
     "title": ""
    }
   },
   "source": [
    "\n",
    "Agora, crio o dataframe que terá informação, tanto do valor total da order_id, quanto da cidade e estado do customer."
   ]
  },
  {
   "cell_type": "code",
   "execution_count": 0,
   "metadata": {
    "application/vnd.databricks.v1+cell": {
     "cellMetadata": {
      "byteLimit": 2048000,
      "rowLimit": 10000
     },
     "inputWidgets": {},
     "nuid": "244df717-744f-425a-862e-7c5d63ba190b",
     "showTitle": false,
     "title": ""
    }
   },
   "outputs": [],
   "source": [
    "df_total_payment_order_with_customer_location = (\n",
    "    df_total_payment_order_with_customer_id.join(\n",
    "        df_customers,\n",
    "        df_total_payment_order_with_customer_id.customer_id\n",
    "        == df_customers.customer_id,\n",
    "        \"left\",\n",
    "    ).select(\n",
    "        df_total_payment_order_with_customer_id[\"*\"],\n",
    "        df_customers[\"customer_city\"],\n",
    "        df_customers[\"customer_state\"],\n",
    "    )\n",
    ")"
   ]
  },
  {
   "cell_type": "code",
   "execution_count": 0,
   "metadata": {
    "application/vnd.databricks.v1+cell": {
     "cellMetadata": {
      "byteLimit": 2048000,
      "rowLimit": 10000
     },
     "inputWidgets": {},
     "nuid": "ab5ff504-7b9f-4442-a49f-741293610c33",
     "showTitle": false,
     "title": ""
    }
   },
   "outputs": [],
   "source": [
    "df_total_sales_by_state = (\n",
    "    df_total_payment_order_with_customer_location.withColumnRenamed(\n",
    "        \"customer_state\", \"state\"\n",
    "    )\n",
    "    .groupBy(\"state\")\n",
    "    .agg(sum(\"total_payment_value\").alias(\"total_R$\"))\n",
    ")"
   ]
  },
  {
   "cell_type": "code",
   "execution_count": 0,
   "metadata": {
    "application/vnd.databricks.v1+cell": {
     "cellMetadata": {
      "byteLimit": 2048000,
      "rowLimit": 10000
     },
     "inputWidgets": {},
     "nuid": "1db6313c-7cee-4436-adf4-d75181e7f375",
     "showTitle": false,
     "title": ""
    }
   },
   "outputs": [
    {
     "output_type": "display_data",
     "data": {
      "text/html": [
       "<style scoped>\n",
       "  .table-result-container {\n",
       "    max-height: 300px;\n",
       "    overflow: auto;\n",
       "  }\n",
       "  table, th, td {\n",
       "    border: 1px solid black;\n",
       "    border-collapse: collapse;\n",
       "  }\n",
       "  th, td {\n",
       "    padding: 5px;\n",
       "  }\n",
       "  th {\n",
       "    text-align: left;\n",
       "  }\n",
       "</style><div class='table-result-container'><table class='table-result'><thead style='background-color: white'><tr><th>state</th><th>total_R$</th></tr></thead><tbody><tr><td>SC</td><td>623086.430000000000000000</td></tr><tr><td>RO</td><td>60866.200000000000000000</td></tr><tr><td>PI</td><td>108523.970000000000000000</td></tr><tr><td>AM</td><td>27966.930000000000000000</td></tr><tr><td>RR</td><td>10064.620000000000000000</td></tr><tr><td>GO</td><td>350092.310000000000000000</td></tr><tr><td>TO</td><td>61485.330000000000000000</td></tr><tr><td>MT</td><td>187029.290000000000000000</td></tr><tr><td>SP</td><td>5998226.960000000000000000</td></tr><tr><td>ES</td><td>325967.550000000000000000</td></tr></tbody></table></div>"
      ]
     },
     "metadata": {
      "application/vnd.databricks.v1+output": {
       "addedWidgets": {},
       "aggData": [],
       "aggError": "",
       "aggOverflow": false,
       "aggSchema": [],
       "aggSeriesLimitReached": false,
       "aggType": "",
       "arguments": {},
       "columnCustomDisplayInfos": {},
       "data": [
        [
         "SC",
         "623086.430000000000000000"
        ],
        [
         "RO",
         "60866.200000000000000000"
        ],
        [
         "PI",
         "108523.970000000000000000"
        ],
        [
         "AM",
         "27966.930000000000000000"
        ],
        [
         "RR",
         "10064.620000000000000000"
        ],
        [
         "GO",
         "350092.310000000000000000"
        ],
        [
         "TO",
         "61485.330000000000000000"
        ],
        [
         "MT",
         "187029.290000000000000000"
        ],
        [
         "SP",
         "5998226.960000000000000000"
        ],
        [
         "ES",
         "325967.550000000000000000"
        ]
       ],
       "datasetInfos": [],
       "dbfsResultPath": null,
       "isJsonSchema": true,
       "metadata": {},
       "overflow": false,
       "plotOptions": {
        "customPlotOptions": {},
        "displayType": "table",
        "pivotAggregation": null,
        "pivotColumns": null,
        "xColumns": null,
        "yColumns": null
       },
       "removedWidgets": [],
       "schema": [
        {
         "metadata": "{}",
         "name": "state",
         "type": "\"string\""
        },
        {
         "metadata": "{}",
         "name": "total_R$",
         "type": "\"decimal(38,18)\""
        }
       ],
       "type": "table"
      }
     },
     "output_type": "display_data"
    }
   ],
   "source": [
    "display(df_total_sales_by_state.take(10))"
   ]
  },
  {
   "cell_type": "code",
   "execution_count": 0,
   "metadata": {
    "application/vnd.databricks.v1+cell": {
     "cellMetadata": {
      "byteLimit": 2048000,
      "rowLimit": 10000
     },
     "inputWidgets": {},
     "nuid": "7a0c9326-b545-45bf-926e-8cac61c055dc",
     "showTitle": false,
     "title": ""
    }
   },
   "outputs": [],
   "source": [
    "del df_customers, df_order_payments, df_orders, df_total_payment_order, df_total_payment_order_with_customer_id, df_total_payment_order_with_customer_location"
   ]
  },
  {
   "cell_type": "markdown",
   "metadata": {
    "application/vnd.databricks.v1+cell": {
     "cellMetadata": {
      "byteLimit": 2048000,
      "rowLimit": 10000
     },
     "inputWidgets": {},
     "nuid": "a5ea0a9c-ef79-4327-906b-bbb207b42eb3",
     "showTitle": false,
     "title": ""
    }
   },
   "source": [
    "\n",
    "# 4. Exportando dados para Delta Lake\n",
    "\n",
    "> Teste Prático -> \"Grave os mesmos dados em formato Delta Lake para aproveitar as funcionalidades de versionamento e transações ACID.\""
   ]
  },
  {
   "cell_type": "code",
   "execution_count": 0,
   "metadata": {
    "application/vnd.databricks.v1+cell": {
     "cellMetadata": {
      "byteLimit": 2048000,
      "rowLimit": 10000
     },
     "inputWidgets": {},
     "nuid": "544d5b50-d388-4e3e-8d3c-05b6ca65873b",
     "showTitle": false,
     "title": ""
    }
   },
   "outputs": [],
   "source": [
    "df_total_sales_by_state.write.format(\"delta\").mode(\"overwrite\").option(\"mergeSchema\", \"true\").save(\n",
    "    \"dbfs:/FileStore/Datum/KaggleOlistData/gold/delta/total_sales_by_state\"\n",
    ")"
   ]
  },
  {
   "cell_type": "code",
   "execution_count": 0,
   "metadata": {
    "application/vnd.databricks.v1+cell": {
     "cellMetadata": {
      "byteLimit": 2048000,
      "rowLimit": 10000
     },
     "inputWidgets": {},
     "nuid": "70e45cf0-9535-401d-a259-2e41dfc658a7",
     "showTitle": false,
     "title": ""
    }
   },
   "outputs": [],
   "source": [
    "del df_total_sales_by_state"
   ]
  },
  {
   "cell_type": "markdown",
   "metadata": {
    "application/vnd.databricks.v1+cell": {
     "cellMetadata": {
      "byteLimit": 2048000,
      "rowLimit": 10000
     },
     "inputWidgets": {},
     "nuid": "51e6d741-399b-441a-90db-d58def5cca13",
     "showTitle": false,
     "title": ""
    }
   },
   "source": [
    "\n",
    "# 5. Criando Delta Table"
   ]
  },
  {
   "cell_type": "code",
   "execution_count": 0,
   "metadata": {
    "application/vnd.databricks.v1+cell": {
     "cellMetadata": {
      "byteLimit": 2048000,
      "implicitDf": true,
      "rowLimit": 10000
     },
     "inputWidgets": {},
     "nuid": "509a0b12-8d8d-4b80-be1f-fdc4f065bec2",
     "showTitle": false,
     "title": ""
    }
   },
   "outputs": [
    {
     "output_type": "display_data",
     "data": {
      "text/html": [
       "<style scoped>\n",
       "  .table-result-container {\n",
       "    max-height: 300px;\n",
       "    overflow: auto;\n",
       "  }\n",
       "  table, th, td {\n",
       "    border: 1px solid black;\n",
       "    border-collapse: collapse;\n",
       "  }\n",
       "  th, td {\n",
       "    padding: 5px;\n",
       "  }\n",
       "  th {\n",
       "    text-align: left;\n",
       "  }\n",
       "</style><div class='table-result-container'><table class='table-result'><thead style='background-color: white'><tr></tr></thead><tbody></tbody></table></div>"
      ]
     },
     "metadata": {
      "application/vnd.databricks.v1+output": {
       "addedWidgets": {},
       "aggData": [],
       "aggError": "",
       "aggOverflow": false,
       "aggSchema": [],
       "aggSeriesLimitReached": false,
       "aggType": "",
       "arguments": {},
       "columnCustomDisplayInfos": {},
       "data": [],
       "datasetInfos": [],
       "dbfsResultPath": null,
       "isJsonSchema": true,
       "metadata": {
        "dataframeName": null
       },
       "overflow": false,
       "plotOptions": {
        "customPlotOptions": {},
        "displayType": "table",
        "pivotAggregation": null,
        "pivotColumns": null,
        "xColumns": null,
        "yColumns": null
       },
       "removedWidgets": [],
       "schema": [],
       "type": "table"
      }
     },
     "output_type": "display_data"
    }
   ],
   "source": [
    "%sql\n",
    "\n",
    "create database if not exists olist;"
   ]
  },
  {
   "cell_type": "code",
   "execution_count": 0,
   "metadata": {
    "application/vnd.databricks.v1+cell": {
     "cellMetadata": {
      "byteLimit": 2048000,
      "implicitDf": true,
      "rowLimit": 10000
     },
     "inputWidgets": {},
     "nuid": "6dc843c7-9cea-46ee-ae38-6478d83ec923",
     "showTitle": false,
     "title": ""
    }
   },
   "outputs": [
    {
     "output_type": "display_data",
     "data": {
      "text/html": [
       "<style scoped>\n",
       "  .table-result-container {\n",
       "    max-height: 300px;\n",
       "    overflow: auto;\n",
       "  }\n",
       "  table, th, td {\n",
       "    border: 1px solid black;\n",
       "    border-collapse: collapse;\n",
       "  }\n",
       "  th, td {\n",
       "    padding: 5px;\n",
       "  }\n",
       "  th {\n",
       "    text-align: left;\n",
       "  }\n",
       "</style><div class='table-result-container'><table class='table-result'><thead style='background-color: white'><tr></tr></thead><tbody></tbody></table></div>"
      ]
     },
     "metadata": {
      "application/vnd.databricks.v1+output": {
       "addedWidgets": {},
       "aggData": [],
       "aggError": "",
       "aggOverflow": false,
       "aggSchema": [],
       "aggSeriesLimitReached": false,
       "aggType": "",
       "arguments": {},
       "columnCustomDisplayInfos": {},
       "data": [],
       "datasetInfos": [],
       "dbfsResultPath": null,
       "isJsonSchema": true,
       "metadata": {
        "dataframeName": null
       },
       "overflow": false,
       "plotOptions": {
        "customPlotOptions": {},
        "displayType": "table",
        "pivotAggregation": null,
        "pivotColumns": null,
        "xColumns": null,
        "yColumns": null
       },
       "removedWidgets": [],
       "schema": [],
       "type": "table"
      }
     },
     "output_type": "display_data"
    }
   ],
   "source": [
    "%sql\n",
    "\n",
    "use olist;"
   ]
  },
  {
   "cell_type": "code",
   "execution_count": 0,
   "metadata": {
    "application/vnd.databricks.v1+cell": {
     "cellMetadata": {
      "byteLimit": 2048000,
      "implicitDf": true,
      "rowLimit": 10000
     },
     "inputWidgets": {},
     "nuid": "ceb36be5-39ab-4c33-b8c8-3de735fe59da",
     "showTitle": false,
     "title": ""
    }
   },
   "outputs": [
    {
     "output_type": "display_data",
     "data": {
      "text/html": [
       "<style scoped>\n",
       "  .table-result-container {\n",
       "    max-height: 300px;\n",
       "    overflow: auto;\n",
       "  }\n",
       "  table, th, td {\n",
       "    border: 1px solid black;\n",
       "    border-collapse: collapse;\n",
       "  }\n",
       "  th, td {\n",
       "    padding: 5px;\n",
       "  }\n",
       "  th {\n",
       "    text-align: left;\n",
       "  }\n",
       "</style><div class='table-result-container'><table class='table-result'><thead style='background-color: white'><tr></tr></thead><tbody></tbody></table></div>"
      ]
     },
     "metadata": {
      "application/vnd.databricks.v1+output": {
       "addedWidgets": {},
       "aggData": [],
       "aggError": "",
       "aggOverflow": false,
       "aggSchema": [],
       "aggSeriesLimitReached": false,
       "aggType": "",
       "arguments": {},
       "columnCustomDisplayInfos": {},
       "data": [],
       "datasetInfos": [],
       "dbfsResultPath": null,
       "isJsonSchema": true,
       "metadata": {
        "dataframeName": null
       },
       "overflow": false,
       "plotOptions": {
        "customPlotOptions": {},
        "displayType": "table",
        "pivotAggregation": null,
        "pivotColumns": null,
        "xColumns": null,
        "yColumns": null
       },
       "removedWidgets": [],
       "schema": [],
       "type": "table"
      }
     },
     "output_type": "display_data"
    }
   ],
   "source": [
    "%sql\n",
    "\n",
    "drop table if exists total_sales_by_state;"
   ]
  },
  {
   "cell_type": "code",
   "execution_count": 0,
   "metadata": {
    "application/vnd.databricks.v1+cell": {
     "cellMetadata": {
      "byteLimit": 2048000,
      "implicitDf": true,
      "rowLimit": 10000
     },
     "inputWidgets": {},
     "nuid": "142d205f-af23-4011-b2fb-0843ba455c22",
     "showTitle": false,
     "title": ""
    }
   },
   "outputs": [
    {
     "output_type": "display_data",
     "data": {
      "text/html": [
       "<style scoped>\n",
       "  .table-result-container {\n",
       "    max-height: 300px;\n",
       "    overflow: auto;\n",
       "  }\n",
       "  table, th, td {\n",
       "    border: 1px solid black;\n",
       "    border-collapse: collapse;\n",
       "  }\n",
       "  th, td {\n",
       "    padding: 5px;\n",
       "  }\n",
       "  th {\n",
       "    text-align: left;\n",
       "  }\n",
       "</style><div class='table-result-container'><table class='table-result'><thead style='background-color: white'><tr></tr></thead><tbody></tbody></table></div>"
      ]
     },
     "metadata": {
      "application/vnd.databricks.v1+output": {
       "addedWidgets": {},
       "aggData": [],
       "aggError": "",
       "aggOverflow": false,
       "aggSchema": [],
       "aggSeriesLimitReached": false,
       "aggType": "",
       "arguments": {},
       "columnCustomDisplayInfos": {},
       "data": [],
       "datasetInfos": [],
       "dbfsResultPath": null,
       "isJsonSchema": true,
       "metadata": {
        "dataframeName": null
       },
       "overflow": false,
       "plotOptions": {
        "customPlotOptions": {},
        "displayType": "table",
        "pivotAggregation": null,
        "pivotColumns": null,
        "xColumns": null,
        "yColumns": null
       },
       "removedWidgets": [],
       "schema": [],
       "type": "table"
      }
     },
     "output_type": "display_data"
    }
   ],
   "source": [
    "%sql\n",
    "\n",
    "CREATE TABLE total_sales_by_state\n",
    "USING DELTA\n",
    "LOCATION \"dbfs:/FileStore/Datum/KaggleOlistData/gold/delta/total_sales_by_state\""
   ]
  }
 ],
 "metadata": {
  "application/vnd.databricks.v1+notebook": {
   "dashboards": [],
   "language": "python",
   "notebookMetadata": {
    "mostRecentlyExecutedCommandWithImplicitDF": {
     "commandId": 3756082957300543,
     "dataframes": [
      "_sqldf"
     ]
    },
    "pythonIndentUnit": 4
   },
   "notebookName": "TotalSalesByState",
   "widgets": {}
  }
 },
 "nbformat": 4,
 "nbformat_minor": 0
}
