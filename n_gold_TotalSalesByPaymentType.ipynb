{
 "cells": [
  {
   "cell_type": "markdown",
   "metadata": {
    "application/vnd.databricks.v1+cell": {
     "cellMetadata": {
      "byteLimit": 2048000,
      "rowLimit": 10000
     },
     "inputWidgets": {},
     "nuid": "08563934-1d22-442d-bf5c-8152f4befd14",
     "showTitle": false,
     "title": ""
    }
   },
   "source": [
    "\n",
    "# 1. Imports"
   ]
  },
  {
   "cell_type": "markdown",
   "metadata": {
    "application/vnd.databricks.v1+cell": {
     "cellMetadata": {
      "byteLimit": 2048000,
      "rowLimit": 10000
     },
     "inputWidgets": {},
     "nuid": "711f7f26-4992-40fc-a945-b27a2755ac08",
     "showTitle": false,
     "title": ""
    }
   },
   "source": [
    "\n",
    "# 2. Carregando sparkDFs"
   ]
  },
  {
   "cell_type": "markdown",
   "metadata": {
    "application/vnd.databricks.v1+cell": {
     "cellMetadata": {
      "byteLimit": 2048000,
      "rowLimit": 10000
     },
     "inputWidgets": {},
     "nuid": "890267a1-819b-41af-8366-b5af8b2edfa8",
     "showTitle": false,
     "title": ""
    }
   },
   "source": [
    "\n",
    "## 2.1. Order payments"
   ]
  },
  {
   "cell_type": "code",
   "execution_count": 0,
   "metadata": {
    "application/vnd.databricks.v1+cell": {
     "cellMetadata": {
      "byteLimit": 2048000,
      "rowLimit": 10000
     },
     "inputWidgets": {},
     "nuid": "6838ee7c-d023-4112-b3c9-d661c5f5eb2c",
     "showTitle": false,
     "title": ""
    }
   },
   "outputs": [],
   "source": [
    "# Local do arquivo Delta\n",
    "path_to_delta_table = \"dbfs:/FileStore/Datum/KaggleOlistData/silver/delta/order_payments\"\n",
    "\n",
    "# Ler o arquivo Delta como um DataFrame\n",
    "df_order_payments = spark.read.format(\"delta\").load(path_to_delta_table)"
   ]
  },
  {
   "cell_type": "code",
   "execution_count": 0,
   "metadata": {
    "application/vnd.databricks.v1+cell": {
     "cellMetadata": {
      "byteLimit": 2048000,
      "rowLimit": 10000
     },
     "inputWidgets": {},
     "nuid": "8313b336-a0f6-43be-bf84-5abf2a719107",
     "showTitle": false,
     "title": ""
    }
   },
   "outputs": [
    {
     "output_type": "display_data",
     "data": {
      "text/html": [
       "<style scoped>\n",
       "  .table-result-container {\n",
       "    max-height: 300px;\n",
       "    overflow: auto;\n",
       "  }\n",
       "  table, th, td {\n",
       "    border: 1px solid black;\n",
       "    border-collapse: collapse;\n",
       "  }\n",
       "  th, td {\n",
       "    padding: 5px;\n",
       "  }\n",
       "  th {\n",
       "    text-align: left;\n",
       "  }\n",
       "</style><div class='table-result-container'><table class='table-result'><thead style='background-color: white'><tr><th>order_id</th><th>payment_sequential</th><th>payment_type</th><th>payment_installments</th><th>payment_value</th></tr></thead><tbody><tr><td>b81ef226f3fe1789b1e8b2acac839d17</td><td>1</td><td>credit_card</td><td>8</td><td>99.330000000000000000</td></tr><tr><td>a9810da82917af2d9aefd1278f1dcfa0</td><td>1</td><td>credit_card</td><td>1</td><td>24.390000000000000000</td></tr><tr><td>25e8ea4e93396b6fa0d3dd708e76c1bd</td><td>1</td><td>credit_card</td><td>1</td><td>65.710000000000000000</td></tr><tr><td>ba78997921bbcdc1373bb41e913ab953</td><td>1</td><td>credit_card</td><td>8</td><td>107.780000000000000000</td></tr><tr><td>42fdf880ba16b47b59251dd489d4441a</td><td>1</td><td>credit_card</td><td>2</td><td>128.450000000000000000</td></tr><tr><td>298fcdf1f73eb413e4d26d01b25bc1cd</td><td>1</td><td>credit_card</td><td>2</td><td>96.120000000000000000</td></tr><tr><td>771ee386b001f06208a7419e4fc1bbd7</td><td>1</td><td>credit_card</td><td>1</td><td>81.160000000000000000</td></tr><tr><td>3d7239c394a212faae122962df514ac7</td><td>1</td><td>credit_card</td><td>3</td><td>51.840000000000000000</td></tr><tr><td>1f78449c87a54faf9e96e88ba1491fa9</td><td>1</td><td>credit_card</td><td>6</td><td>341.090000000000000000</td></tr><tr><td>0573b5e23cbd798006520e1d5b4c6714</td><td>1</td><td>boleto</td><td>1</td><td>51.950000000000000000</td></tr></tbody></table></div>"
      ]
     },
     "metadata": {
      "application/vnd.databricks.v1+output": {
       "addedWidgets": {},
       "aggData": [],
       "aggError": "",
       "aggOverflow": false,
       "aggSchema": [],
       "aggSeriesLimitReached": false,
       "aggType": "",
       "arguments": {},
       "columnCustomDisplayInfos": {},
       "data": [
        [
         "b81ef226f3fe1789b1e8b2acac839d17",
         1,
         "credit_card",
         8,
         "99.330000000000000000"
        ],
        [
         "a9810da82917af2d9aefd1278f1dcfa0",
         1,
         "credit_card",
         1,
         "24.390000000000000000"
        ],
        [
         "25e8ea4e93396b6fa0d3dd708e76c1bd",
         1,
         "credit_card",
         1,
         "65.710000000000000000"
        ],
        [
         "ba78997921bbcdc1373bb41e913ab953",
         1,
         "credit_card",
         8,
         "107.780000000000000000"
        ],
        [
         "42fdf880ba16b47b59251dd489d4441a",
         1,
         "credit_card",
         2,
         "128.450000000000000000"
        ],
        [
         "298fcdf1f73eb413e4d26d01b25bc1cd",
         1,
         "credit_card",
         2,
         "96.120000000000000000"
        ],
        [
         "771ee386b001f06208a7419e4fc1bbd7",
         1,
         "credit_card",
         1,
         "81.160000000000000000"
        ],
        [
         "3d7239c394a212faae122962df514ac7",
         1,
         "credit_card",
         3,
         "51.840000000000000000"
        ],
        [
         "1f78449c87a54faf9e96e88ba1491fa9",
         1,
         "credit_card",
         6,
         "341.090000000000000000"
        ],
        [
         "0573b5e23cbd798006520e1d5b4c6714",
         1,
         "boleto",
         1,
         "51.950000000000000000"
        ]
       ],
       "datasetInfos": [],
       "dbfsResultPath": null,
       "isJsonSchema": true,
       "metadata": {},
       "overflow": false,
       "plotOptions": {
        "customPlotOptions": {},
        "displayType": "table",
        "pivotAggregation": null,
        "pivotColumns": null,
        "xColumns": null,
        "yColumns": null
       },
       "removedWidgets": [],
       "schema": [
        {
         "metadata": "{}",
         "name": "order_id",
         "type": "\"string\""
        },
        {
         "metadata": "{}",
         "name": "payment_sequential",
         "type": "\"long\""
        },
        {
         "metadata": "{}",
         "name": "payment_type",
         "type": "\"string\""
        },
        {
         "metadata": "{}",
         "name": "payment_installments",
         "type": "\"long\""
        },
        {
         "metadata": "{}",
         "name": "payment_value",
         "type": "\"decimal(38,18)\""
        }
       ],
       "type": "table"
      }
     },
     "output_type": "display_data"
    }
   ],
   "source": [
    "display(df_order_payments.take(10))"
   ]
  },
  {
   "cell_type": "code",
   "execution_count": 0,
   "metadata": {
    "application/vnd.databricks.v1+cell": {
     "cellMetadata": {
      "byteLimit": 2048000,
      "rowLimit": 10000
     },
     "inputWidgets": {},
     "nuid": "18ac71bb-ccb6-4c63-b94c-019fe9ef06d7",
     "showTitle": false,
     "title": ""
    }
   },
   "outputs": [],
   "source": [
    "del path_to_delta_table"
   ]
  },
  {
   "cell_type": "markdown",
   "metadata": {
    "application/vnd.databricks.v1+cell": {
     "cellMetadata": {
      "byteLimit": 2048000,
      "rowLimit": 10000
     },
     "inputWidgets": {},
     "nuid": "9249a4ef-d6d9-4e6c-ba84-ee0a20160332",
     "showTitle": false,
     "title": ""
    }
   },
   "source": [
    "\n",
    "# 3. Transformação"
   ]
  },
  {
   "cell_type": "markdown",
   "metadata": {
    "application/vnd.databricks.v1+cell": {
     "cellMetadata": {
      "byteLimit": 2048000,
      "rowLimit": 10000
     },
     "inputWidgets": {},
     "nuid": "1739bb40-37dd-4a58-a973-25179d516829",
     "showTitle": false,
     "title": ""
    }
   },
   "source": [
    "\n",
    "## 3.1. Order payments"
   ]
  },
  {
   "cell_type": "code",
   "execution_count": 0,
   "metadata": {
    "application/vnd.databricks.v1+cell": {
     "cellMetadata": {
      "byteLimit": 2048000,
      "rowLimit": 10000
     },
     "inputWidgets": {},
     "nuid": "f4eb20b4-537e-4b7b-b22e-bb9bad93ec43",
     "showTitle": false,
     "title": ""
    }
   },
   "outputs": [],
   "source": [
    "df_order_payments = df_order_payments.filter(df_order_payments['payment_type'] != 'not_defined')"
   ]
  },
  {
   "cell_type": "code",
   "execution_count": 0,
   "metadata": {
    "application/vnd.databricks.v1+cell": {
     "cellMetadata": {
      "byteLimit": 2048000,
      "rowLimit": 10000
     },
     "inputWidgets": {},
     "nuid": "cb0ecc2e-d575-4eca-b3de-c33b2d8ac33d",
     "showTitle": false,
     "title": ""
    }
   },
   "outputs": [
    {
     "output_type": "display_data",
     "data": {
      "text/html": [
       "<style scoped>\n",
       "  .table-result-container {\n",
       "    max-height: 300px;\n",
       "    overflow: auto;\n",
       "  }\n",
       "  table, th, td {\n",
       "    border: 1px solid black;\n",
       "    border-collapse: collapse;\n",
       "  }\n",
       "  th, td {\n",
       "    padding: 5px;\n",
       "  }\n",
       "  th {\n",
       "    text-align: left;\n",
       "  }\n",
       "</style><div class='table-result-container'><table class='table-result'><thead style='background-color: white'><tr><th>order_id</th><th>payment_sequential</th><th>payment_type</th><th>payment_installments</th><th>payment_value</th></tr></thead><tbody><tr><td>b81ef226f3fe1789b1e8b2acac839d17</td><td>1</td><td>credit_card</td><td>8</td><td>99.330000000000000000</td></tr><tr><td>a9810da82917af2d9aefd1278f1dcfa0</td><td>1</td><td>credit_card</td><td>1</td><td>24.390000000000000000</td></tr><tr><td>25e8ea4e93396b6fa0d3dd708e76c1bd</td><td>1</td><td>credit_card</td><td>1</td><td>65.710000000000000000</td></tr><tr><td>ba78997921bbcdc1373bb41e913ab953</td><td>1</td><td>credit_card</td><td>8</td><td>107.780000000000000000</td></tr><tr><td>42fdf880ba16b47b59251dd489d4441a</td><td>1</td><td>credit_card</td><td>2</td><td>128.450000000000000000</td></tr><tr><td>298fcdf1f73eb413e4d26d01b25bc1cd</td><td>1</td><td>credit_card</td><td>2</td><td>96.120000000000000000</td></tr><tr><td>771ee386b001f06208a7419e4fc1bbd7</td><td>1</td><td>credit_card</td><td>1</td><td>81.160000000000000000</td></tr><tr><td>3d7239c394a212faae122962df514ac7</td><td>1</td><td>credit_card</td><td>3</td><td>51.840000000000000000</td></tr><tr><td>1f78449c87a54faf9e96e88ba1491fa9</td><td>1</td><td>credit_card</td><td>6</td><td>341.090000000000000000</td></tr><tr><td>0573b5e23cbd798006520e1d5b4c6714</td><td>1</td><td>boleto</td><td>1</td><td>51.950000000000000000</td></tr></tbody></table></div>"
      ]
     },
     "metadata": {
      "application/vnd.databricks.v1+output": {
       "addedWidgets": {},
       "aggData": [],
       "aggError": "",
       "aggOverflow": false,
       "aggSchema": [],
       "aggSeriesLimitReached": false,
       "aggType": "",
       "arguments": {},
       "columnCustomDisplayInfos": {},
       "data": [
        [
         "b81ef226f3fe1789b1e8b2acac839d17",
         1,
         "credit_card",
         8,
         "99.330000000000000000"
        ],
        [
         "a9810da82917af2d9aefd1278f1dcfa0",
         1,
         "credit_card",
         1,
         "24.390000000000000000"
        ],
        [
         "25e8ea4e93396b6fa0d3dd708e76c1bd",
         1,
         "credit_card",
         1,
         "65.710000000000000000"
        ],
        [
         "ba78997921bbcdc1373bb41e913ab953",
         1,
         "credit_card",
         8,
         "107.780000000000000000"
        ],
        [
         "42fdf880ba16b47b59251dd489d4441a",
         1,
         "credit_card",
         2,
         "128.450000000000000000"
        ],
        [
         "298fcdf1f73eb413e4d26d01b25bc1cd",
         1,
         "credit_card",
         2,
         "96.120000000000000000"
        ],
        [
         "771ee386b001f06208a7419e4fc1bbd7",
         1,
         "credit_card",
         1,
         "81.160000000000000000"
        ],
        [
         "3d7239c394a212faae122962df514ac7",
         1,
         "credit_card",
         3,
         "51.840000000000000000"
        ],
        [
         "1f78449c87a54faf9e96e88ba1491fa9",
         1,
         "credit_card",
         6,
         "341.090000000000000000"
        ],
        [
         "0573b5e23cbd798006520e1d5b4c6714",
         1,
         "boleto",
         1,
         "51.950000000000000000"
        ]
       ],
       "datasetInfos": [],
       "dbfsResultPath": null,
       "isJsonSchema": true,
       "metadata": {},
       "overflow": false,
       "plotOptions": {
        "customPlotOptions": {},
        "displayType": "table",
        "pivotAggregation": null,
        "pivotColumns": null,
        "xColumns": null,
        "yColumns": null
       },
       "removedWidgets": [],
       "schema": [
        {
         "metadata": "{}",
         "name": "order_id",
         "type": "\"string\""
        },
        {
         "metadata": "{}",
         "name": "payment_sequential",
         "type": "\"long\""
        },
        {
         "metadata": "{}",
         "name": "payment_type",
         "type": "\"string\""
        },
        {
         "metadata": "{}",
         "name": "payment_installments",
         "type": "\"long\""
        },
        {
         "metadata": "{}",
         "name": "payment_value",
         "type": "\"decimal(38,18)\""
        }
       ],
       "type": "table"
      }
     },
     "output_type": "display_data"
    }
   ],
   "source": [
    "display(df_order_payments.take(10))"
   ]
  },
  {
   "cell_type": "code",
   "execution_count": 0,
   "metadata": {
    "application/vnd.databricks.v1+cell": {
     "cellMetadata": {
      "byteLimit": 2048000,
      "rowLimit": 10000
     },
     "inputWidgets": {},
     "nuid": "28b89737-a0fe-4ea2-bc09-1d83f939083f",
     "showTitle": false,
     "title": ""
    }
   },
   "outputs": [],
   "source": [
    "df_total_sales_by_payment_type = df_order_payments.groupBy(\"payment_type\").sum(\"payment_value\")"
   ]
  },
  {
   "cell_type": "code",
   "execution_count": 0,
   "metadata": {
    "application/vnd.databricks.v1+cell": {
     "cellMetadata": {
      "byteLimit": 2048000,
      "rowLimit": 10000
     },
     "inputWidgets": {},
     "nuid": "4c0a5867-654f-4591-ad75-065fee54905f",
     "showTitle": false,
     "title": ""
    }
   },
   "outputs": [],
   "source": [
    "del df_order_payments"
   ]
  },
  {
   "cell_type": "code",
   "execution_count": 0,
   "metadata": {
    "application/vnd.databricks.v1+cell": {
     "cellMetadata": {
      "byteLimit": 2048000,
      "rowLimit": 10000
     },
     "inputWidgets": {},
     "nuid": "6cfc3b64-855c-4676-a6d5-8fe06b109279",
     "showTitle": false,
     "title": ""
    }
   },
   "outputs": [],
   "source": [
    "df_total_sales_by_payment_type = df_total_sales_by_payment_type.withColumnRenamed(\"sum(payment_value)\", \"total_sales\")"
   ]
  },
  {
   "cell_type": "code",
   "execution_count": 0,
   "metadata": {
    "application/vnd.databricks.v1+cell": {
     "cellMetadata": {
      "byteLimit": 2048000,
      "rowLimit": 10000
     },
     "inputWidgets": {},
     "nuid": "4e5c24d0-89c3-4ff1-9a02-bab564bd903c",
     "showTitle": false,
     "title": ""
    }
   },
   "outputs": [
    {
     "output_type": "display_data",
     "data": {
      "text/html": [
       "<style scoped>\n",
       "  .table-result-container {\n",
       "    max-height: 300px;\n",
       "    overflow: auto;\n",
       "  }\n",
       "  table, th, td {\n",
       "    border: 1px solid black;\n",
       "    border-collapse: collapse;\n",
       "  }\n",
       "  th, td {\n",
       "    padding: 5px;\n",
       "  }\n",
       "  th {\n",
       "    text-align: left;\n",
       "  }\n",
       "</style><div class='table-result-container'><table class='table-result'><thead style='background-color: white'><tr><th>payment_type</th><th>total_sales</th></tr></thead><tbody><tr><td>boleto</td><td>2869361.270000000000000000</td></tr><tr><td>credit_card</td><td>12542084.190000000000000000</td></tr><tr><td>voucher</td><td>379436.870000000000000000</td></tr><tr><td>debit_card</td><td>217989.790000000000000000</td></tr></tbody></table></div>"
      ]
     },
     "metadata": {
      "application/vnd.databricks.v1+output": {
       "addedWidgets": {},
       "aggData": [],
       "aggError": "",
       "aggOverflow": false,
       "aggSchema": [],
       "aggSeriesLimitReached": false,
       "aggType": "",
       "arguments": {},
       "columnCustomDisplayInfos": {},
       "data": [
        [
         "boleto",
         "2869361.270000000000000000"
        ],
        [
         "credit_card",
         "12542084.190000000000000000"
        ],
        [
         "voucher",
         "379436.870000000000000000"
        ],
        [
         "debit_card",
         "217989.790000000000000000"
        ]
       ],
       "datasetInfos": [],
       "dbfsResultPath": null,
       "isJsonSchema": true,
       "metadata": {},
       "overflow": false,
       "plotOptions": {
        "customPlotOptions": {},
        "displayType": "table",
        "pivotAggregation": null,
        "pivotColumns": null,
        "xColumns": null,
        "yColumns": null
       },
       "removedWidgets": [],
       "schema": [
        {
         "metadata": "{}",
         "name": "payment_type",
         "type": "\"string\""
        },
        {
         "metadata": "{}",
         "name": "total_sales",
         "type": "\"decimal(38,18)\""
        }
       ],
       "type": "table"
      }
     },
     "output_type": "display_data"
    }
   ],
   "source": [
    "display(df_total_sales_by_payment_type.take(10))"
   ]
  },
  {
   "cell_type": "markdown",
   "metadata": {
    "application/vnd.databricks.v1+cell": {
     "cellMetadata": {
      "byteLimit": 2048000,
      "rowLimit": 10000
     },
     "inputWidgets": {},
     "nuid": "3636fc32-2c19-4f58-b288-5e90536890a2",
     "showTitle": false,
     "title": ""
    }
   },
   "source": [
    "\n",
    "# 4. Exportando dados para Delta Lake\n",
    "\n",
    "> Teste Prático -> \"Grave os mesmos dados em formato Delta Lake para aproveitar as funcionalidades de versionamento e transações ACID.\""
   ]
  },
  {
   "cell_type": "code",
   "execution_count": 0,
   "metadata": {
    "application/vnd.databricks.v1+cell": {
     "cellMetadata": {
      "byteLimit": 2048000,
      "rowLimit": 10000
     },
     "inputWidgets": {},
     "nuid": "c43ec61f-5a6c-45d8-8b8c-89c92a05e788",
     "showTitle": false,
     "title": ""
    }
   },
   "outputs": [],
   "source": [
    "df_total_sales_by_payment_type.write.format(\"delta\").mode(\"overwrite\").option(\"mergeSchema\", \"true\").save(\n",
    "    \"dbfs:/FileStore/Datum/KaggleOlistData/gold/delta/total_sales_by_payment_type\"\n",
    ")"
   ]
  },
  {
   "cell_type": "code",
   "execution_count": 0,
   "metadata": {
    "application/vnd.databricks.v1+cell": {
     "cellMetadata": {
      "byteLimit": 2048000,
      "rowLimit": 10000
     },
     "inputWidgets": {},
     "nuid": "a89f7933-8087-4775-822e-d9cd588f2db2",
     "showTitle": false,
     "title": ""
    }
   },
   "outputs": [],
   "source": [
    "del df_total_sales_by_payment_type"
   ]
  },
  {
   "cell_type": "markdown",
   "metadata": {
    "application/vnd.databricks.v1+cell": {
     "cellMetadata": {
      "byteLimit": 2048000,
      "rowLimit": 10000
     },
     "inputWidgets": {},
     "nuid": "14609f35-c78f-495d-ae75-82f66b330157",
     "showTitle": false,
     "title": ""
    }
   },
   "source": [
    "\n",
    "# 5. Criando Delta Table"
   ]
  },
  {
   "cell_type": "code",
   "execution_count": 0,
   "metadata": {
    "application/vnd.databricks.v1+cell": {
     "cellMetadata": {
      "byteLimit": 2048000,
      "implicitDf": true,
      "rowLimit": 10000
     },
     "inputWidgets": {},
     "nuid": "2b3fb8f7-f1e7-4415-bfe0-3c7a15648006",
     "showTitle": false,
     "title": ""
    }
   },
   "outputs": [
    {
     "output_type": "display_data",
     "data": {
      "text/html": [
       "<style scoped>\n",
       "  .table-result-container {\n",
       "    max-height: 300px;\n",
       "    overflow: auto;\n",
       "  }\n",
       "  table, th, td {\n",
       "    border: 1px solid black;\n",
       "    border-collapse: collapse;\n",
       "  }\n",
       "  th, td {\n",
       "    padding: 5px;\n",
       "  }\n",
       "  th {\n",
       "    text-align: left;\n",
       "  }\n",
       "</style><div class='table-result-container'><table class='table-result'><thead style='background-color: white'><tr></tr></thead><tbody></tbody></table></div>"
      ]
     },
     "metadata": {
      "application/vnd.databricks.v1+output": {
       "addedWidgets": {},
       "aggData": [],
       "aggError": "",
       "aggOverflow": false,
       "aggSchema": [],
       "aggSeriesLimitReached": false,
       "aggType": "",
       "arguments": {},
       "columnCustomDisplayInfos": {},
       "data": [],
       "datasetInfos": [],
       "dbfsResultPath": null,
       "isJsonSchema": true,
       "metadata": {
        "dataframeName": null
       },
       "overflow": false,
       "plotOptions": {
        "customPlotOptions": {},
        "displayType": "table",
        "pivotAggregation": null,
        "pivotColumns": null,
        "xColumns": null,
        "yColumns": null
       },
       "removedWidgets": [],
       "schema": [],
       "type": "table"
      }
     },
     "output_type": "display_data"
    }
   ],
   "source": [
    "%sql\n",
    "\n",
    "create database if not exists olist;"
   ]
  },
  {
   "cell_type": "code",
   "execution_count": 0,
   "metadata": {
    "application/vnd.databricks.v1+cell": {
     "cellMetadata": {
      "byteLimit": 2048000,
      "implicitDf": true,
      "rowLimit": 10000
     },
     "inputWidgets": {},
     "nuid": "72377557-53ab-4cf1-a16f-196c8dd8e978",
     "showTitle": false,
     "title": ""
    }
   },
   "outputs": [
    {
     "output_type": "display_data",
     "data": {
      "text/html": [
       "<style scoped>\n",
       "  .table-result-container {\n",
       "    max-height: 300px;\n",
       "    overflow: auto;\n",
       "  }\n",
       "  table, th, td {\n",
       "    border: 1px solid black;\n",
       "    border-collapse: collapse;\n",
       "  }\n",
       "  th, td {\n",
       "    padding: 5px;\n",
       "  }\n",
       "  th {\n",
       "    text-align: left;\n",
       "  }\n",
       "</style><div class='table-result-container'><table class='table-result'><thead style='background-color: white'><tr></tr></thead><tbody></tbody></table></div>"
      ]
     },
     "metadata": {
      "application/vnd.databricks.v1+output": {
       "addedWidgets": {},
       "aggData": [],
       "aggError": "",
       "aggOverflow": false,
       "aggSchema": [],
       "aggSeriesLimitReached": false,
       "aggType": "",
       "arguments": {},
       "columnCustomDisplayInfos": {},
       "data": [],
       "datasetInfos": [],
       "dbfsResultPath": null,
       "isJsonSchema": true,
       "metadata": {
        "dataframeName": null
       },
       "overflow": false,
       "plotOptions": {
        "customPlotOptions": {},
        "displayType": "table",
        "pivotAggregation": null,
        "pivotColumns": null,
        "xColumns": null,
        "yColumns": null
       },
       "removedWidgets": [],
       "schema": [],
       "type": "table"
      }
     },
     "output_type": "display_data"
    }
   ],
   "source": [
    "%sql\n",
    "\n",
    "use olist;"
   ]
  },
  {
   "cell_type": "code",
   "execution_count": 0,
   "metadata": {
    "application/vnd.databricks.v1+cell": {
     "cellMetadata": {
      "byteLimit": 2048000,
      "implicitDf": true,
      "rowLimit": 10000
     },
     "inputWidgets": {},
     "nuid": "6c58a531-b471-4755-8d1c-7ae69177d3c4",
     "showTitle": false,
     "title": ""
    }
   },
   "outputs": [
    {
     "output_type": "display_data",
     "data": {
      "text/html": [
       "<style scoped>\n",
       "  .table-result-container {\n",
       "    max-height: 300px;\n",
       "    overflow: auto;\n",
       "  }\n",
       "  table, th, td {\n",
       "    border: 1px solid black;\n",
       "    border-collapse: collapse;\n",
       "  }\n",
       "  th, td {\n",
       "    padding: 5px;\n",
       "  }\n",
       "  th {\n",
       "    text-align: left;\n",
       "  }\n",
       "</style><div class='table-result-container'><table class='table-result'><thead style='background-color: white'><tr></tr></thead><tbody></tbody></table></div>"
      ]
     },
     "metadata": {
      "application/vnd.databricks.v1+output": {
       "addedWidgets": {},
       "aggData": [],
       "aggError": "",
       "aggOverflow": false,
       "aggSchema": [],
       "aggSeriesLimitReached": false,
       "aggType": "",
       "arguments": {},
       "columnCustomDisplayInfos": {},
       "data": [],
       "datasetInfos": [],
       "dbfsResultPath": null,
       "isJsonSchema": true,
       "metadata": {
        "dataframeName": null
       },
       "overflow": false,
       "plotOptions": {
        "customPlotOptions": {},
        "displayType": "table",
        "pivotAggregation": null,
        "pivotColumns": null,
        "xColumns": null,
        "yColumns": null
       },
       "removedWidgets": [],
       "schema": [],
       "type": "table"
      }
     },
     "output_type": "display_data"
    }
   ],
   "source": [
    "%sql\n",
    "\n",
    "drop table if exists total_sales_by_payment_type;"
   ]
  },
  {
   "cell_type": "code",
   "execution_count": 0,
   "metadata": {
    "application/vnd.databricks.v1+cell": {
     "cellMetadata": {
      "byteLimit": 2048000,
      "implicitDf": true,
      "rowLimit": 10000
     },
     "inputWidgets": {},
     "nuid": "cf4d2880-9d41-41fb-aa2b-eba8a8a83b1d",
     "showTitle": false,
     "title": ""
    }
   },
   "outputs": [
    {
     "output_type": "display_data",
     "data": {
      "text/html": [
       "<style scoped>\n",
       "  .table-result-container {\n",
       "    max-height: 300px;\n",
       "    overflow: auto;\n",
       "  }\n",
       "  table, th, td {\n",
       "    border: 1px solid black;\n",
       "    border-collapse: collapse;\n",
       "  }\n",
       "  th, td {\n",
       "    padding: 5px;\n",
       "  }\n",
       "  th {\n",
       "    text-align: left;\n",
       "  }\n",
       "</style><div class='table-result-container'><table class='table-result'><thead style='background-color: white'><tr></tr></thead><tbody></tbody></table></div>"
      ]
     },
     "metadata": {
      "application/vnd.databricks.v1+output": {
       "addedWidgets": {},
       "aggData": [],
       "aggError": "",
       "aggOverflow": false,
       "aggSchema": [],
       "aggSeriesLimitReached": false,
       "aggType": "",
       "arguments": {},
       "columnCustomDisplayInfos": {},
       "data": [],
       "datasetInfos": [],
       "dbfsResultPath": null,
       "isJsonSchema": true,
       "metadata": {
        "dataframeName": null
       },
       "overflow": false,
       "plotOptions": {
        "customPlotOptions": {},
        "displayType": "table",
        "pivotAggregation": null,
        "pivotColumns": null,
        "xColumns": null,
        "yColumns": null
       },
       "removedWidgets": [],
       "schema": [],
       "type": "table"
      }
     },
     "output_type": "display_data"
    }
   ],
   "source": [
    "%sql\n",
    "\n",
    "CREATE TABLE total_sales_by_payment_type\n",
    "USING DELTA\n",
    "LOCATION \"dbfs:/FileStore/Datum/KaggleOlistData/gold/delta/total_sales_by_payment_type\""
   ]
  }
 ],
 "metadata": {
  "application/vnd.databricks.v1+notebook": {
   "dashboards": [],
   "language": "python",
   "notebookMetadata": {
    "mostRecentlyExecutedCommandWithImplicitDF": {
     "commandId": 3131359893782597,
     "dataframes": [
      "_sqldf"
     ]
    },
    "pythonIndentUnit": 4
   },
   "notebookName": "TotalSalesByPaymentType",
   "widgets": {}
  }
 },
 "nbformat": 4,
 "nbformat_minor": 0
}
