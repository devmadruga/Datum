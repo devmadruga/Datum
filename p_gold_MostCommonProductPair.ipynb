{
 "cells": [
  {
   "cell_type": "markdown",
   "metadata": {
    "application/vnd.databricks.v1+cell": {
     "cellMetadata": {
      "byteLimit": 2048000,
      "rowLimit": 10000
     },
     "inputWidgets": {},
     "nuid": "6ba77b0f-0618-466c-a04d-e1f2540c8d2d",
     "showTitle": false,
     "title": ""
    }
   },
   "source": [
    "\n",
    "# 1. Imports"
   ]
  },
  {
   "cell_type": "code",
   "execution_count": 0,
   "metadata": {
    "application/vnd.databricks.v1+cell": {
     "cellMetadata": {
      "byteLimit": 2048000,
      "rowLimit": 10000
     },
     "inputWidgets": {},
     "nuid": "270ea1e0-f1c8-435a-9a37-5788ec8ff417",
     "showTitle": false,
     "title": ""
    }
   },
   "outputs": [],
   "source": [
    "from pyspark.ml.fpm import FPGrowth\n",
    "\n",
    "from pyspark.sql.functions import (\n",
    "    collect_set,\n",
    "    size,\n",
    "    concat_ws,\n",
    ")"
   ]
  },
  {
   "cell_type": "markdown",
   "metadata": {
    "application/vnd.databricks.v1+cell": {
     "cellMetadata": {
      "byteLimit": 2048000,
      "rowLimit": 10000
     },
     "inputWidgets": {},
     "nuid": "3dfc1d5f-46e6-4b17-b800-2b7f40e4bbd8",
     "showTitle": false,
     "title": ""
    }
   },
   "source": [
    "\n",
    "# 2. Carregando sparkDFs"
   ]
  },
  {
   "cell_type": "markdown",
   "metadata": {
    "application/vnd.databricks.v1+cell": {
     "cellMetadata": {
      "byteLimit": 2048000,
      "rowLimit": 10000
     },
     "inputWidgets": {},
     "nuid": "df73f7ca-6cf6-4423-b844-d23f4529281f",
     "showTitle": false,
     "title": ""
    }
   },
   "source": [
    "\n",
    "## 2.1 Order items"
   ]
  },
  {
   "cell_type": "code",
   "execution_count": 0,
   "metadata": {
    "application/vnd.databricks.v1+cell": {
     "cellMetadata": {
      "byteLimit": 2048000,
      "rowLimit": 10000
     },
     "inputWidgets": {},
     "nuid": "358d5bf0-8af5-459d-8612-7681b2c560a8",
     "showTitle": false,
     "title": ""
    }
   },
   "outputs": [],
   "source": [
    "# Local do arquivo Delta\n",
    "path_to_delta_table = \"dbfs:/FileStore/Datum/KaggleOlistData/silver/delta/order_items\"\n",
    "\n",
    "# Ler o arquivo Delta como um DataFrame\n",
    "df_order_items = spark.read.format(\"delta\").load(path_to_delta_table)"
   ]
  },
  {
   "cell_type": "code",
   "execution_count": 0,
   "metadata": {
    "application/vnd.databricks.v1+cell": {
     "cellMetadata": {
      "byteLimit": 2048000,
      "rowLimit": 10000
     },
     "inputWidgets": {},
     "nuid": "24685010-53bf-40e6-89ca-61d006b786df",
     "showTitle": false,
     "title": ""
    }
   },
   "outputs": [
    {
     "output_type": "display_data",
     "data": {
      "text/html": [
       "<style scoped>\n",
       "  .table-result-container {\n",
       "    max-height: 300px;\n",
       "    overflow: auto;\n",
       "  }\n",
       "  table, th, td {\n",
       "    border: 1px solid black;\n",
       "    border-collapse: collapse;\n",
       "  }\n",
       "  th, td {\n",
       "    padding: 5px;\n",
       "  }\n",
       "  th {\n",
       "    text-align: left;\n",
       "  }\n",
       "</style><div class='table-result-container'><table class='table-result'><thead style='background-color: white'><tr><th>order_id</th><th>order_item_id</th><th>product_id</th><th>seller_id</th><th>shipping_limit_date</th><th>price</th><th>freight_value</th></tr></thead><tbody><tr><td>00010242fe8c5a6d1ba2dd792cb16214</td><td>1</td><td>4244733e06e7ecb4970a6e2683c13e61</td><td>48436dade18ac8b2bce089ec2a041202</td><td>2017-09-19T09:45:35Z</td><td>58.900000000000000000</td><td>13.290000000000000000</td></tr><tr><td>00018f77f2f0320c557190d7a144bdd3</td><td>1</td><td>e5f2d52b802189ee658865ca93d83a8f</td><td>dd7ddc04e1b6c2c614352b383efe2d36</td><td>2017-05-03T11:05:13Z</td><td>239.900000000000000000</td><td>19.930000000000000000</td></tr><tr><td>000229ec398224ef6ca0657da4fc703e</td><td>1</td><td>c777355d18b72b67abbeef9df44fd0fd</td><td>5b51032eddd242adc84c38acab88f23d</td><td>2018-01-18T14:48:30Z</td><td>199.000000000000000000</td><td>17.870000000000000000</td></tr><tr><td>00024acbcdf0a6daa1e931b038114c75</td><td>1</td><td>7634da152a4610f1595efa32f14722fc</td><td>9d7a1d34a5052409006425275ba1c2b4</td><td>2018-08-15T10:10:18Z</td><td>12.990000000000000000</td><td>12.790000000000000000</td></tr><tr><td>00042b26cf59d7ce69dfabb4e55b4fd9</td><td>1</td><td>ac6c3623068f30de03045865e4e10089</td><td>df560393f3a51e74553ab94004ba5c87</td><td>2017-02-13T13:57:51Z</td><td>199.900000000000000000</td><td>18.140000000000000000</td></tr><tr><td>00048cc3ae777c65dbb7d2a0634bc1ea</td><td>1</td><td>ef92defde845ab8450f9d70c526ef70f</td><td>6426d21aca402a131fc0a5d0960a3c90</td><td>2017-05-23T03:55:27Z</td><td>21.900000000000000000</td><td>12.690000000000000000</td></tr><tr><td>00054e8431b9d7675808bcb819fb4a32</td><td>1</td><td>8d4f2bb7e93e6710a28f34fa83ee7d28</td><td>7040e82f899a04d1b434b795a43b4617</td><td>2017-12-14T12:10:31Z</td><td>19.900000000000000000</td><td>11.850000000000000000</td></tr><tr><td>000576fe39319847cbb9d288c5617fa6</td><td>1</td><td>557d850972a7d6f792fd18ae1400d9b6</td><td>5996cddab893a4652a15592fb58ab8db</td><td>2018-07-10T12:30:45Z</td><td>810.000000000000000000</td><td>70.750000000000000000</td></tr><tr><td>0005a1a1728c9d785b8e2b08b904576c</td><td>1</td><td>310ae3c140ff94b03219ad0adc3c778f</td><td>a416b6a846a11724393025641d4edd5e</td><td>2018-03-26T18:31:29Z</td><td>145.950000000000000000</td><td>11.650000000000000000</td></tr><tr><td>0005f50442cb953dcd1d21e1fb923495</td><td>1</td><td>4535b0e1091c278dfd193e5a1d63b39f</td><td>ba143b05f0110f0dc71ad71b4466ce92</td><td>2018-07-06T14:10:56Z</td><td>53.990000000000000000</td><td>11.400000000000000000</td></tr></tbody></table></div>"
      ]
     },
     "metadata": {
      "application/vnd.databricks.v1+output": {
       "addedWidgets": {},
       "aggData": [],
       "aggError": "",
       "aggOverflow": false,
       "aggSchema": [],
       "aggSeriesLimitReached": false,
       "aggType": "",
       "arguments": {},
       "columnCustomDisplayInfos": {},
       "data": [
        [
         "00010242fe8c5a6d1ba2dd792cb16214",
         1,
         "4244733e06e7ecb4970a6e2683c13e61",
         "48436dade18ac8b2bce089ec2a041202",
         "2017-09-19T09:45:35Z",
         "58.900000000000000000",
         "13.290000000000000000"
        ],
        [
         "00018f77f2f0320c557190d7a144bdd3",
         1,
         "e5f2d52b802189ee658865ca93d83a8f",
         "dd7ddc04e1b6c2c614352b383efe2d36",
         "2017-05-03T11:05:13Z",
         "239.900000000000000000",
         "19.930000000000000000"
        ],
        [
         "000229ec398224ef6ca0657da4fc703e",
         1,
         "c777355d18b72b67abbeef9df44fd0fd",
         "5b51032eddd242adc84c38acab88f23d",
         "2018-01-18T14:48:30Z",
         "199.000000000000000000",
         "17.870000000000000000"
        ],
        [
         "00024acbcdf0a6daa1e931b038114c75",
         1,
         "7634da152a4610f1595efa32f14722fc",
         "9d7a1d34a5052409006425275ba1c2b4",
         "2018-08-15T10:10:18Z",
         "12.990000000000000000",
         "12.790000000000000000"
        ],
        [
         "00042b26cf59d7ce69dfabb4e55b4fd9",
         1,
         "ac6c3623068f30de03045865e4e10089",
         "df560393f3a51e74553ab94004ba5c87",
         "2017-02-13T13:57:51Z",
         "199.900000000000000000",
         "18.140000000000000000"
        ],
        [
         "00048cc3ae777c65dbb7d2a0634bc1ea",
         1,
         "ef92defde845ab8450f9d70c526ef70f",
         "6426d21aca402a131fc0a5d0960a3c90",
         "2017-05-23T03:55:27Z",
         "21.900000000000000000",
         "12.690000000000000000"
        ],
        [
         "00054e8431b9d7675808bcb819fb4a32",
         1,
         "8d4f2bb7e93e6710a28f34fa83ee7d28",
         "7040e82f899a04d1b434b795a43b4617",
         "2017-12-14T12:10:31Z",
         "19.900000000000000000",
         "11.850000000000000000"
        ],
        [
         "000576fe39319847cbb9d288c5617fa6",
         1,
         "557d850972a7d6f792fd18ae1400d9b6",
         "5996cddab893a4652a15592fb58ab8db",
         "2018-07-10T12:30:45Z",
         "810.000000000000000000",
         "70.750000000000000000"
        ],
        [
         "0005a1a1728c9d785b8e2b08b904576c",
         1,
         "310ae3c140ff94b03219ad0adc3c778f",
         "a416b6a846a11724393025641d4edd5e",
         "2018-03-26T18:31:29Z",
         "145.950000000000000000",
         "11.650000000000000000"
        ],
        [
         "0005f50442cb953dcd1d21e1fb923495",
         1,
         "4535b0e1091c278dfd193e5a1d63b39f",
         "ba143b05f0110f0dc71ad71b4466ce92",
         "2018-07-06T14:10:56Z",
         "53.990000000000000000",
         "11.400000000000000000"
        ]
       ],
       "datasetInfos": [],
       "dbfsResultPath": null,
       "isJsonSchema": true,
       "metadata": {},
       "overflow": false,
       "plotOptions": {
        "customPlotOptions": {},
        "displayType": "table",
        "pivotAggregation": null,
        "pivotColumns": null,
        "xColumns": null,
        "yColumns": null
       },
       "removedWidgets": [],
       "schema": [
        {
         "metadata": "{}",
         "name": "order_id",
         "type": "\"string\""
        },
        {
         "metadata": "{}",
         "name": "order_item_id",
         "type": "\"long\""
        },
        {
         "metadata": "{}",
         "name": "product_id",
         "type": "\"string\""
        },
        {
         "metadata": "{}",
         "name": "seller_id",
         "type": "\"string\""
        },
        {
         "metadata": "{}",
         "name": "shipping_limit_date",
         "type": "\"timestamp\""
        },
        {
         "metadata": "{}",
         "name": "price",
         "type": "\"decimal(38,18)\""
        },
        {
         "metadata": "{}",
         "name": "freight_value",
         "type": "\"decimal(38,18)\""
        }
       ],
       "type": "table"
      }
     },
     "output_type": "display_data"
    }
   ],
   "source": [
    "display(df_order_items.take(10))"
   ]
  },
  {
   "cell_type": "markdown",
   "metadata": {
    "application/vnd.databricks.v1+cell": {
     "cellMetadata": {
      "byteLimit": 2048000,
      "rowLimit": 10000
     },
     "inputWidgets": {},
     "nuid": "aa652f0e-2075-4d74-ac9f-d0ed7d01f0b5",
     "showTitle": false,
     "title": ""
    }
   },
   "source": [
    "\n",
    "## 2.2 Products"
   ]
  },
  {
   "cell_type": "code",
   "execution_count": 0,
   "metadata": {
    "application/vnd.databricks.v1+cell": {
     "cellMetadata": {
      "byteLimit": 2048000,
      "rowLimit": 10000
     },
     "inputWidgets": {},
     "nuid": "a56de78b-9903-4bd9-9b84-4d95e948b6a0",
     "showTitle": false,
     "title": ""
    }
   },
   "outputs": [],
   "source": [
    "# Local do arquivo Delta\n",
    "path_to_delta_table = \"dbfs:/FileStore/Datum/KaggleOlistData/silver/delta/products\"\n",
    "\n",
    "# Ler o arquivo Delta como um DataFrame\n",
    "df_products = spark.read.format(\"delta\").load(path_to_delta_table)"
   ]
  },
  {
   "cell_type": "code",
   "execution_count": 0,
   "metadata": {
    "application/vnd.databricks.v1+cell": {
     "cellMetadata": {
      "byteLimit": 2048000,
      "rowLimit": 10000
     },
     "inputWidgets": {},
     "nuid": "f9b98016-3ac3-4a65-86d9-809f6cbfd1cf",
     "showTitle": false,
     "title": ""
    }
   },
   "outputs": [
    {
     "output_type": "display_data",
     "data": {
      "text/html": [
       "<style scoped>\n",
       "  .table-result-container {\n",
       "    max-height: 300px;\n",
       "    overflow: auto;\n",
       "  }\n",
       "  table, th, td {\n",
       "    border: 1px solid black;\n",
       "    border-collapse: collapse;\n",
       "  }\n",
       "  th, td {\n",
       "    padding: 5px;\n",
       "  }\n",
       "  th {\n",
       "    text-align: left;\n",
       "  }\n",
       "</style><div class='table-result-container'><table class='table-result'><thead style='background-color: white'><tr><th>product_id</th><th>product_category_name</th><th>product_name_lenght</th><th>product_description_lenght</th><th>product_weight_g</th><th>product_length_cm</th><th>product_height_cm</th><th>product_width_cm</th></tr></thead><tbody><tr><td>1e9e8ef04dbcff4541ed26657ea517e5</td><td>perfumaria</td><td>40</td><td>287</td><td>1</td><td>225</td><td>16</td><td>10</td></tr><tr><td>3aa071139cb16b67ca9e5dea641aaa2f</td><td>artes</td><td>44</td><td>276</td><td>1</td><td>1000</td><td>30</td><td>18</td></tr><tr><td>96bd76ec8810374ed1b65e291975717f</td><td>esporte_lazer</td><td>46</td><td>250</td><td>1</td><td>154</td><td>18</td><td>9</td></tr><tr><td>cef67bcfe19066a932b7673e239eb23d</td><td>bebes</td><td>27</td><td>261</td><td>1</td><td>371</td><td>26</td><td>4</td></tr><tr><td>9dc1a7de274444849c219cff195d0b71</td><td>utilidades_domesticas</td><td>37</td><td>402</td><td>4</td><td>625</td><td>20</td><td>17</td></tr><tr><td>41d3672d4792049fa1779bb35283ed13</td><td>instrumentos_musicais</td><td>60</td><td>745</td><td>1</td><td>200</td><td>38</td><td>5</td></tr><tr><td>732bd381ad09e530fe0a5f457d81becb</td><td>cool_stuff</td><td>56</td><td>1272</td><td>4</td><td>18350</td><td>70</td><td>24</td></tr><tr><td>2548af3e6e77a690cf3eb6368e9ab61e</td><td>moveis_decoracao</td><td>56</td><td>184</td><td>2</td><td>900</td><td>40</td><td>8</td></tr><tr><td>37cc742be07708b53a98702e77a21a02</td><td>eletrodomesticos</td><td>57</td><td>163</td><td>1</td><td>400</td><td>27</td><td>13</td></tr><tr><td>8c92109888e8cdf9d66dc7e463025574</td><td>brinquedos</td><td>36</td><td>1156</td><td>1</td><td>600</td><td>17</td><td>10</td></tr></tbody></table></div>"
      ]
     },
     "metadata": {
      "application/vnd.databricks.v1+output": {
       "addedWidgets": {},
       "aggData": [],
       "aggError": "",
       "aggOverflow": false,
       "aggSchema": [],
       "aggSeriesLimitReached": false,
       "aggType": "",
       "arguments": {},
       "columnCustomDisplayInfos": {},
       "data": [
        [
         "1e9e8ef04dbcff4541ed26657ea517e5",
         "perfumaria",
         40,
         287,
         1,
         225,
         16,
         10
        ],
        [
         "3aa071139cb16b67ca9e5dea641aaa2f",
         "artes",
         44,
         276,
         1,
         1000,
         30,
         18
        ],
        [
         "96bd76ec8810374ed1b65e291975717f",
         "esporte_lazer",
         46,
         250,
         1,
         154,
         18,
         9
        ],
        [
         "cef67bcfe19066a932b7673e239eb23d",
         "bebes",
         27,
         261,
         1,
         371,
         26,
         4
        ],
        [
         "9dc1a7de274444849c219cff195d0b71",
         "utilidades_domesticas",
         37,
         402,
         4,
         625,
         20,
         17
        ],
        [
         "41d3672d4792049fa1779bb35283ed13",
         "instrumentos_musicais",
         60,
         745,
         1,
         200,
         38,
         5
        ],
        [
         "732bd381ad09e530fe0a5f457d81becb",
         "cool_stuff",
         56,
         1272,
         4,
         18350,
         70,
         24
        ],
        [
         "2548af3e6e77a690cf3eb6368e9ab61e",
         "moveis_decoracao",
         56,
         184,
         2,
         900,
         40,
         8
        ],
        [
         "37cc742be07708b53a98702e77a21a02",
         "eletrodomesticos",
         57,
         163,
         1,
         400,
         27,
         13
        ],
        [
         "8c92109888e8cdf9d66dc7e463025574",
         "brinquedos",
         36,
         1156,
         1,
         600,
         17,
         10
        ]
       ],
       "datasetInfos": [],
       "dbfsResultPath": null,
       "isJsonSchema": true,
       "metadata": {},
       "overflow": false,
       "plotOptions": {
        "customPlotOptions": {},
        "displayType": "table",
        "pivotAggregation": null,
        "pivotColumns": null,
        "xColumns": null,
        "yColumns": null
       },
       "removedWidgets": [],
       "schema": [
        {
         "metadata": "{}",
         "name": "product_id",
         "type": "\"string\""
        },
        {
         "metadata": "{}",
         "name": "product_category_name",
         "type": "\"string\""
        },
        {
         "metadata": "{}",
         "name": "product_name_lenght",
         "type": "\"long\""
        },
        {
         "metadata": "{}",
         "name": "product_description_lenght",
         "type": "\"long\""
        },
        {
         "metadata": "{}",
         "name": "product_weight_g",
         "type": "\"long\""
        },
        {
         "metadata": "{}",
         "name": "product_length_cm",
         "type": "\"long\""
        },
        {
         "metadata": "{}",
         "name": "product_height_cm",
         "type": "\"long\""
        },
        {
         "metadata": "{}",
         "name": "product_width_cm",
         "type": "\"long\""
        }
       ],
       "type": "table"
      }
     },
     "output_type": "display_data"
    }
   ],
   "source": [
    "display(df_products.take(10))"
   ]
  },
  {
   "cell_type": "code",
   "execution_count": 0,
   "metadata": {
    "application/vnd.databricks.v1+cell": {
     "cellMetadata": {
      "byteLimit": 2048000,
      "rowLimit": 10000
     },
     "inputWidgets": {},
     "nuid": "8816e4d4-6d10-4bef-9150-e9e63f35e7ef",
     "showTitle": false,
     "title": ""
    }
   },
   "outputs": [],
   "source": [
    "del path_to_delta_table"
   ]
  },
  {
   "cell_type": "markdown",
   "metadata": {
    "application/vnd.databricks.v1+cell": {
     "cellMetadata": {
      "byteLimit": 2048000,
      "rowLimit": 10000
     },
     "inputWidgets": {},
     "nuid": "29cd8eed-dcc2-401d-9aeb-3510da25e5b3",
     "showTitle": false,
     "title": ""
    }
   },
   "source": [
    "\n",
    "# 3. Transformação"
   ]
  },
  {
   "cell_type": "markdown",
   "metadata": {
    "application/vnd.databricks.v1+cell": {
     "cellMetadata": {
      "byteLimit": 2048000,
      "rowLimit": 10000
     },
     "inputWidgets": {},
     "nuid": "874f9145-dfb4-46bd-90e1-4ddba8b8e4aa",
     "showTitle": false,
     "title": ""
    }
   },
   "source": [
    "\n",
    "## 3.1 Order items"
   ]
  },
  {
   "cell_type": "code",
   "execution_count": 0,
   "metadata": {
    "application/vnd.databricks.v1+cell": {
     "cellMetadata": {
      "byteLimit": 2048000,
      "rowLimit": 10000
     },
     "inputWidgets": {},
     "nuid": "21cd663f-cea4-4ff8-bd04-9976de120f9e",
     "showTitle": false,
     "title": ""
    }
   },
   "outputs": [],
   "source": [
    "# Selecionando colunas \n",
    "df_order_items = df_order_items.select([\"order_id\", \"product_id\"])"
   ]
  },
  {
   "cell_type": "markdown",
   "metadata": {
    "application/vnd.databricks.v1+cell": {
     "cellMetadata": {
      "byteLimit": 2048000,
      "rowLimit": 10000
     },
     "inputWidgets": {},
     "nuid": "efe7af69-a9e1-4479-ae6e-4d43d06975f9",
     "showTitle": false,
     "title": ""
    }
   },
   "source": [
    "\n",
    "## 3.2 Products"
   ]
  },
  {
   "cell_type": "code",
   "execution_count": 0,
   "metadata": {
    "application/vnd.databricks.v1+cell": {
     "cellMetadata": {
      "byteLimit": 2048000,
      "rowLimit": 10000
     },
     "inputWidgets": {},
     "nuid": "1638f382-8d4a-4291-9f4b-5ba38c25aca1",
     "showTitle": false,
     "title": ""
    }
   },
   "outputs": [],
   "source": [
    "# Selecionando colunas \n",
    "df_products = df_products.select([\"product_id\", \"product_category_name\"])\n",
    "# Remove linhas onde 'product_category_name' é nulo em df_products\n",
    "df_products = df_products.dropna(subset=[\"product_category_name\"])"
   ]
  },
  {
   "cell_type": "markdown",
   "metadata": {
    "application/vnd.databricks.v1+cell": {
     "cellMetadata": {
      "byteLimit": 2048000,
      "rowLimit": 10000
     },
     "inputWidgets": {},
     "nuid": "02a5deab-f7bb-4a7c-af58-554576d8b7fe",
     "showTitle": false,
     "title": ""
    }
   },
   "source": [
    "\n",
    "## 3.3 Join"
   ]
  },
  {
   "cell_type": "code",
   "execution_count": 0,
   "metadata": {
    "application/vnd.databricks.v1+cell": {
     "cellMetadata": {
      "byteLimit": 2048000,
      "rowLimit": 10000
     },
     "inputWidgets": {},
     "nuid": "36e4b114-1e26-4eb7-9ce4-56ed8beb8c40",
     "showTitle": false,
     "title": ""
    }
   },
   "outputs": [],
   "source": [
    "df_join = df_order_items.join(\n",
    "    df_products, df_order_items.product_id == df_products.product_id, \"left\"\n",
    ").drop(df_products.product_id)"
   ]
  },
  {
   "cell_type": "code",
   "execution_count": 0,
   "metadata": {
    "application/vnd.databricks.v1+cell": {
     "cellMetadata": {
      "byteLimit": 2048000,
      "rowLimit": 10000
     },
     "inputWidgets": {},
     "nuid": "7468ea58-ee09-4077-8d58-2c94288c226a",
     "showTitle": false,
     "title": ""
    }
   },
   "outputs": [
    {
     "output_type": "display_data",
     "data": {
      "text/html": [
       "<style scoped>\n",
       "  .table-result-container {\n",
       "    max-height: 300px;\n",
       "    overflow: auto;\n",
       "  }\n",
       "  table, th, td {\n",
       "    border: 1px solid black;\n",
       "    border-collapse: collapse;\n",
       "  }\n",
       "  th, td {\n",
       "    padding: 5px;\n",
       "  }\n",
       "  th {\n",
       "    text-align: left;\n",
       "  }\n",
       "</style><div class='table-result-container'><table class='table-result'><thead style='background-color: white'><tr><th>order_id</th><th>product_id</th><th>product_category_name</th></tr></thead><tbody><tr><td>00010242fe8c5a6d1ba2dd792cb16214</td><td>4244733e06e7ecb4970a6e2683c13e61</td><td>cool_stuff</td></tr><tr><td>00018f77f2f0320c557190d7a144bdd3</td><td>e5f2d52b802189ee658865ca93d83a8f</td><td>pet_shop</td></tr><tr><td>000229ec398224ef6ca0657da4fc703e</td><td>c777355d18b72b67abbeef9df44fd0fd</td><td>moveis_decoracao</td></tr><tr><td>00024acbcdf0a6daa1e931b038114c75</td><td>7634da152a4610f1595efa32f14722fc</td><td>perfumaria</td></tr><tr><td>00042b26cf59d7ce69dfabb4e55b4fd9</td><td>ac6c3623068f30de03045865e4e10089</td><td>ferramentas_jardim</td></tr><tr><td>00048cc3ae777c65dbb7d2a0634bc1ea</td><td>ef92defde845ab8450f9d70c526ef70f</td><td>utilidades_domesticas</td></tr><tr><td>00054e8431b9d7675808bcb819fb4a32</td><td>8d4f2bb7e93e6710a28f34fa83ee7d28</td><td>telefonia</td></tr><tr><td>000576fe39319847cbb9d288c5617fa6</td><td>557d850972a7d6f792fd18ae1400d9b6</td><td>ferramentas_jardim</td></tr><tr><td>0005a1a1728c9d785b8e2b08b904576c</td><td>310ae3c140ff94b03219ad0adc3c778f</td><td>beleza_saude</td></tr><tr><td>0005f50442cb953dcd1d21e1fb923495</td><td>4535b0e1091c278dfd193e5a1d63b39f</td><td>livros_tecnicos</td></tr></tbody></table></div>"
      ]
     },
     "metadata": {
      "application/vnd.databricks.v1+output": {
       "addedWidgets": {},
       "aggData": [],
       "aggError": "",
       "aggOverflow": false,
       "aggSchema": [],
       "aggSeriesLimitReached": false,
       "aggType": "",
       "arguments": {},
       "columnCustomDisplayInfos": {},
       "data": [
        [
         "00010242fe8c5a6d1ba2dd792cb16214",
         "4244733e06e7ecb4970a6e2683c13e61",
         "cool_stuff"
        ],
        [
         "00018f77f2f0320c557190d7a144bdd3",
         "e5f2d52b802189ee658865ca93d83a8f",
         "pet_shop"
        ],
        [
         "000229ec398224ef6ca0657da4fc703e",
         "c777355d18b72b67abbeef9df44fd0fd",
         "moveis_decoracao"
        ],
        [
         "00024acbcdf0a6daa1e931b038114c75",
         "7634da152a4610f1595efa32f14722fc",
         "perfumaria"
        ],
        [
         "00042b26cf59d7ce69dfabb4e55b4fd9",
         "ac6c3623068f30de03045865e4e10089",
         "ferramentas_jardim"
        ],
        [
         "00048cc3ae777c65dbb7d2a0634bc1ea",
         "ef92defde845ab8450f9d70c526ef70f",
         "utilidades_domesticas"
        ],
        [
         "00054e8431b9d7675808bcb819fb4a32",
         "8d4f2bb7e93e6710a28f34fa83ee7d28",
         "telefonia"
        ],
        [
         "000576fe39319847cbb9d288c5617fa6",
         "557d850972a7d6f792fd18ae1400d9b6",
         "ferramentas_jardim"
        ],
        [
         "0005a1a1728c9d785b8e2b08b904576c",
         "310ae3c140ff94b03219ad0adc3c778f",
         "beleza_saude"
        ],
        [
         "0005f50442cb953dcd1d21e1fb923495",
         "4535b0e1091c278dfd193e5a1d63b39f",
         "livros_tecnicos"
        ]
       ],
       "datasetInfos": [],
       "dbfsResultPath": null,
       "isJsonSchema": true,
       "metadata": {},
       "overflow": false,
       "plotOptions": {
        "customPlotOptions": {},
        "displayType": "table",
        "pivotAggregation": null,
        "pivotColumns": null,
        "xColumns": null,
        "yColumns": null
       },
       "removedWidgets": [],
       "schema": [
        {
         "metadata": "{}",
         "name": "order_id",
         "type": "\"string\""
        },
        {
         "metadata": "{}",
         "name": "product_id",
         "type": "\"string\""
        },
        {
         "metadata": "{}",
         "name": "product_category_name",
         "type": "\"string\""
        }
       ],
       "type": "table"
      }
     },
     "output_type": "display_data"
    }
   ],
   "source": [
    "display(df_join.take(10))"
   ]
  },
  {
   "cell_type": "code",
   "execution_count": 0,
   "metadata": {
    "application/vnd.databricks.v1+cell": {
     "cellMetadata": {
      "byteLimit": 2048000,
      "rowLimit": 10000
     },
     "inputWidgets": {},
     "nuid": "b65fc89a-a456-46b5-871d-33c0e761457d",
     "showTitle": false,
     "title": ""
    }
   },
   "outputs": [],
   "source": [
    "del df_order_items, df_products"
   ]
  },
  {
   "cell_type": "markdown",
   "metadata": {
    "application/vnd.databricks.v1+cell": {
     "cellMetadata": {
      "byteLimit": 2048000,
      "rowLimit": 10000
     },
     "inputWidgets": {},
     "nuid": "0660f40a-b0cb-45d1-9e80-c2039ca27751",
     "showTitle": false,
     "title": ""
    }
   },
   "source": [
    "\n",
    "# 4. Identificando Padrões de Compra\n",
    "\n",
    "> Teste Prático -> Introduza uma regra mais complexa, como identificar padrões de comportamento de compra ao longo do tempo ou criar categorias personalizadas de produtos com base em determinados critérios."
   ]
  },
  {
   "cell_type": "markdown",
   "metadata": {
    "application/vnd.databricks.v1+cell": {
     "cellMetadata": {
      "byteLimit": 2048000,
      "rowLimit": 10000
     },
     "inputWidgets": {},
     "nuid": "8f3c4173-820d-4d36-b379-00e77778669a",
     "showTitle": false,
     "title": ""
    }
   },
   "source": [
    "\n",
    "## 4.1 Identificação de dupla de produtos mais comuns nas orders"
   ]
  },
  {
   "cell_type": "code",
   "execution_count": 0,
   "metadata": {
    "application/vnd.databricks.v1+cell": {
     "cellMetadata": {
      "byteLimit": 2048000,
      "rowLimit": 10000
     },
     "inputWidgets": {},
     "nuid": "88f3ec5e-2bc2-4887-aeca-731d96795702",
     "showTitle": false,
     "title": ""
    }
   },
   "outputs": [],
   "source": [
    "df_grouped = df_join.groupBy(\"order_id\").agg(\n",
    "    collect_set(\"product_category_name\").alias(\"products\")\n",
    ")\n",
    "fpGrowth = FPGrowth(itemsCol=\"products\", minSupport=0.0001, minConfidence=0.0001)\n",
    "model = fpGrowth.fit(df_grouped)"
   ]
  },
  {
   "cell_type": "code",
   "execution_count": 0,
   "metadata": {
    "application/vnd.databricks.v1+cell": {
     "cellMetadata": {
      "byteLimit": 2048000,
      "rowLimit": 10000
     },
     "inputWidgets": {},
     "nuid": "1aec34d3-495f-4d33-89ab-d7230da40f75",
     "showTitle": false,
     "title": ""
    }
   },
   "outputs": [],
   "source": [
    "del df_join, df_grouped"
   ]
  },
  {
   "cell_type": "code",
   "execution_count": 0,
   "metadata": {
    "application/vnd.databricks.v1+cell": {
     "cellMetadata": {
      "byteLimit": 2048000,
      "rowLimit": 10000
     },
     "inputWidgets": {},
     "nuid": "29a90ea3-8999-4b7c-9739-3db01abc4793",
     "showTitle": false,
     "title": ""
    }
   },
   "outputs": [],
   "source": [
    "# Filtrar para conjuntos de itens que contêm exatamente 2 produtos\n",
    "frequent_itemsets = model.freqItemsets\n",
    "df_most_common_product_pair = frequent_itemsets.filter(size(frequent_itemsets[\"items\"]) == 2)"
   ]
  },
  {
   "cell_type": "code",
   "execution_count": 0,
   "metadata": {
    "application/vnd.databricks.v1+cell": {
     "cellMetadata": {
      "byteLimit": 2048000,
      "rowLimit": 10000
     },
     "inputWidgets": {},
     "nuid": "457c0e72-ae7a-4354-a399-ee428679017e",
     "showTitle": false,
     "title": ""
    }
   },
   "outputs": [],
   "source": [
    "association_rules = model.associationRules"
   ]
  },
  {
   "cell_type": "code",
   "execution_count": 0,
   "metadata": {
    "application/vnd.databricks.v1+cell": {
     "cellMetadata": {
      "byteLimit": 2048000,
      "rowLimit": 10000
     },
     "inputWidgets": {},
     "nuid": "79f0807e-01da-4f3f-b112-eb58e97407e5",
     "showTitle": false,
     "title": ""
    }
   },
   "outputs": [
    {
     "output_type": "display_data",
     "data": {
      "text/html": [
       "<style scoped>\n",
       "  .table-result-container {\n",
       "    max-height: 300px;\n",
       "    overflow: auto;\n",
       "  }\n",
       "  table, th, td {\n",
       "    border: 1px solid black;\n",
       "    border-collapse: collapse;\n",
       "  }\n",
       "  th, td {\n",
       "    padding: 5px;\n",
       "  }\n",
       "  th {\n",
       "    text-align: left;\n",
       "  }\n",
       "</style><div class='table-result-container'><table class='table-result'><thead style='background-color: white'><tr><th>antecedent</th><th>consequent</th><th>confidence</th><th>lift</th><th>support</th></tr></thead><tbody><tr><td>List(moveis_decoracao)</td><td>List(cama_mesa_banho)</td><td>0.010854396030392309</td><td>0.11372622265420916</td><td>7.094642531368455E-4</td></tr><tr><td>List(moveis_decoracao)</td><td>List(construcao_ferramentas_iluminacao)</td><td>0.0017056908047759342</td><td>0.6897282333771407</td><td>1.1148723977864716E-4</td></tr><tr><td>List(moveis_decoracao)</td><td>List(utilidades_domesticas)</td><td>0.00372150721042022</td><td>0.062404185999884676</td><td>2.432448867897756E-4</td></tr><tr><td>List(moveis_decoracao)</td><td>List(bebes)</td><td>0.00186075360521011</td><td>0.06363712832293265</td><td>1.216224433948878E-4</td></tr><tr><td>List(moveis_decoracao)</td><td>List(casa_construcao)</td><td>0.002015816405644286</td><td>0.4059031458761207</td><td>1.3175764701112846E-4</td></tr><tr><td>List(moveis_decoracao)</td><td>List(ferramentas_jardim)</td><td>0.0026360676073809894</td><td>0.0739312809976841</td><td>1.7229846147609105E-4</td></tr><tr><td>List(cool_stuff)</td><td>List(bebes)</td><td>0.005506607929515419</td><td>0.18832408248650548</td><td>2.02704072324813E-4</td></tr><tr><td>List(cool_stuff)</td><td>List(cama_mesa_banho)</td><td>0.0027533039647577094</td><td>0.028847561748623147</td><td>1.013520361624065E-4</td></tr><tr><td>List(esporte_lazer)</td><td>List(utilidades_domesticas)</td><td>0.0014248704663212435</td><td>0.023892975769893236</td><td>1.1148723977864716E-4</td></tr><tr><td>List(esporte_lazer)</td><td>List(beleza_saude)</td><td>0.0018134715025906736</td><td>0.020249884481056066</td><td>1.418928506273691E-4</td></tr></tbody></table></div>"
      ]
     },
     "metadata": {
      "application/vnd.databricks.v1+output": {
       "addedWidgets": {},
       "aggData": [],
       "aggError": "",
       "aggOverflow": false,
       "aggSchema": [],
       "aggSeriesLimitReached": false,
       "aggType": "",
       "arguments": {},
       "columnCustomDisplayInfos": {},
       "data": [
        [
         [
          "moveis_decoracao"
         ],
         [
          "cama_mesa_banho"
         ],
         0.010854396030392309,
         0.11372622265420916,
         7.094642531368455E-4
        ],
        [
         [
          "moveis_decoracao"
         ],
         [
          "construcao_ferramentas_iluminacao"
         ],
         0.0017056908047759342,
         0.6897282333771407,
         1.1148723977864716E-4
        ],
        [
         [
          "moveis_decoracao"
         ],
         [
          "utilidades_domesticas"
         ],
         0.00372150721042022,
         0.062404185999884676,
         2.432448867897756E-4
        ],
        [
         [
          "moveis_decoracao"
         ],
         [
          "bebes"
         ],
         0.00186075360521011,
         0.06363712832293265,
         1.216224433948878E-4
        ],
        [
         [
          "moveis_decoracao"
         ],
         [
          "casa_construcao"
         ],
         0.002015816405644286,
         0.4059031458761207,
         1.3175764701112846E-4
        ],
        [
         [
          "moveis_decoracao"
         ],
         [
          "ferramentas_jardim"
         ],
         0.0026360676073809894,
         0.0739312809976841,
         1.7229846147609105E-4
        ],
        [
         [
          "cool_stuff"
         ],
         [
          "bebes"
         ],
         0.005506607929515419,
         0.18832408248650548,
         2.02704072324813E-4
        ],
        [
         [
          "cool_stuff"
         ],
         [
          "cama_mesa_banho"
         ],
         0.0027533039647577094,
         0.028847561748623147,
         1.013520361624065E-4
        ],
        [
         [
          "esporte_lazer"
         ],
         [
          "utilidades_domesticas"
         ],
         0.0014248704663212435,
         0.023892975769893236,
         1.1148723977864716E-4
        ],
        [
         [
          "esporte_lazer"
         ],
         [
          "beleza_saude"
         ],
         0.0018134715025906736,
         0.020249884481056066,
         1.418928506273691E-4
        ]
       ],
       "datasetInfos": [],
       "dbfsResultPath": null,
       "isJsonSchema": true,
       "metadata": {},
       "overflow": false,
       "plotOptions": {
        "customPlotOptions": {},
        "displayType": "table",
        "pivotAggregation": null,
        "pivotColumns": null,
        "xColumns": null,
        "yColumns": null
       },
       "removedWidgets": [],
       "schema": [
        {
         "metadata": "{}",
         "name": "antecedent",
         "type": "{\"type\":\"array\",\"elementType\":\"string\",\"containsNull\":true}"
        },
        {
         "metadata": "{}",
         "name": "consequent",
         "type": "{\"type\":\"array\",\"elementType\":\"string\",\"containsNull\":true}"
        },
        {
         "metadata": "{}",
         "name": "confidence",
         "type": "\"double\""
        },
        {
         "metadata": "{}",
         "name": "lift",
         "type": "\"double\""
        },
        {
         "metadata": "{}",
         "name": "support",
         "type": "\"double\""
        }
       ],
       "type": "table"
      }
     },
     "output_type": "display_data"
    }
   ],
   "source": [
    "display(association_rules.take(10))"
   ]
  },
  {
   "cell_type": "code",
   "execution_count": 0,
   "metadata": {
    "application/vnd.databricks.v1+cell": {
     "cellMetadata": {
      "byteLimit": 2048000,
      "rowLimit": 10000
     },
     "inputWidgets": {},
     "nuid": "4825a06f-924b-450d-93e7-affe14dfb5aa",
     "showTitle": false,
     "title": ""
    }
   },
   "outputs": [],
   "source": [
    "del model, frequent_itemsets, association_rules"
   ]
  },
  {
   "cell_type": "code",
   "execution_count": 0,
   "metadata": {
    "application/vnd.databricks.v1+cell": {
     "cellMetadata": {
      "byteLimit": 2048000,
      "rowLimit": 10000
     },
     "inputWidgets": {},
     "nuid": "4f7286f5-c8cf-4e74-bfdd-e43187dc4a6a",
     "showTitle": false,
     "title": ""
    }
   },
   "outputs": [],
   "source": [
    "# Transforma a coluna 'items' em uma string, unindo os elementos com um separador\n",
    "df_most_common_product_pair = df_most_common_product_pair.withColumn(\n",
    "    \"items_str\", \n",
    "    concat_ws(\", \", \"items\")\n",
    ").select([\"items_str\", \"freq\"])"
   ]
  },
  {
   "cell_type": "code",
   "execution_count": 0,
   "metadata": {
    "application/vnd.databricks.v1+cell": {
     "cellMetadata": {
      "byteLimit": 2048000,
      "rowLimit": 10000
     },
     "inputWidgets": {},
     "nuid": "5ec8c02a-fdda-4d4a-beb5-cf39be900dc0",
     "showTitle": false,
     "title": ""
    }
   },
   "outputs": [
    {
     "output_type": "display_data",
     "data": {
      "text/html": [
       "<style scoped>\n",
       "  .table-result-container {\n",
       "    max-height: 300px;\n",
       "    overflow: auto;\n",
       "  }\n",
       "  table, th, td {\n",
       "    border: 1px solid black;\n",
       "    border-collapse: collapse;\n",
       "  }\n",
       "  th, td {\n",
       "    padding: 5px;\n",
       "  }\n",
       "  th {\n",
       "    text-align: left;\n",
       "  }\n",
       "</style><div class='table-result-container'><table class='table-result'><thead style='background-color: white'><tr><th>items_str</th><th>freq</th></tr></thead><tbody><tr><td>moveis_decoracao, cama_mesa_banho</td><td>70</td></tr><tr><td>construcao_ferramentas_iluminacao, moveis_decoracao</td><td>11</td></tr><tr><td>perfumaria, beleza_saude</td><td>12</td></tr><tr><td>casa_conforto, cama_mesa_banho</td><td>43</td></tr><tr><td>utilidades_domesticas, esporte_lazer</td><td>11</td></tr><tr><td>utilidades_domesticas, moveis_decoracao</td><td>24</td></tr><tr><td>utilidades_domesticas, cama_mesa_banho</td><td>20</td></tr><tr><td>bebes, moveis_decoracao</td><td>12</td></tr><tr><td>bebes, cool_stuff</td><td>20</td></tr><tr><td>bebes, brinquedos</td><td>19</td></tr></tbody></table></div>"
      ]
     },
     "metadata": {
      "application/vnd.databricks.v1+output": {
       "addedWidgets": {},
       "aggData": [],
       "aggError": "",
       "aggOverflow": false,
       "aggSchema": [],
       "aggSeriesLimitReached": false,
       "aggType": "",
       "arguments": {},
       "columnCustomDisplayInfos": {},
       "data": [
        [
         "moveis_decoracao, cama_mesa_banho",
         70
        ],
        [
         "construcao_ferramentas_iluminacao, moveis_decoracao",
         11
        ],
        [
         "perfumaria, beleza_saude",
         12
        ],
        [
         "casa_conforto, cama_mesa_banho",
         43
        ],
        [
         "utilidades_domesticas, esporte_lazer",
         11
        ],
        [
         "utilidades_domesticas, moveis_decoracao",
         24
        ],
        [
         "utilidades_domesticas, cama_mesa_banho",
         20
        ],
        [
         "bebes, moveis_decoracao",
         12
        ],
        [
         "bebes, cool_stuff",
         20
        ],
        [
         "bebes, brinquedos",
         19
        ]
       ],
       "datasetInfos": [],
       "dbfsResultPath": null,
       "isJsonSchema": true,
       "metadata": {},
       "overflow": false,
       "plotOptions": {
        "customPlotOptions": {},
        "displayType": "table",
        "pivotAggregation": null,
        "pivotColumns": null,
        "xColumns": null,
        "yColumns": null
       },
       "removedWidgets": [],
       "schema": [
        {
         "metadata": "{}",
         "name": "items_str",
         "type": "\"string\""
        },
        {
         "metadata": "{}",
         "name": "freq",
         "type": "\"long\""
        }
       ],
       "type": "table"
      }
     },
     "output_type": "display_data"
    }
   ],
   "source": [
    "display(df_most_common_product_pair.take(10))"
   ]
  },
  {
   "cell_type": "markdown",
   "metadata": {
    "application/vnd.databricks.v1+cell": {
     "cellMetadata": {
      "byteLimit": 2048000,
      "rowLimit": 10000
     },
     "inputWidgets": {},
     "nuid": "d974634b-85c8-4b9e-ad10-d53a3bd922b1",
     "showTitle": false,
     "title": ""
    }
   },
   "source": [
    "\n",
    "# 5. Exportando dados para Delta Lake\n",
    "\n",
    "> Teste Prático -> \"Grave os mesmos dados em formato Delta Lake para aproveitar as funcionalidades de versionamento e transações ACID.\""
   ]
  },
  {
   "cell_type": "code",
   "execution_count": 0,
   "metadata": {
    "application/vnd.databricks.v1+cell": {
     "cellMetadata": {
      "byteLimit": 2048000,
      "rowLimit": 10000
     },
     "inputWidgets": {},
     "nuid": "20ede9d6-2406-4d5b-8a9d-33dcd02030a1",
     "showTitle": false,
     "title": ""
    }
   },
   "outputs": [],
   "source": [
    "df_most_common_product_pair.write.format(\"delta\").mode(\"overwrite\").option(\n",
    "    \"mergeSchema\", \"true\"\n",
    ").save(\"dbfs:/FileStore/Datum/KaggleOlistData/gold/delta/most_common_product_pair\")"
   ]
  },
  {
   "cell_type": "code",
   "execution_count": 0,
   "metadata": {
    "application/vnd.databricks.v1+cell": {
     "cellMetadata": {
      "byteLimit": 2048000,
      "rowLimit": 10000
     },
     "inputWidgets": {},
     "nuid": "918cb33a-6ce6-468a-b53f-9af7dfe560a3",
     "showTitle": false,
     "title": ""
    }
   },
   "outputs": [],
   "source": [
    "del df_most_common_product_pair"
   ]
  },
  {
   "cell_type": "markdown",
   "metadata": {
    "application/vnd.databricks.v1+cell": {
     "cellMetadata": {
      "byteLimit": 2048000,
      "rowLimit": 10000
     },
     "inputWidgets": {},
     "nuid": "287d0906-f3a8-4fe5-b844-7a0cf3aca2ee",
     "showTitle": false,
     "title": ""
    }
   },
   "source": [
    "\n",
    "# 6. Criando Delta Table"
   ]
  },
  {
   "cell_type": "code",
   "execution_count": 0,
   "metadata": {
    "application/vnd.databricks.v1+cell": {
     "cellMetadata": {
      "byteLimit": 2048000,
      "implicitDf": true,
      "rowLimit": 10000
     },
     "inputWidgets": {},
     "nuid": "6207347a-e4c7-44c8-a2c9-77d6010f87a8",
     "showTitle": false,
     "title": ""
    }
   },
   "outputs": [
    {
     "output_type": "display_data",
     "data": {
      "text/html": [
       "<style scoped>\n",
       "  .table-result-container {\n",
       "    max-height: 300px;\n",
       "    overflow: auto;\n",
       "  }\n",
       "  table, th, td {\n",
       "    border: 1px solid black;\n",
       "    border-collapse: collapse;\n",
       "  }\n",
       "  th, td {\n",
       "    padding: 5px;\n",
       "  }\n",
       "  th {\n",
       "    text-align: left;\n",
       "  }\n",
       "</style><div class='table-result-container'><table class='table-result'><thead style='background-color: white'><tr></tr></thead><tbody></tbody></table></div>"
      ]
     },
     "metadata": {
      "application/vnd.databricks.v1+output": {
       "addedWidgets": {},
       "aggData": [],
       "aggError": "",
       "aggOverflow": false,
       "aggSchema": [],
       "aggSeriesLimitReached": false,
       "aggType": "",
       "arguments": {},
       "columnCustomDisplayInfos": {},
       "data": [],
       "datasetInfos": [],
       "dbfsResultPath": null,
       "isJsonSchema": true,
       "metadata": {
        "dataframeName": null
       },
       "overflow": false,
       "plotOptions": {
        "customPlotOptions": {},
        "displayType": "table",
        "pivotAggregation": null,
        "pivotColumns": null,
        "xColumns": null,
        "yColumns": null
       },
       "removedWidgets": [],
       "schema": [],
       "type": "table"
      }
     },
     "output_type": "display_data"
    }
   ],
   "source": [
    "%sql\n",
    "\n",
    "create database if not exists olist;"
   ]
  },
  {
   "cell_type": "code",
   "execution_count": 0,
   "metadata": {
    "application/vnd.databricks.v1+cell": {
     "cellMetadata": {
      "byteLimit": 2048000,
      "implicitDf": true,
      "rowLimit": 10000
     },
     "inputWidgets": {},
     "nuid": "275a6918-0b8d-40c6-968f-6bcd28827f75",
     "showTitle": false,
     "title": ""
    }
   },
   "outputs": [
    {
     "output_type": "display_data",
     "data": {
      "text/html": [
       "<style scoped>\n",
       "  .table-result-container {\n",
       "    max-height: 300px;\n",
       "    overflow: auto;\n",
       "  }\n",
       "  table, th, td {\n",
       "    border: 1px solid black;\n",
       "    border-collapse: collapse;\n",
       "  }\n",
       "  th, td {\n",
       "    padding: 5px;\n",
       "  }\n",
       "  th {\n",
       "    text-align: left;\n",
       "  }\n",
       "</style><div class='table-result-container'><table class='table-result'><thead style='background-color: white'><tr></tr></thead><tbody></tbody></table></div>"
      ]
     },
     "metadata": {
      "application/vnd.databricks.v1+output": {
       "addedWidgets": {},
       "aggData": [],
       "aggError": "",
       "aggOverflow": false,
       "aggSchema": [],
       "aggSeriesLimitReached": false,
       "aggType": "",
       "arguments": {},
       "columnCustomDisplayInfos": {},
       "data": [],
       "datasetInfos": [],
       "dbfsResultPath": null,
       "isJsonSchema": true,
       "metadata": {
        "dataframeName": null
       },
       "overflow": false,
       "plotOptions": {
        "customPlotOptions": {},
        "displayType": "table",
        "pivotAggregation": null,
        "pivotColumns": null,
        "xColumns": null,
        "yColumns": null
       },
       "removedWidgets": [],
       "schema": [],
       "type": "table"
      }
     },
     "output_type": "display_data"
    }
   ],
   "source": [
    "%sql\n",
    "\n",
    "use olist;"
   ]
  },
  {
   "cell_type": "code",
   "execution_count": 0,
   "metadata": {
    "application/vnd.databricks.v1+cell": {
     "cellMetadata": {
      "byteLimit": 2048000,
      "implicitDf": true,
      "rowLimit": 10000
     },
     "inputWidgets": {},
     "nuid": "6bb58ac5-4bd0-44ba-92b5-f37174bb2297",
     "showTitle": false,
     "title": ""
    }
   },
   "outputs": [
    {
     "output_type": "display_data",
     "data": {
      "text/html": [
       "<style scoped>\n",
       "  .table-result-container {\n",
       "    max-height: 300px;\n",
       "    overflow: auto;\n",
       "  }\n",
       "  table, th, td {\n",
       "    border: 1px solid black;\n",
       "    border-collapse: collapse;\n",
       "  }\n",
       "  th, td {\n",
       "    padding: 5px;\n",
       "  }\n",
       "  th {\n",
       "    text-align: left;\n",
       "  }\n",
       "</style><div class='table-result-container'><table class='table-result'><thead style='background-color: white'><tr></tr></thead><tbody></tbody></table></div>"
      ]
     },
     "metadata": {
      "application/vnd.databricks.v1+output": {
       "addedWidgets": {},
       "aggData": [],
       "aggError": "",
       "aggOverflow": false,
       "aggSchema": [],
       "aggSeriesLimitReached": false,
       "aggType": "",
       "arguments": {},
       "columnCustomDisplayInfos": {},
       "data": [],
       "datasetInfos": [],
       "dbfsResultPath": null,
       "isJsonSchema": true,
       "metadata": {
        "dataframeName": null
       },
       "overflow": false,
       "plotOptions": {
        "customPlotOptions": {},
        "displayType": "table",
        "pivotAggregation": null,
        "pivotColumns": null,
        "xColumns": null,
        "yColumns": null
       },
       "removedWidgets": [],
       "schema": [],
       "type": "table"
      }
     },
     "output_type": "display_data"
    }
   ],
   "source": [
    "%sql\n",
    "\n",
    "drop table if exists most_common_product_pair;"
   ]
  },
  {
   "cell_type": "code",
   "execution_count": 0,
   "metadata": {
    "application/vnd.databricks.v1+cell": {
     "cellMetadata": {
      "byteLimit": 2048000,
      "implicitDf": true,
      "rowLimit": 10000
     },
     "inputWidgets": {},
     "nuid": "c2bf9cb4-461c-4291-bf2f-0807cc539715",
     "showTitle": false,
     "title": ""
    }
   },
   "outputs": [
    {
     "output_type": "display_data",
     "data": {
      "text/html": [
       "<style scoped>\n",
       "  .table-result-container {\n",
       "    max-height: 300px;\n",
       "    overflow: auto;\n",
       "  }\n",
       "  table, th, td {\n",
       "    border: 1px solid black;\n",
       "    border-collapse: collapse;\n",
       "  }\n",
       "  th, td {\n",
       "    padding: 5px;\n",
       "  }\n",
       "  th {\n",
       "    text-align: left;\n",
       "  }\n",
       "</style><div class='table-result-container'><table class='table-result'><thead style='background-color: white'><tr></tr></thead><tbody></tbody></table></div>"
      ]
     },
     "metadata": {
      "application/vnd.databricks.v1+output": {
       "addedWidgets": {},
       "aggData": [],
       "aggError": "",
       "aggOverflow": false,
       "aggSchema": [],
       "aggSeriesLimitReached": false,
       "aggType": "",
       "arguments": {},
       "columnCustomDisplayInfos": {},
       "data": [],
       "datasetInfos": [],
       "dbfsResultPath": null,
       "isJsonSchema": true,
       "metadata": {
        "dataframeName": null
       },
       "overflow": false,
       "plotOptions": {
        "customPlotOptions": {},
        "displayType": "table",
        "pivotAggregation": null,
        "pivotColumns": null,
        "xColumns": null,
        "yColumns": null
       },
       "removedWidgets": [],
       "schema": [],
       "type": "table"
      }
     },
     "output_type": "display_data"
    }
   ],
   "source": [
    "%sql\n",
    "\n",
    "CREATE TABLE most_common_product_pair\n",
    "USING DELTA\n",
    "LOCATION 'dbfs:/FileStore/Datum/KaggleOlistData/gold/delta/most_common_product_pair'"
   ]
  }
 ],
 "metadata": {
  "application/vnd.databricks.v1+notebook": {
   "dashboards": [],
   "language": "python",
   "notebookMetadata": {
    "mostRecentlyExecutedCommandWithImplicitDF": {
     "commandId": 3756082957300533,
     "dataframes": [
      "_sqldf"
     ]
    },
    "pythonIndentUnit": 4
   },
   "notebookName": "MostCommonProductPair",
   "widgets": {}
  }
 },
 "nbformat": 4,
 "nbformat_minor": 0
}
