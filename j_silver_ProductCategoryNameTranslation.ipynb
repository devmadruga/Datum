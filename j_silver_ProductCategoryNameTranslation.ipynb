{
 "cells": [
  {
   "cell_type": "markdown",
   "metadata": {
    "application/vnd.databricks.v1+cell": {
     "cellMetadata": {
      "byteLimit": 2048000,
      "rowLimit": 10000
     },
     "inputWidgets": {},
     "nuid": "e875823e-9f30-4e7f-ab4a-3b4e98123d20",
     "showTitle": false,
     "title": ""
    }
   },
   "source": [
    "\n",
    "# 1. Imports"
   ]
  },
  {
   "cell_type": "code",
   "execution_count": 0,
   "metadata": {
    "application/vnd.databricks.v1+cell": {
     "cellMetadata": {
      "byteLimit": 2048000,
      "rowLimit": 10000
     },
     "inputWidgets": {},
     "nuid": "c1668b84-1e69-4611-9f2f-ff3e3a404f3f",
     "showTitle": false,
     "title": ""
    }
   },
   "outputs": [],
   "source": [
    "from pyspark.sql.types import (\n",
    "    StructType,\n",
    "    StructField,\n",
    "    StringType\n",
    ")"
   ]
  },
  {
   "cell_type": "markdown",
   "metadata": {
    "application/vnd.databricks.v1+cell": {
     "cellMetadata": {
      "byteLimit": 2048000,
      "rowLimit": 10000
     },
     "inputWidgets": {},
     "nuid": "cf611514-26bf-43b5-b7a6-f168857b88ed",
     "showTitle": false,
     "title": ""
    }
   },
   "source": [
    "\n",
    "# 2. Criando o sparkDF\n",
    "\n",
    "> Teste Prático -> Explore o esquema dos dados e faça ajustes conforme necessário.\n",
    "\n",
    "> Teste Prático -> Realize transformações necessárias, como tratamento de valores nulos, conversões de tipos, etc.\n",
    "\n",
    "Em alguns sparkDataframes poderia ter utilizado inferschema=True, para agilizar, mas optei por definir manualmente, analisando no dataset qual é a tipagem de dado mais pertinente para cada coluna."
   ]
  },
  {
   "cell_type": "markdown",
   "metadata": {
    "application/vnd.databricks.v1+cell": {
     "cellMetadata": {
      "byteLimit": 2048000,
      "rowLimit": 10000
     },
     "inputWidgets": {},
     "nuid": "219da292-7d5c-4872-a432-264a9c6877af",
     "showTitle": false,
     "title": ""
    }
   },
   "source": [
    "\n",
    "## 2.1. Product category name translation"
   ]
  },
  {
   "cell_type": "code",
   "execution_count": 0,
   "metadata": {
    "application/vnd.databricks.v1+cell": {
     "cellMetadata": {
      "byteLimit": 2048000,
      "rowLimit": 10000
     },
     "inputWidgets": {},
     "nuid": "885a187c-1309-40ce-a6c9-7c344c3beec6",
     "showTitle": false,
     "title": ""
    }
   },
   "outputs": [],
   "source": [
    "schema = StructType(\n",
    "    [\n",
    "        StructField(\"product_category_name\", StringType(), True),\n",
    "        StructField(\"product_category_name_english\", StringType(), True),\n",
    "    ]\n",
    ")\n",
    "\n",
    "df_product_category_name_translation = spark.read.csv(\n",
    "    \"dbfs:/FileStore/Datum/KaggleOlistData/bronze/product_category_name_translation.csv\",\n",
    "    header=True,\n",
    "    schema=schema,\n",
    ")"
   ]
  },
  {
   "cell_type": "code",
   "execution_count": 0,
   "metadata": {
    "application/vnd.databricks.v1+cell": {
     "cellMetadata": {
      "byteLimit": 2048000,
      "rowLimit": 10000
     },
     "inputWidgets": {},
     "nuid": "fc7ea08c-7805-4e12-8ab6-a198e0e30562",
     "showTitle": false,
     "title": ""
    }
   },
   "outputs": [
    {
     "output_type": "display_data",
     "data": {
      "text/html": [
       "<style scoped>\n",
       "  .table-result-container {\n",
       "    max-height: 300px;\n",
       "    overflow: auto;\n",
       "  }\n",
       "  table, th, td {\n",
       "    border: 1px solid black;\n",
       "    border-collapse: collapse;\n",
       "  }\n",
       "  th, td {\n",
       "    padding: 5px;\n",
       "  }\n",
       "  th {\n",
       "    text-align: left;\n",
       "  }\n",
       "</style><div class='table-result-container'><table class='table-result'><thead style='background-color: white'><tr><th>product_category_name</th><th>product_category_name_english</th></tr></thead><tbody><tr><td>beleza_saude</td><td>health_beauty</td></tr><tr><td>informatica_acessorios</td><td>computers_accessories</td></tr><tr><td>automotivo</td><td>auto</td></tr><tr><td>cama_mesa_banho</td><td>bed_bath_table</td></tr><tr><td>moveis_decoracao</td><td>furniture_decor</td></tr><tr><td>esporte_lazer</td><td>sports_leisure</td></tr><tr><td>perfumaria</td><td>perfumery</td></tr><tr><td>utilidades_domesticas</td><td>housewares</td></tr><tr><td>telefonia</td><td>telephony</td></tr><tr><td>relogios_presentes</td><td>watches_gifts</td></tr></tbody></table></div>"
      ]
     },
     "metadata": {
      "application/vnd.databricks.v1+output": {
       "addedWidgets": {},
       "aggData": [],
       "aggError": "",
       "aggOverflow": false,
       "aggSchema": [],
       "aggSeriesLimitReached": false,
       "aggType": "",
       "arguments": {},
       "columnCustomDisplayInfos": {},
       "data": [
        [
         "beleza_saude",
         "health_beauty"
        ],
        [
         "informatica_acessorios",
         "computers_accessories"
        ],
        [
         "automotivo",
         "auto"
        ],
        [
         "cama_mesa_banho",
         "bed_bath_table"
        ],
        [
         "moveis_decoracao",
         "furniture_decor"
        ],
        [
         "esporte_lazer",
         "sports_leisure"
        ],
        [
         "perfumaria",
         "perfumery"
        ],
        [
         "utilidades_domesticas",
         "housewares"
        ],
        [
         "telefonia",
         "telephony"
        ],
        [
         "relogios_presentes",
         "watches_gifts"
        ]
       ],
       "datasetInfos": [],
       "dbfsResultPath": null,
       "isJsonSchema": true,
       "metadata": {},
       "overflow": false,
       "plotOptions": {
        "customPlotOptions": {},
        "displayType": "table",
        "pivotAggregation": null,
        "pivotColumns": null,
        "xColumns": null,
        "yColumns": null
       },
       "removedWidgets": [],
       "schema": [
        {
         "metadata": "{}",
         "name": "product_category_name",
         "type": "\"string\""
        },
        {
         "metadata": "{}",
         "name": "product_category_name_english",
         "type": "\"string\""
        }
       ],
       "type": "table"
      }
     },
     "output_type": "display_data"
    }
   ],
   "source": [
    "display(df_product_category_name_translation.take(10))"
   ]
  },
  {
   "cell_type": "code",
   "execution_count": 0,
   "metadata": {
    "application/vnd.databricks.v1+cell": {
     "cellMetadata": {
      "byteLimit": 2048000,
      "rowLimit": 10000
     },
     "inputWidgets": {},
     "nuid": "72b81c5a-a53d-45e8-9e9a-7978659710e9",
     "showTitle": false,
     "title": ""
    }
   },
   "outputs": [],
   "source": [
    "del schema"
   ]
  },
  {
   "cell_type": "markdown",
   "metadata": {
    "application/vnd.databricks.v1+cell": {
     "cellMetadata": {
      "byteLimit": 2048000,
      "rowLimit": 10000
     },
     "inputWidgets": {},
     "nuid": "b1e5c060-26f6-4c06-a473-bcc541cd460b",
     "showTitle": false,
     "title": ""
    }
   },
   "source": [
    "\n",
    "# 3. Exportando dados para Delta Lake\n",
    "\n",
    "> Teste Prático -> \"Grave os mesmos dados em formato Delta Lake para aproveitar as funcionalidades de versionamento e transações ACID.\""
   ]
  },
  {
   "cell_type": "code",
   "execution_count": 0,
   "metadata": {
    "application/vnd.databricks.v1+cell": {
     "cellMetadata": {
      "byteLimit": 2048000,
      "rowLimit": 10000
     },
     "inputWidgets": {},
     "nuid": "16248c92-c744-402e-b7f4-bb24f4d3bdc1",
     "showTitle": false,
     "title": ""
    }
   },
   "outputs": [],
   "source": [
    "df_product_category_name_translation.write.format(\"delta\").mode(\"overwrite\").option(\"mergeSchema\", \"true\").save(\n",
    "    \"dbfs:/FileStore/Datum/KaggleOlistData/silver/delta/product_category_name_translation\"\n",
    ")"
   ]
  },
  {
   "cell_type": "code",
   "execution_count": 0,
   "metadata": {
    "application/vnd.databricks.v1+cell": {
     "cellMetadata": {
      "byteLimit": 2048000,
      "rowLimit": 10000
     },
     "inputWidgets": {},
     "nuid": "7e561b35-b5fb-4642-bd28-8a360c1fd1ba",
     "showTitle": false,
     "title": ""
    }
   },
   "outputs": [],
   "source": [
    "del df_product_category_name_translation"
   ]
  }
 ],
 "metadata": {
  "application/vnd.databricks.v1+notebook": {
   "dashboards": [],
   "language": "python",
   "notebookMetadata": {
    "pythonIndentUnit": 4
   },
   "notebookName": "ProductCategoryNameTranslation",
   "widgets": {}
  }
 },
 "nbformat": 4,
 "nbformat_minor": 0
}
