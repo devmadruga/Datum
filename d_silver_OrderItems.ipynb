{
 "cells": [
  {
   "cell_type": "markdown",
   "metadata": {
    "application/vnd.databricks.v1+cell": {
     "cellMetadata": {
      "byteLimit": 2048000,
      "rowLimit": 10000
     },
     "inputWidgets": {},
     "nuid": "e875823e-9f30-4e7f-ab4a-3b4e98123d20",
     "showTitle": false,
     "title": ""
    }
   },
   "source": [
    "\n",
    "# 1. Imports"
   ]
  },
  {
   "cell_type": "code",
   "execution_count": 0,
   "metadata": {
    "application/vnd.databricks.v1+cell": {
     "cellMetadata": {
      "byteLimit": 2048000,
      "rowLimit": 10000
     },
     "inputWidgets": {},
     "nuid": "c1668b84-1e69-4611-9f2f-ff3e3a404f3f",
     "showTitle": false,
     "title": ""
    }
   },
   "outputs": [],
   "source": [
    "from pyspark.sql.types import (\n",
    "    StructType,\n",
    "    StructField,\n",
    "    StringType,\n",
    "    IntegerType,\n",
    "    TimestampType,\n",
    "    DecimalType\n",
    ")"
   ]
  },
  {
   "cell_type": "markdown",
   "metadata": {
    "application/vnd.databricks.v1+cell": {
     "cellMetadata": {
      "byteLimit": 2048000,
      "rowLimit": 10000
     },
     "inputWidgets": {},
     "nuid": "cf611514-26bf-43b5-b7a6-f168857b88ed",
     "showTitle": false,
     "title": ""
    }
   },
   "source": [
    "\n",
    "# 2. Criando o sparkDF\n",
    "\n",
    "> Teste Prático -> Explore o esquema dos dados e faça ajustes conforme necessário.\n",
    "\n",
    "> Teste Prático -> Realize transformações necessárias, como tratamento de valores nulos, conversões de tipos, etc.\n",
    "\n",
    "Em alguns sparkDataframes poderia ter utilizado inferschema=True, para agilizar, mas optei por definir manualmente, analisando no dataset qual é a tipagem de dado mais pertinente para cada coluna."
   ]
  },
  {
   "cell_type": "markdown",
   "metadata": {
    "application/vnd.databricks.v1+cell": {
     "cellMetadata": {
      "byteLimit": 2048000,
      "rowLimit": 10000
     },
     "inputWidgets": {},
     "nuid": "219da292-7d5c-4872-a432-264a9c6877af",
     "showTitle": false,
     "title": ""
    }
   },
   "source": [
    "\n",
    "## 2.1. Order items"
   ]
  },
  {
   "cell_type": "code",
   "execution_count": 0,
   "metadata": {
    "application/vnd.databricks.v1+cell": {
     "cellMetadata": {
      "byteLimit": 2048000,
      "rowLimit": 10000
     },
     "inputWidgets": {},
     "nuid": "885a187c-1309-40ce-a6c9-7c344c3beec6",
     "showTitle": false,
     "title": ""
    }
   },
   "outputs": [],
   "source": [
    "schema = StructType(\n",
    "    [\n",
    "        StructField(\"order_id\", StringType(), True),\n",
    "        StructField(\"order_item_id\", IntegerType(), True),\n",
    "        StructField(\"product_id\", StringType(), True),\n",
    "        StructField(\"seller_id\", StringType(), True),\n",
    "        StructField(\"shipping_limit_date\", TimestampType(), True),\n",
    "        StructField(\"price\", DecimalType(10,2), True),\n",
    "        StructField(\"freight_value\", DecimalType(10,2), True),\n",
    "    ]\n",
    ")\n",
    "\n",
    "df_order_items = spark.read.csv(\n",
    "    \"dbfs:/FileStore/Datum/KaggleOlistData/bronze/olist_order_items_dataset.csv\",\n",
    "    header=True,\n",
    "    schema=schema,\n",
    ")"
   ]
  },
  {
   "cell_type": "code",
   "execution_count": 0,
   "metadata": {
    "application/vnd.databricks.v1+cell": {
     "cellMetadata": {
      "byteLimit": 2048000,
      "rowLimit": 10000
     },
     "inputWidgets": {},
     "nuid": "a641aa3b-8d6d-4f70-801b-2d8036fffc52",
     "showTitle": false,
     "title": ""
    }
   },
   "outputs": [
    {
     "output_type": "display_data",
     "data": {
      "text/html": [
       "<style scoped>\n",
       "  .table-result-container {\n",
       "    max-height: 300px;\n",
       "    overflow: auto;\n",
       "  }\n",
       "  table, th, td {\n",
       "    border: 1px solid black;\n",
       "    border-collapse: collapse;\n",
       "  }\n",
       "  th, td {\n",
       "    padding: 5px;\n",
       "  }\n",
       "  th {\n",
       "    text-align: left;\n",
       "  }\n",
       "</style><div class='table-result-container'><table class='table-result'><thead style='background-color: white'><tr><th>order_id</th><th>order_item_id</th><th>product_id</th><th>seller_id</th><th>shipping_limit_date</th><th>price</th><th>freight_value</th></tr></thead><tbody><tr><td>00010242fe8c5a6d1ba2dd792cb16214</td><td>1</td><td>4244733e06e7ecb4970a6e2683c13e61</td><td>48436dade18ac8b2bce089ec2a041202</td><td>2017-09-19T09:45:35Z</td><td>58.900000000000000000</td><td>13.290000000000000000</td></tr><tr><td>00018f77f2f0320c557190d7a144bdd3</td><td>1</td><td>e5f2d52b802189ee658865ca93d83a8f</td><td>dd7ddc04e1b6c2c614352b383efe2d36</td><td>2017-05-03T11:05:13Z</td><td>239.900000000000000000</td><td>19.930000000000000000</td></tr><tr><td>000229ec398224ef6ca0657da4fc703e</td><td>1</td><td>c777355d18b72b67abbeef9df44fd0fd</td><td>5b51032eddd242adc84c38acab88f23d</td><td>2018-01-18T14:48:30Z</td><td>199.000000000000000000</td><td>17.870000000000000000</td></tr><tr><td>00024acbcdf0a6daa1e931b038114c75</td><td>1</td><td>7634da152a4610f1595efa32f14722fc</td><td>9d7a1d34a5052409006425275ba1c2b4</td><td>2018-08-15T10:10:18Z</td><td>12.990000000000000000</td><td>12.790000000000000000</td></tr><tr><td>00042b26cf59d7ce69dfabb4e55b4fd9</td><td>1</td><td>ac6c3623068f30de03045865e4e10089</td><td>df560393f3a51e74553ab94004ba5c87</td><td>2017-02-13T13:57:51Z</td><td>199.900000000000000000</td><td>18.140000000000000000</td></tr><tr><td>00048cc3ae777c65dbb7d2a0634bc1ea</td><td>1</td><td>ef92defde845ab8450f9d70c526ef70f</td><td>6426d21aca402a131fc0a5d0960a3c90</td><td>2017-05-23T03:55:27Z</td><td>21.900000000000000000</td><td>12.690000000000000000</td></tr><tr><td>00054e8431b9d7675808bcb819fb4a32</td><td>1</td><td>8d4f2bb7e93e6710a28f34fa83ee7d28</td><td>7040e82f899a04d1b434b795a43b4617</td><td>2017-12-14T12:10:31Z</td><td>19.900000000000000000</td><td>11.850000000000000000</td></tr><tr><td>000576fe39319847cbb9d288c5617fa6</td><td>1</td><td>557d850972a7d6f792fd18ae1400d9b6</td><td>5996cddab893a4652a15592fb58ab8db</td><td>2018-07-10T12:30:45Z</td><td>810.000000000000000000</td><td>70.750000000000000000</td></tr><tr><td>0005a1a1728c9d785b8e2b08b904576c</td><td>1</td><td>310ae3c140ff94b03219ad0adc3c778f</td><td>a416b6a846a11724393025641d4edd5e</td><td>2018-03-26T18:31:29Z</td><td>145.950000000000000000</td><td>11.650000000000000000</td></tr><tr><td>0005f50442cb953dcd1d21e1fb923495</td><td>1</td><td>4535b0e1091c278dfd193e5a1d63b39f</td><td>ba143b05f0110f0dc71ad71b4466ce92</td><td>2018-07-06T14:10:56Z</td><td>53.990000000000000000</td><td>11.400000000000000000</td></tr></tbody></table></div>"
      ]
     },
     "metadata": {
      "application/vnd.databricks.v1+output": {
       "addedWidgets": {},
       "aggData": [],
       "aggError": "",
       "aggOverflow": false,
       "aggSchema": [],
       "aggSeriesLimitReached": false,
       "aggType": "",
       "arguments": {},
       "columnCustomDisplayInfos": {},
       "data": [
        [
         "00010242fe8c5a6d1ba2dd792cb16214",
         1,
         "4244733e06e7ecb4970a6e2683c13e61",
         "48436dade18ac8b2bce089ec2a041202",
         "2017-09-19T09:45:35Z",
         "58.900000000000000000",
         "13.290000000000000000"
        ],
        [
         "00018f77f2f0320c557190d7a144bdd3",
         1,
         "e5f2d52b802189ee658865ca93d83a8f",
         "dd7ddc04e1b6c2c614352b383efe2d36",
         "2017-05-03T11:05:13Z",
         "239.900000000000000000",
         "19.930000000000000000"
        ],
        [
         "000229ec398224ef6ca0657da4fc703e",
         1,
         "c777355d18b72b67abbeef9df44fd0fd",
         "5b51032eddd242adc84c38acab88f23d",
         "2018-01-18T14:48:30Z",
         "199.000000000000000000",
         "17.870000000000000000"
        ],
        [
         "00024acbcdf0a6daa1e931b038114c75",
         1,
         "7634da152a4610f1595efa32f14722fc",
         "9d7a1d34a5052409006425275ba1c2b4",
         "2018-08-15T10:10:18Z",
         "12.990000000000000000",
         "12.790000000000000000"
        ],
        [
         "00042b26cf59d7ce69dfabb4e55b4fd9",
         1,
         "ac6c3623068f30de03045865e4e10089",
         "df560393f3a51e74553ab94004ba5c87",
         "2017-02-13T13:57:51Z",
         "199.900000000000000000",
         "18.140000000000000000"
        ],
        [
         "00048cc3ae777c65dbb7d2a0634bc1ea",
         1,
         "ef92defde845ab8450f9d70c526ef70f",
         "6426d21aca402a131fc0a5d0960a3c90",
         "2017-05-23T03:55:27Z",
         "21.900000000000000000",
         "12.690000000000000000"
        ],
        [
         "00054e8431b9d7675808bcb819fb4a32",
         1,
         "8d4f2bb7e93e6710a28f34fa83ee7d28",
         "7040e82f899a04d1b434b795a43b4617",
         "2017-12-14T12:10:31Z",
         "19.900000000000000000",
         "11.850000000000000000"
        ],
        [
         "000576fe39319847cbb9d288c5617fa6",
         1,
         "557d850972a7d6f792fd18ae1400d9b6",
         "5996cddab893a4652a15592fb58ab8db",
         "2018-07-10T12:30:45Z",
         "810.000000000000000000",
         "70.750000000000000000"
        ],
        [
         "0005a1a1728c9d785b8e2b08b904576c",
         1,
         "310ae3c140ff94b03219ad0adc3c778f",
         "a416b6a846a11724393025641d4edd5e",
         "2018-03-26T18:31:29Z",
         "145.950000000000000000",
         "11.650000000000000000"
        ],
        [
         "0005f50442cb953dcd1d21e1fb923495",
         1,
         "4535b0e1091c278dfd193e5a1d63b39f",
         "ba143b05f0110f0dc71ad71b4466ce92",
         "2018-07-06T14:10:56Z",
         "53.990000000000000000",
         "11.400000000000000000"
        ]
       ],
       "datasetInfos": [],
       "dbfsResultPath": null,
       "isJsonSchema": true,
       "metadata": {},
       "overflow": false,
       "plotOptions": {
        "customPlotOptions": {},
        "displayType": "table",
        "pivotAggregation": null,
        "pivotColumns": null,
        "xColumns": null,
        "yColumns": null
       },
       "removedWidgets": [],
       "schema": [
        {
         "metadata": "{}",
         "name": "order_id",
         "type": "\"string\""
        },
        {
         "metadata": "{}",
         "name": "order_item_id",
         "type": "\"long\""
        },
        {
         "metadata": "{}",
         "name": "product_id",
         "type": "\"string\""
        },
        {
         "metadata": "{}",
         "name": "seller_id",
         "type": "\"string\""
        },
        {
         "metadata": "{}",
         "name": "shipping_limit_date",
         "type": "\"timestamp\""
        },
        {
         "metadata": "{}",
         "name": "price",
         "type": "\"decimal(38,18)\""
        },
        {
         "metadata": "{}",
         "name": "freight_value",
         "type": "\"decimal(38,18)\""
        }
       ],
       "type": "table"
      }
     },
     "output_type": "display_data"
    }
   ],
   "source": [
    "display(df_order_items.take(10))"
   ]
  },
  {
   "cell_type": "code",
   "execution_count": 0,
   "metadata": {
    "application/vnd.databricks.v1+cell": {
     "cellMetadata": {
      "byteLimit": 2048000,
      "rowLimit": 10000
     },
     "inputWidgets": {},
     "nuid": "4417a9ed-d518-4bbc-86dd-a9fd925c5de4",
     "showTitle": false,
     "title": ""
    }
   },
   "outputs": [],
   "source": [
    "del schema"
   ]
  },
  {
   "cell_type": "markdown",
   "metadata": {
    "application/vnd.databricks.v1+cell": {
     "cellMetadata": {
      "byteLimit": 2048000,
      "rowLimit": 10000
     },
     "inputWidgets": {},
     "nuid": "b1e5c060-26f6-4c06-a473-bcc541cd460b",
     "showTitle": false,
     "title": ""
    }
   },
   "source": [
    "\n",
    "# 3. Exportando dados para Delta Lake\n",
    "\n",
    "> Teste Prático -> \"Grave os mesmos dados em formato Delta Lake para aproveitar as funcionalidades de versionamento e transações ACID.\""
   ]
  },
  {
   "cell_type": "code",
   "execution_count": 0,
   "metadata": {
    "application/vnd.databricks.v1+cell": {
     "cellMetadata": {
      "byteLimit": 2048000,
      "rowLimit": 10000
     },
     "inputWidgets": {},
     "nuid": "16248c92-c744-402e-b7f4-bb24f4d3bdc1",
     "showTitle": false,
     "title": ""
    }
   },
   "outputs": [],
   "source": [
    "df_order_items.write.format(\"delta\").mode(\"overwrite\").option(\"mergeSchema\", \"true\").save(\n",
    "    \"dbfs:/FileStore/Datum/KaggleOlistData/silver/delta/order_items\"\n",
    ")"
   ]
  },
  {
   "cell_type": "code",
   "execution_count": 0,
   "metadata": {
    "application/vnd.databricks.v1+cell": {
     "cellMetadata": {
      "byteLimit": 2048000,
      "rowLimit": 10000
     },
     "inputWidgets": {},
     "nuid": "4a3b218a-f6dd-42d2-9874-b16789d65803",
     "showTitle": false,
     "title": ""
    }
   },
   "outputs": [],
   "source": [
    "del df_order_items"
   ]
  }
 ],
 "metadata": {
  "application/vnd.databricks.v1+notebook": {
   "dashboards": [],
   "language": "python",
   "notebookMetadata": {
    "pythonIndentUnit": 4
   },
   "notebookName": "OrderItems",
   "widgets": {}
  }
 },
 "nbformat": 4,
 "nbformat_minor": 0
}
