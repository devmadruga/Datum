{
 "cells": [
  {
   "cell_type": "markdown",
   "metadata": {
    "application/vnd.databricks.v1+cell": {
     "cellMetadata": {
      "byteLimit": 2048000,
      "rowLimit": 10000
     },
     "inputWidgets": {},
     "nuid": "e875823e-9f30-4e7f-ab4a-3b4e98123d20",
     "showTitle": false,
     "title": ""
    }
   },
   "source": [
    "\n",
    "# 1. Imports"
   ]
  },
  {
   "cell_type": "code",
   "execution_count": 0,
   "metadata": {
    "application/vnd.databricks.v1+cell": {
     "cellMetadata": {
      "byteLimit": 2048000,
      "rowLimit": 10000
     },
     "inputWidgets": {},
     "nuid": "c1668b84-1e69-4611-9f2f-ff3e3a404f3f",
     "showTitle": false,
     "title": ""
    }
   },
   "outputs": [],
   "source": [
    "from pyspark.sql.types import (\n",
    "    StructType,\n",
    "    StructField,\n",
    "    StringType,\n",
    "    DoubleType\n",
    ")"
   ]
  },
  {
   "cell_type": "markdown",
   "metadata": {
    "application/vnd.databricks.v1+cell": {
     "cellMetadata": {
      "byteLimit": 2048000,
      "rowLimit": 10000
     },
     "inputWidgets": {},
     "nuid": "cf611514-26bf-43b5-b7a6-f168857b88ed",
     "showTitle": false,
     "title": ""
    }
   },
   "source": [
    "\n",
    "# 2. Criando o sparkDF\n",
    "\n",
    "> Teste Prático -> Explore o esquema dos dados e faça ajustes conforme necessário.\n",
    "\n",
    "> Teste Prático -> Realize transformações necessárias, como tratamento de valores nulos, conversões de tipos, etc.\n",
    "\n",
    "Em alguns sparkDataframes poderia ter utilizado inferschema=True, para agilizar, mas optei por definir manualmente, analisando no dataset qual é a tipagem de dado mais pertinente para cada coluna."
   ]
  },
  {
   "cell_type": "markdown",
   "metadata": {
    "application/vnd.databricks.v1+cell": {
     "cellMetadata": {
      "byteLimit": 2048000,
      "rowLimit": 10000
     },
     "inputWidgets": {},
     "nuid": "219da292-7d5c-4872-a432-264a9c6877af",
     "showTitle": false,
     "title": ""
    }
   },
   "source": [
    "\n",
    "## 2.1. Geolocation"
   ]
  },
  {
   "cell_type": "code",
   "execution_count": 0,
   "metadata": {
    "application/vnd.databricks.v1+cell": {
     "cellMetadata": {
      "byteLimit": 2048000,
      "rowLimit": 10000
     },
     "inputWidgets": {},
     "nuid": "885a187c-1309-40ce-a6c9-7c344c3beec6",
     "showTitle": false,
     "title": ""
    }
   },
   "outputs": [],
   "source": [
    "schema = StructType(\n",
    "    [\n",
    "        StructField(\"geolocation_zip_code_prefix\", StringType(), True),\n",
    "        StructField(\"geolocation_lat\", DoubleType(), True),\n",
    "        StructField(\"geolocation_lng\", DoubleType(), True),\n",
    "        StructField(\"geolocation_city\", StringType(), True),\n",
    "        StructField(\"geolocation_state\", StringType(), True),\n",
    "    ]\n",
    ")\n",
    "\n",
    "df_geolocation = spark.read.csv(\n",
    "    \"dbfs:/FileStore/Datum/KaggleOlistData/bronze/olist_geolocation_dataset.csv\",\n",
    "    header=True,\n",
    "    schema=schema,\n",
    ")"
   ]
  },
  {
   "cell_type": "code",
   "execution_count": 0,
   "metadata": {
    "application/vnd.databricks.v1+cell": {
     "cellMetadata": {
      "byteLimit": 2048000,
      "rowLimit": 10000
     },
     "inputWidgets": {},
     "nuid": "d900f355-caf8-4e0f-9603-5d756700dee9",
     "showTitle": false,
     "title": ""
    }
   },
   "outputs": [
    {
     "output_type": "display_data",
     "data": {
      "text/html": [
       "<style scoped>\n",
       "  .table-result-container {\n",
       "    max-height: 300px;\n",
       "    overflow: auto;\n",
       "  }\n",
       "  table, th, td {\n",
       "    border: 1px solid black;\n",
       "    border-collapse: collapse;\n",
       "  }\n",
       "  th, td {\n",
       "    padding: 5px;\n",
       "  }\n",
       "  th {\n",
       "    text-align: left;\n",
       "  }\n",
       "</style><div class='table-result-container'><table class='table-result'><thead style='background-color: white'><tr><th>geolocation_zip_code_prefix</th><th>geolocation_lat</th><th>geolocation_lng</th><th>geolocation_city</th><th>geolocation_state</th></tr></thead><tbody><tr><td>01037</td><td>-23.54562128115268</td><td>-46.63929204800168</td><td>sao paulo</td><td>SP</td></tr><tr><td>01046</td><td>-23.546081127035535</td><td>-46.64482029837157</td><td>sao paulo</td><td>SP</td></tr><tr><td>01046</td><td>-23.54612896641469</td><td>-46.64295148361138</td><td>sao paulo</td><td>SP</td></tr><tr><td>01041</td><td>-23.5443921648681</td><td>-46.63949930627844</td><td>sao paulo</td><td>SP</td></tr><tr><td>01035</td><td>-23.541577961711493</td><td>-46.64160722329613</td><td>sao paulo</td><td>SP</td></tr><tr><td>01012</td><td>-23.547762303364266</td><td>-46.63536053788448</td><td>são paulo</td><td>SP</td></tr><tr><td>01047</td><td>-23.546273112412678</td><td>-46.64122516971552</td><td>sao paulo</td><td>SP</td></tr><tr><td>01013</td><td>-23.546923208436723</td><td>-46.6342636964915</td><td>sao paulo</td><td>SP</td></tr><tr><td>01029</td><td>-23.543769055769133</td><td>-46.63427784085132</td><td>sao paulo</td><td>SP</td></tr><tr><td>01011</td><td>-23.547639550320632</td><td>-46.63603162315495</td><td>sao paulo</td><td>SP</td></tr></tbody></table></div>"
      ]
     },
     "metadata": {
      "application/vnd.databricks.v1+output": {
       "addedWidgets": {},
       "aggData": [],
       "aggError": "",
       "aggOverflow": false,
       "aggSchema": [],
       "aggSeriesLimitReached": false,
       "aggType": "",
       "arguments": {},
       "columnCustomDisplayInfos": {},
       "data": [
        [
         "01037",
         -23.54562128115268,
         -46.63929204800168,
         "sao paulo",
         "SP"
        ],
        [
         "01046",
         -23.546081127035535,
         -46.64482029837157,
         "sao paulo",
         "SP"
        ],
        [
         "01046",
         -23.54612896641469,
         -46.64295148361138,
         "sao paulo",
         "SP"
        ],
        [
         "01041",
         -23.5443921648681,
         -46.63949930627844,
         "sao paulo",
         "SP"
        ],
        [
         "01035",
         -23.541577961711493,
         -46.64160722329613,
         "sao paulo",
         "SP"
        ],
        [
         "01012",
         -23.547762303364266,
         -46.63536053788448,
         "são paulo",
         "SP"
        ],
        [
         "01047",
         -23.546273112412678,
         -46.64122516971552,
         "sao paulo",
         "SP"
        ],
        [
         "01013",
         -23.546923208436723,
         -46.6342636964915,
         "sao paulo",
         "SP"
        ],
        [
         "01029",
         -23.543769055769133,
         -46.63427784085132,
         "sao paulo",
         "SP"
        ],
        [
         "01011",
         -23.547639550320632,
         -46.63603162315495,
         "sao paulo",
         "SP"
        ]
       ],
       "datasetInfos": [],
       "dbfsResultPath": null,
       "isJsonSchema": true,
       "metadata": {},
       "overflow": false,
       "plotOptions": {
        "customPlotOptions": {},
        "displayType": "table",
        "pivotAggregation": null,
        "pivotColumns": null,
        "xColumns": null,
        "yColumns": null
       },
       "removedWidgets": [],
       "schema": [
        {
         "metadata": "{}",
         "name": "geolocation_zip_code_prefix",
         "type": "\"string\""
        },
        {
         "metadata": "{}",
         "name": "geolocation_lat",
         "type": "\"double\""
        },
        {
         "metadata": "{}",
         "name": "geolocation_lng",
         "type": "\"double\""
        },
        {
         "metadata": "{}",
         "name": "geolocation_city",
         "type": "\"string\""
        },
        {
         "metadata": "{}",
         "name": "geolocation_state",
         "type": "\"string\""
        }
       ],
       "type": "table"
      }
     },
     "output_type": "display_data"
    }
   ],
   "source": [
    "display(df_geolocation.take(10))"
   ]
  },
  {
   "cell_type": "code",
   "execution_count": 0,
   "metadata": {
    "application/vnd.databricks.v1+cell": {
     "cellMetadata": {
      "byteLimit": 2048000,
      "rowLimit": 10000
     },
     "inputWidgets": {},
     "nuid": "3d4471cf-77fc-4277-a675-5963ccd966bf",
     "showTitle": false,
     "title": ""
    }
   },
   "outputs": [],
   "source": [
    "del schema"
   ]
  },
  {
   "cell_type": "markdown",
   "metadata": {
    "application/vnd.databricks.v1+cell": {
     "cellMetadata": {
      "byteLimit": 2048000,
      "rowLimit": 10000
     },
     "inputWidgets": {},
     "nuid": "b1e5c060-26f6-4c06-a473-bcc541cd460b",
     "showTitle": false,
     "title": ""
    }
   },
   "source": [
    "\n",
    "# 3. Exportando dados para Delta Lake\n",
    "\n",
    "> Teste Prático -> \"Grave os mesmos dados em formato Delta Lake para aproveitar as funcionalidades de versionamento e transações ACID.\""
   ]
  },
  {
   "cell_type": "code",
   "execution_count": 0,
   "metadata": {
    "application/vnd.databricks.v1+cell": {
     "cellMetadata": {
      "byteLimit": 2048000,
      "rowLimit": 10000
     },
     "inputWidgets": {},
     "nuid": "16248c92-c744-402e-b7f4-bb24f4d3bdc1",
     "showTitle": false,
     "title": ""
    }
   },
   "outputs": [],
   "source": [
    "df_geolocation.write.format(\"delta\").mode(\"overwrite\").option(\"mergeSchema\", \"true\").save(\n",
    "    \"dbfs:/FileStore/Datum/KaggleOlistData/silver/delta/geolocation\"\n",
    ")"
   ]
  },
  {
   "cell_type": "code",
   "execution_count": 0,
   "metadata": {
    "application/vnd.databricks.v1+cell": {
     "cellMetadata": {
      "byteLimit": 2048000,
      "rowLimit": 10000
     },
     "inputWidgets": {},
     "nuid": "be046efd-fcc0-4a53-b784-1982cca52d31",
     "showTitle": false,
     "title": ""
    }
   },
   "outputs": [],
   "source": [
    "del df_geolocation"
   ]
  }
 ],
 "metadata": {
  "application/vnd.databricks.v1+notebook": {
   "dashboards": [],
   "language": "python",
   "notebookMetadata": {
    "pythonIndentUnit": 4
   },
   "notebookName": "Geolocation",
   "widgets": {}
  }
 },
 "nbformat": 4,
 "nbformat_minor": 0
}
