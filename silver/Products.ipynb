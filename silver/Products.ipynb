{
 "cells": [
  {
   "cell_type": "markdown",
   "metadata": {
    "application/vnd.databricks.v1+cell": {
     "cellMetadata": {
      "byteLimit": 2048000,
      "rowLimit": 10000
     },
     "inputWidgets": {},
     "nuid": "e875823e-9f30-4e7f-ab4a-3b4e98123d20",
     "showTitle": false,
     "title": ""
    }
   },
   "source": [
    "\n",
    "# 1. Imports"
   ]
  },
  {
   "cell_type": "code",
   "execution_count": 0,
   "metadata": {
    "application/vnd.databricks.v1+cell": {
     "cellMetadata": {
      "byteLimit": 2048000,
      "rowLimit": 10000
     },
     "inputWidgets": {},
     "nuid": "c1668b84-1e69-4611-9f2f-ff3e3a404f3f",
     "showTitle": false,
     "title": ""
    }
   },
   "outputs": [],
   "source": [
    "from pyspark.sql.types import (\n",
    "    StructType,\n",
    "    StructField,\n",
    "    StringType,\n",
    "    IntegerType\n",
    ")"
   ]
  },
  {
   "cell_type": "markdown",
   "metadata": {
    "application/vnd.databricks.v1+cell": {
     "cellMetadata": {
      "byteLimit": 2048000,
      "rowLimit": 10000
     },
     "inputWidgets": {},
     "nuid": "cf611514-26bf-43b5-b7a6-f168857b88ed",
     "showTitle": false,
     "title": ""
    }
   },
   "source": [
    "\n",
    "# 2. Criando o sparkDF\n",
    "\n",
    "> Teste Prático -> Explore o esquema dos dados e faça ajustes conforme necessário.\n",
    "\n",
    "> Teste Prático -> Realize transformações necessárias, como tratamento de valores nulos, conversões de tipos, etc.\n",
    "\n",
    "Em alguns sparkDataframes poderia ter utilizado inferschema=True, para agilizar, mas optei por definir manualmente, analisando no dataset qual é a tipagem de dado mais pertinente para cada coluna."
   ]
  },
  {
   "cell_type": "markdown",
   "metadata": {
    "application/vnd.databricks.v1+cell": {
     "cellMetadata": {
      "byteLimit": 2048000,
      "rowLimit": 10000
     },
     "inputWidgets": {},
     "nuid": "219da292-7d5c-4872-a432-264a9c6877af",
     "showTitle": false,
     "title": ""
    }
   },
   "source": [
    "\n",
    "## 2.1. Products"
   ]
  },
  {
   "cell_type": "code",
   "execution_count": 0,
   "metadata": {
    "application/vnd.databricks.v1+cell": {
     "cellMetadata": {
      "byteLimit": 2048000,
      "rowLimit": 10000
     },
     "inputWidgets": {},
     "nuid": "885a187c-1309-40ce-a6c9-7c344c3beec6",
     "showTitle": false,
     "title": ""
    }
   },
   "outputs": [],
   "source": [
    "schema = StructType(\n",
    "    [\n",
    "        StructField(\"product_id\", StringType(), True),\n",
    "        StructField(\"product_category_name\", StringType(), True),\n",
    "        StructField(\"product_name_lenght\", IntegerType(), True),\n",
    "        StructField(\"product_description_lenght\", IntegerType(), True),\n",
    "        StructField(\"product_weight_g\", IntegerType(), True),\n",
    "        StructField(\"product_length_cm\", IntegerType(), True),\n",
    "        StructField(\"product_height_cm\", IntegerType(), True),\n",
    "        StructField(\"product_width_cm\", IntegerType(), True),\n",
    "    ]\n",
    ")\n",
    "\n",
    "df_products = spark.read.csv(\n",
    "    \"dbfs:/FileStore/Datum/KaggleOlistData/bronze/olist_products_dataset.csv\", \n",
    "    header=True, \n",
    "    schema=schema\n",
    ")"
   ]
  },
  {
   "cell_type": "code",
   "execution_count": 0,
   "metadata": {
    "application/vnd.databricks.v1+cell": {
     "cellMetadata": {
      "byteLimit": 2048000,
      "rowLimit": 10000
     },
     "inputWidgets": {},
     "nuid": "8c6228e0-950f-4d1d-ab06-79f93547a572",
     "showTitle": false,
     "title": ""
    }
   },
   "outputs": [
    {
     "output_type": "display_data",
     "data": {
      "text/html": [
       "<style scoped>\n",
       "  .table-result-container {\n",
       "    max-height: 300px;\n",
       "    overflow: auto;\n",
       "  }\n",
       "  table, th, td {\n",
       "    border: 1px solid black;\n",
       "    border-collapse: collapse;\n",
       "  }\n",
       "  th, td {\n",
       "    padding: 5px;\n",
       "  }\n",
       "  th {\n",
       "    text-align: left;\n",
       "  }\n",
       "</style><div class='table-result-container'><table class='table-result'><thead style='background-color: white'><tr><th>product_id</th><th>product_category_name</th><th>product_name_lenght</th><th>product_description_lenght</th><th>product_weight_g</th><th>product_length_cm</th><th>product_height_cm</th><th>product_width_cm</th></tr></thead><tbody><tr><td>1e9e8ef04dbcff4541ed26657ea517e5</td><td>perfumaria</td><td>40</td><td>287</td><td>1</td><td>225</td><td>16</td><td>10</td></tr><tr><td>3aa071139cb16b67ca9e5dea641aaa2f</td><td>artes</td><td>44</td><td>276</td><td>1</td><td>1000</td><td>30</td><td>18</td></tr><tr><td>96bd76ec8810374ed1b65e291975717f</td><td>esporte_lazer</td><td>46</td><td>250</td><td>1</td><td>154</td><td>18</td><td>9</td></tr><tr><td>cef67bcfe19066a932b7673e239eb23d</td><td>bebes</td><td>27</td><td>261</td><td>1</td><td>371</td><td>26</td><td>4</td></tr><tr><td>9dc1a7de274444849c219cff195d0b71</td><td>utilidades_domesticas</td><td>37</td><td>402</td><td>4</td><td>625</td><td>20</td><td>17</td></tr><tr><td>41d3672d4792049fa1779bb35283ed13</td><td>instrumentos_musicais</td><td>60</td><td>745</td><td>1</td><td>200</td><td>38</td><td>5</td></tr><tr><td>732bd381ad09e530fe0a5f457d81becb</td><td>cool_stuff</td><td>56</td><td>1272</td><td>4</td><td>18350</td><td>70</td><td>24</td></tr><tr><td>2548af3e6e77a690cf3eb6368e9ab61e</td><td>moveis_decoracao</td><td>56</td><td>184</td><td>2</td><td>900</td><td>40</td><td>8</td></tr><tr><td>37cc742be07708b53a98702e77a21a02</td><td>eletrodomesticos</td><td>57</td><td>163</td><td>1</td><td>400</td><td>27</td><td>13</td></tr><tr><td>8c92109888e8cdf9d66dc7e463025574</td><td>brinquedos</td><td>36</td><td>1156</td><td>1</td><td>600</td><td>17</td><td>10</td></tr></tbody></table></div>"
      ]
     },
     "metadata": {
      "application/vnd.databricks.v1+output": {
       "addedWidgets": {},
       "aggData": [],
       "aggError": "",
       "aggOverflow": false,
       "aggSchema": [],
       "aggSeriesLimitReached": false,
       "aggType": "",
       "arguments": {},
       "columnCustomDisplayInfos": {},
       "data": [
        [
         "1e9e8ef04dbcff4541ed26657ea517e5",
         "perfumaria",
         40,
         287,
         1,
         225,
         16,
         10
        ],
        [
         "3aa071139cb16b67ca9e5dea641aaa2f",
         "artes",
         44,
         276,
         1,
         1000,
         30,
         18
        ],
        [
         "96bd76ec8810374ed1b65e291975717f",
         "esporte_lazer",
         46,
         250,
         1,
         154,
         18,
         9
        ],
        [
         "cef67bcfe19066a932b7673e239eb23d",
         "bebes",
         27,
         261,
         1,
         371,
         26,
         4
        ],
        [
         "9dc1a7de274444849c219cff195d0b71",
         "utilidades_domesticas",
         37,
         402,
         4,
         625,
         20,
         17
        ],
        [
         "41d3672d4792049fa1779bb35283ed13",
         "instrumentos_musicais",
         60,
         745,
         1,
         200,
         38,
         5
        ],
        [
         "732bd381ad09e530fe0a5f457d81becb",
         "cool_stuff",
         56,
         1272,
         4,
         18350,
         70,
         24
        ],
        [
         "2548af3e6e77a690cf3eb6368e9ab61e",
         "moveis_decoracao",
         56,
         184,
         2,
         900,
         40,
         8
        ],
        [
         "37cc742be07708b53a98702e77a21a02",
         "eletrodomesticos",
         57,
         163,
         1,
         400,
         27,
         13
        ],
        [
         "8c92109888e8cdf9d66dc7e463025574",
         "brinquedos",
         36,
         1156,
         1,
         600,
         17,
         10
        ]
       ],
       "datasetInfos": [],
       "dbfsResultPath": null,
       "isJsonSchema": true,
       "metadata": {},
       "overflow": false,
       "plotOptions": {
        "customPlotOptions": {},
        "displayType": "table",
        "pivotAggregation": null,
        "pivotColumns": null,
        "xColumns": null,
        "yColumns": null
       },
       "removedWidgets": [],
       "schema": [
        {
         "metadata": "{}",
         "name": "product_id",
         "type": "\"string\""
        },
        {
         "metadata": "{}",
         "name": "product_category_name",
         "type": "\"string\""
        },
        {
         "metadata": "{}",
         "name": "product_name_lenght",
         "type": "\"long\""
        },
        {
         "metadata": "{}",
         "name": "product_description_lenght",
         "type": "\"long\""
        },
        {
         "metadata": "{}",
         "name": "product_weight_g",
         "type": "\"long\""
        },
        {
         "metadata": "{}",
         "name": "product_length_cm",
         "type": "\"long\""
        },
        {
         "metadata": "{}",
         "name": "product_height_cm",
         "type": "\"long\""
        },
        {
         "metadata": "{}",
         "name": "product_width_cm",
         "type": "\"long\""
        }
       ],
       "type": "table"
      }
     },
     "output_type": "display_data"
    }
   ],
   "source": [
    "display(df_products.take(10))"
   ]
  },
  {
   "cell_type": "code",
   "execution_count": 0,
   "metadata": {
    "application/vnd.databricks.v1+cell": {
     "cellMetadata": {
      "byteLimit": 2048000,
      "rowLimit": 10000
     },
     "inputWidgets": {},
     "nuid": "fe893e2b-727d-4f87-ac40-ce554e0fde93",
     "showTitle": false,
     "title": ""
    }
   },
   "outputs": [],
   "source": [
    "del schema"
   ]
  },
  {
   "cell_type": "markdown",
   "metadata": {
    "application/vnd.databricks.v1+cell": {
     "cellMetadata": {
      "byteLimit": 2048000,
      "rowLimit": 10000
     },
     "inputWidgets": {},
     "nuid": "b1e5c060-26f6-4c06-a473-bcc541cd460b",
     "showTitle": false,
     "title": ""
    }
   },
   "source": [
    "\n",
    "# 3. Exportando dados para Delta Lake\n",
    "\n",
    "> Teste Prático -> \"Grave os mesmos dados em formato Delta Lake para aproveitar as funcionalidades de versionamento e transações ACID.\""
   ]
  },
  {
   "cell_type": "code",
   "execution_count": 0,
   "metadata": {
    "application/vnd.databricks.v1+cell": {
     "cellMetadata": {
      "byteLimit": 2048000,
      "rowLimit": 10000
     },
     "inputWidgets": {},
     "nuid": "16248c92-c744-402e-b7f4-bb24f4d3bdc1",
     "showTitle": false,
     "title": ""
    }
   },
   "outputs": [],
   "source": [
    "df_products.write.format(\"delta\").mode(\"overwrite\").option(\"mergeSchema\", \"true\").save(\n",
    "    \"dbfs:/FileStore/Datum/KaggleOlistData/silver/delta/products\"\n",
    ")"
   ]
  },
  {
   "cell_type": "code",
   "execution_count": 0,
   "metadata": {
    "application/vnd.databricks.v1+cell": {
     "cellMetadata": {
      "byteLimit": 2048000,
      "rowLimit": 10000
     },
     "inputWidgets": {},
     "nuid": "b039e3ac-4d9f-4420-86fb-5d412ac6e6ff",
     "showTitle": false,
     "title": ""
    }
   },
   "outputs": [],
   "source": [
    "del df_products"
   ]
  }
 ],
 "metadata": {
  "application/vnd.databricks.v1+notebook": {
   "dashboards": [],
   "language": "python",
   "notebookMetadata": {
    "pythonIndentUnit": 4
   },
   "notebookName": "Products",
   "widgets": {}
  }
 },
 "nbformat": 4,
 "nbformat_minor": 0
}
