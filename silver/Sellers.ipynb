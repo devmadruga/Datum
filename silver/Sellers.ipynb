{
 "cells": [
  {
   "cell_type": "markdown",
   "metadata": {
    "application/vnd.databricks.v1+cell": {
     "cellMetadata": {
      "byteLimit": 2048000,
      "rowLimit": 10000
     },
     "inputWidgets": {},
     "nuid": "e875823e-9f30-4e7f-ab4a-3b4e98123d20",
     "showTitle": false,
     "title": ""
    }
   },
   "source": [
    "\n",
    "# 1. Imports"
   ]
  },
  {
   "cell_type": "code",
   "execution_count": 0,
   "metadata": {
    "application/vnd.databricks.v1+cell": {
     "cellMetadata": {
      "byteLimit": 2048000,
      "rowLimit": 10000
     },
     "inputWidgets": {},
     "nuid": "c1668b84-1e69-4611-9f2f-ff3e3a404f3f",
     "showTitle": false,
     "title": ""
    }
   },
   "outputs": [],
   "source": [
    "from pyspark.sql.types import (\n",
    "    StructType,\n",
    "    StructField,\n",
    "    StringType\n",
    ")"
   ]
  },
  {
   "cell_type": "markdown",
   "metadata": {
    "application/vnd.databricks.v1+cell": {
     "cellMetadata": {
      "byteLimit": 2048000,
      "rowLimit": 10000
     },
     "inputWidgets": {},
     "nuid": "cf611514-26bf-43b5-b7a6-f168857b88ed",
     "showTitle": false,
     "title": ""
    }
   },
   "source": [
    "\n",
    "# 2. Criando o sparkDF\n",
    "\n",
    "> Teste Prático -> Explore o esquema dos dados e faça ajustes conforme necessário.\n",
    "\n",
    "> Teste Prático -> Realize transformações necessárias, como tratamento de valores nulos, conversões de tipos, etc.\n",
    "\n",
    "Em alguns sparkDataframes poderia ter utilizado inferschema=True, para agilizar, mas optei por definir manualmente, analisando no dataset qual é a tipagem de dado mais pertinente para cada coluna."
   ]
  },
  {
   "cell_type": "markdown",
   "metadata": {
    "application/vnd.databricks.v1+cell": {
     "cellMetadata": {
      "byteLimit": 2048000,
      "rowLimit": 10000
     },
     "inputWidgets": {},
     "nuid": "219da292-7d5c-4872-a432-264a9c6877af",
     "showTitle": false,
     "title": ""
    }
   },
   "source": [
    "\n",
    "## 2.1. Sellers"
   ]
  },
  {
   "cell_type": "code",
   "execution_count": 0,
   "metadata": {
    "application/vnd.databricks.v1+cell": {
     "cellMetadata": {
      "byteLimit": 2048000,
      "rowLimit": 10000
     },
     "inputWidgets": {},
     "nuid": "885a187c-1309-40ce-a6c9-7c344c3beec6",
     "showTitle": false,
     "title": ""
    }
   },
   "outputs": [],
   "source": [
    "schema = StructType(\n",
    "    [\n",
    "        StructField(\"seller_id\", StringType(), True),\n",
    "        StructField(\"seller_zip_code_prefix\", StringType(), True),\n",
    "        StructField(\"seller_city\", StringType(), True),\n",
    "        StructField(\"seller_state\", StringType(), True)\n",
    "    ]\n",
    ")\n",
    "\n",
    "df_sellers = spark.read.csv(\n",
    "    \"dbfs:/FileStore/Datum/KaggleOlistData/bronze/olist_sellers_dataset.csv\",\n",
    "    header=True, \n",
    "    schema=schema)"
   ]
  },
  {
   "cell_type": "code",
   "execution_count": 0,
   "metadata": {
    "application/vnd.databricks.v1+cell": {
     "cellMetadata": {
      "byteLimit": 2048000,
      "rowLimit": 10000
     },
     "inputWidgets": {},
     "nuid": "f8fae872-a4e4-4eed-b3f9-113b0881492e",
     "showTitle": false,
     "title": ""
    }
   },
   "outputs": [
    {
     "output_type": "display_data",
     "data": {
      "text/html": [
       "<style scoped>\n",
       "  .table-result-container {\n",
       "    max-height: 300px;\n",
       "    overflow: auto;\n",
       "  }\n",
       "  table, th, td {\n",
       "    border: 1px solid black;\n",
       "    border-collapse: collapse;\n",
       "  }\n",
       "  th, td {\n",
       "    padding: 5px;\n",
       "  }\n",
       "  th {\n",
       "    text-align: left;\n",
       "  }\n",
       "</style><div class='table-result-container'><table class='table-result'><thead style='background-color: white'><tr><th>seller_id</th><th>seller_zip_code_prefix</th><th>seller_city</th><th>seller_state</th></tr></thead><tbody><tr><td>3442f8959a84dea7ee197c632cb2df15</td><td>13023</td><td>campinas</td><td>SP</td></tr><tr><td>d1b65fc7debc3361ea86b5f14c68d2e2</td><td>13844</td><td>mogi guacu</td><td>SP</td></tr><tr><td>ce3ad9de960102d0677a81f5d0bb7b2d</td><td>20031</td><td>rio de janeiro</td><td>RJ</td></tr><tr><td>c0f3eea2e14555b6faeea3dd58c1b1c3</td><td>04195</td><td>sao paulo</td><td>SP</td></tr><tr><td>51a04a8a6bdcb23deccc82b0b80742cf</td><td>12914</td><td>braganca paulista</td><td>SP</td></tr><tr><td>c240c4061717ac1806ae6ee72be3533b</td><td>20920</td><td>rio de janeiro</td><td>RJ</td></tr><tr><td>e49c26c3edfa46d227d5121a6b6e4d37</td><td>55325</td><td>brejao</td><td>PE</td></tr><tr><td>1b938a7ec6ac5061a66a3766e0e75f90</td><td>16304</td><td>penapolis</td><td>SP</td></tr><tr><td>768a86e36ad6aae3d03ee3c6433d61df</td><td>01529</td><td>sao paulo</td><td>SP</td></tr><tr><td>ccc4bbb5f32a6ab2b7066a4130f114e3</td><td>80310</td><td>curitiba</td><td>PR</td></tr></tbody></table></div>"
      ]
     },
     "metadata": {
      "application/vnd.databricks.v1+output": {
       "addedWidgets": {},
       "aggData": [],
       "aggError": "",
       "aggOverflow": false,
       "aggSchema": [],
       "aggSeriesLimitReached": false,
       "aggType": "",
       "arguments": {},
       "columnCustomDisplayInfos": {},
       "data": [
        [
         "3442f8959a84dea7ee197c632cb2df15",
         "13023",
         "campinas",
         "SP"
        ],
        [
         "d1b65fc7debc3361ea86b5f14c68d2e2",
         "13844",
         "mogi guacu",
         "SP"
        ],
        [
         "ce3ad9de960102d0677a81f5d0bb7b2d",
         "20031",
         "rio de janeiro",
         "RJ"
        ],
        [
         "c0f3eea2e14555b6faeea3dd58c1b1c3",
         "04195",
         "sao paulo",
         "SP"
        ],
        [
         "51a04a8a6bdcb23deccc82b0b80742cf",
         "12914",
         "braganca paulista",
         "SP"
        ],
        [
         "c240c4061717ac1806ae6ee72be3533b",
         "20920",
         "rio de janeiro",
         "RJ"
        ],
        [
         "e49c26c3edfa46d227d5121a6b6e4d37",
         "55325",
         "brejao",
         "PE"
        ],
        [
         "1b938a7ec6ac5061a66a3766e0e75f90",
         "16304",
         "penapolis",
         "SP"
        ],
        [
         "768a86e36ad6aae3d03ee3c6433d61df",
         "01529",
         "sao paulo",
         "SP"
        ],
        [
         "ccc4bbb5f32a6ab2b7066a4130f114e3",
         "80310",
         "curitiba",
         "PR"
        ]
       ],
       "datasetInfos": [],
       "dbfsResultPath": null,
       "isJsonSchema": true,
       "metadata": {},
       "overflow": false,
       "plotOptions": {
        "customPlotOptions": {},
        "displayType": "table",
        "pivotAggregation": null,
        "pivotColumns": null,
        "xColumns": null,
        "yColumns": null
       },
       "removedWidgets": [],
       "schema": [
        {
         "metadata": "{}",
         "name": "seller_id",
         "type": "\"string\""
        },
        {
         "metadata": "{}",
         "name": "seller_zip_code_prefix",
         "type": "\"string\""
        },
        {
         "metadata": "{}",
         "name": "seller_city",
         "type": "\"string\""
        },
        {
         "metadata": "{}",
         "name": "seller_state",
         "type": "\"string\""
        }
       ],
       "type": "table"
      }
     },
     "output_type": "display_data"
    }
   ],
   "source": [
    "display(df_sellers.take(10))"
   ]
  },
  {
   "cell_type": "code",
   "execution_count": 0,
   "metadata": {
    "application/vnd.databricks.v1+cell": {
     "cellMetadata": {
      "byteLimit": 2048000,
      "rowLimit": 10000
     },
     "inputWidgets": {},
     "nuid": "93c36aff-b32e-46d5-aa53-6bc332463ee4",
     "showTitle": false,
     "title": ""
    }
   },
   "outputs": [],
   "source": [
    "del schema"
   ]
  },
  {
   "cell_type": "markdown",
   "metadata": {
    "application/vnd.databricks.v1+cell": {
     "cellMetadata": {
      "byteLimit": 2048000,
      "rowLimit": 10000
     },
     "inputWidgets": {},
     "nuid": "b1e5c060-26f6-4c06-a473-bcc541cd460b",
     "showTitle": false,
     "title": ""
    }
   },
   "source": [
    "\n",
    "# 3. Exportando dados para Delta Lake\n",
    "\n",
    "> Teste Prático -> \"Grave os mesmos dados em formato Delta Lake para aproveitar as funcionalidades de versionamento e transações ACID.\""
   ]
  },
  {
   "cell_type": "code",
   "execution_count": 0,
   "metadata": {
    "application/vnd.databricks.v1+cell": {
     "cellMetadata": {
      "byteLimit": 2048000,
      "rowLimit": 10000
     },
     "inputWidgets": {},
     "nuid": "16248c92-c744-402e-b7f4-bb24f4d3bdc1",
     "showTitle": false,
     "title": ""
    }
   },
   "outputs": [],
   "source": [
    "df_sellers.write.format(\"delta\").mode(\"overwrite\").option(\"mergeSchema\", \"true\").save(\n",
    "    \"dbfs:/FileStore/Datum/KaggleOlistData/silver/delta/sellers\"\n",
    ")"
   ]
  },
  {
   "cell_type": "code",
   "execution_count": 0,
   "metadata": {
    "application/vnd.databricks.v1+cell": {
     "cellMetadata": {
      "byteLimit": 2048000,
      "rowLimit": 10000
     },
     "inputWidgets": {},
     "nuid": "81bc08e0-dbc6-491b-abf9-a2ac1d0ca5f0",
     "showTitle": false,
     "title": ""
    }
   },
   "outputs": [],
   "source": [
    "del df_sellers"
   ]
  }
 ],
 "metadata": {
  "application/vnd.databricks.v1+notebook": {
   "dashboards": [],
   "language": "python",
   "notebookMetadata": {
    "pythonIndentUnit": 4
   },
   "notebookName": "Sellers",
   "widgets": {}
  }
 },
 "nbformat": 4,
 "nbformat_minor": 0
}
