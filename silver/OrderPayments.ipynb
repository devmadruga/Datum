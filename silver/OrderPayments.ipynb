{
 "cells": [
  {
   "cell_type": "markdown",
   "metadata": {
    "application/vnd.databricks.v1+cell": {
     "cellMetadata": {
      "byteLimit": 2048000,
      "rowLimit": 10000
     },
     "inputWidgets": {},
     "nuid": "e875823e-9f30-4e7f-ab4a-3b4e98123d20",
     "showTitle": false,
     "title": ""
    }
   },
   "source": [
    "\n",
    "# 1. Imports"
   ]
  },
  {
   "cell_type": "code",
   "execution_count": 0,
   "metadata": {
    "application/vnd.databricks.v1+cell": {
     "cellMetadata": {
      "byteLimit": 2048000,
      "rowLimit": 10000
     },
     "inputWidgets": {},
     "nuid": "c1668b84-1e69-4611-9f2f-ff3e3a404f3f",
     "showTitle": false,
     "title": ""
    }
   },
   "outputs": [],
   "source": [
    "from pyspark.sql.types import (\n",
    "    StructType,\n",
    "    StructField,\n",
    "    StringType,\n",
    "    IntegerType,\n",
    "    DecimalType\n",
    ")"
   ]
  },
  {
   "cell_type": "markdown",
   "metadata": {
    "application/vnd.databricks.v1+cell": {
     "cellMetadata": {
      "byteLimit": 2048000,
      "rowLimit": 10000
     },
     "inputWidgets": {},
     "nuid": "cf611514-26bf-43b5-b7a6-f168857b88ed",
     "showTitle": false,
     "title": ""
    }
   },
   "source": [
    "\n",
    "# 2. Criando o sparkDF\n",
    "\n",
    "> Teste Prático -> Explore o esquema dos dados e faça ajustes conforme necessário.\n",
    "\n",
    "> Teste Prático -> Realize transformações necessárias, como tratamento de valores nulos, conversões de tipos, etc.\n",
    "\n",
    "Em alguns sparkDataframes poderia ter utilizado inferschema=True, para agilizar, mas optei por definir manualmente, analisando no dataset qual é a tipagem de dado mais pertinente para cada coluna."
   ]
  },
  {
   "cell_type": "markdown",
   "metadata": {
    "application/vnd.databricks.v1+cell": {
     "cellMetadata": {
      "byteLimit": 2048000,
      "rowLimit": 10000
     },
     "inputWidgets": {},
     "nuid": "219da292-7d5c-4872-a432-264a9c6877af",
     "showTitle": false,
     "title": ""
    }
   },
   "source": [
    "\n",
    "## 2.1. Order payments"
   ]
  },
  {
   "cell_type": "code",
   "execution_count": 0,
   "metadata": {
    "application/vnd.databricks.v1+cell": {
     "cellMetadata": {
      "byteLimit": 2048000,
      "rowLimit": 10000
     },
     "inputWidgets": {},
     "nuid": "885a187c-1309-40ce-a6c9-7c344c3beec6",
     "showTitle": false,
     "title": ""
    }
   },
   "outputs": [],
   "source": [
    "schema = StructType(\n",
    "    [\n",
    "        StructField(\"order_id\", StringType(), True),\n",
    "        StructField(\"payment_sequential\", IntegerType(), True),\n",
    "        StructField(\"payment_type\", StringType(), True),\n",
    "        StructField(\"payment_installments\", IntegerType(), True),\n",
    "        StructField(\"payment_value\", DecimalType(10,2), True),\n",
    "    ]\n",
    ")\n",
    "\n",
    "df_order_payments = spark.read.csv(\n",
    "    \"dbfs:/FileStore/Datum/KaggleOlistData/bronze/olist_order_payments_dataset.csv\",\n",
    "    header=True,\n",
    "    schema=schema,\n",
    ")"
   ]
  },
  {
   "cell_type": "code",
   "execution_count": 0,
   "metadata": {
    "application/vnd.databricks.v1+cell": {
     "cellMetadata": {
      "byteLimit": 2048000,
      "rowLimit": 10000
     },
     "inputWidgets": {},
     "nuid": "97a1a902-37f2-4540-a424-f91855a6cdcc",
     "showTitle": false,
     "title": ""
    }
   },
   "outputs": [
    {
     "output_type": "display_data",
     "data": {
      "text/html": [
       "<style scoped>\n",
       "  .table-result-container {\n",
       "    max-height: 300px;\n",
       "    overflow: auto;\n",
       "  }\n",
       "  table, th, td {\n",
       "    border: 1px solid black;\n",
       "    border-collapse: collapse;\n",
       "  }\n",
       "  th, td {\n",
       "    padding: 5px;\n",
       "  }\n",
       "  th {\n",
       "    text-align: left;\n",
       "  }\n",
       "</style><div class='table-result-container'><table class='table-result'><thead style='background-color: white'><tr><th>order_id</th><th>payment_sequential</th><th>payment_type</th><th>payment_installments</th><th>payment_value</th></tr></thead><tbody><tr><td>b81ef226f3fe1789b1e8b2acac839d17</td><td>1</td><td>credit_card</td><td>8</td><td>99.330000000000000000</td></tr><tr><td>a9810da82917af2d9aefd1278f1dcfa0</td><td>1</td><td>credit_card</td><td>1</td><td>24.390000000000000000</td></tr><tr><td>25e8ea4e93396b6fa0d3dd708e76c1bd</td><td>1</td><td>credit_card</td><td>1</td><td>65.710000000000000000</td></tr><tr><td>ba78997921bbcdc1373bb41e913ab953</td><td>1</td><td>credit_card</td><td>8</td><td>107.780000000000000000</td></tr><tr><td>42fdf880ba16b47b59251dd489d4441a</td><td>1</td><td>credit_card</td><td>2</td><td>128.450000000000000000</td></tr><tr><td>298fcdf1f73eb413e4d26d01b25bc1cd</td><td>1</td><td>credit_card</td><td>2</td><td>96.120000000000000000</td></tr><tr><td>771ee386b001f06208a7419e4fc1bbd7</td><td>1</td><td>credit_card</td><td>1</td><td>81.160000000000000000</td></tr><tr><td>3d7239c394a212faae122962df514ac7</td><td>1</td><td>credit_card</td><td>3</td><td>51.840000000000000000</td></tr><tr><td>1f78449c87a54faf9e96e88ba1491fa9</td><td>1</td><td>credit_card</td><td>6</td><td>341.090000000000000000</td></tr><tr><td>0573b5e23cbd798006520e1d5b4c6714</td><td>1</td><td>boleto</td><td>1</td><td>51.950000000000000000</td></tr></tbody></table></div>"
      ]
     },
     "metadata": {
      "application/vnd.databricks.v1+output": {
       "addedWidgets": {},
       "aggData": [],
       "aggError": "",
       "aggOverflow": false,
       "aggSchema": [],
       "aggSeriesLimitReached": false,
       "aggType": "",
       "arguments": {},
       "columnCustomDisplayInfos": {},
       "data": [
        [
         "b81ef226f3fe1789b1e8b2acac839d17",
         1,
         "credit_card",
         8,
         "99.330000000000000000"
        ],
        [
         "a9810da82917af2d9aefd1278f1dcfa0",
         1,
         "credit_card",
         1,
         "24.390000000000000000"
        ],
        [
         "25e8ea4e93396b6fa0d3dd708e76c1bd",
         1,
         "credit_card",
         1,
         "65.710000000000000000"
        ],
        [
         "ba78997921bbcdc1373bb41e913ab953",
         1,
         "credit_card",
         8,
         "107.780000000000000000"
        ],
        [
         "42fdf880ba16b47b59251dd489d4441a",
         1,
         "credit_card",
         2,
         "128.450000000000000000"
        ],
        [
         "298fcdf1f73eb413e4d26d01b25bc1cd",
         1,
         "credit_card",
         2,
         "96.120000000000000000"
        ],
        [
         "771ee386b001f06208a7419e4fc1bbd7",
         1,
         "credit_card",
         1,
         "81.160000000000000000"
        ],
        [
         "3d7239c394a212faae122962df514ac7",
         1,
         "credit_card",
         3,
         "51.840000000000000000"
        ],
        [
         "1f78449c87a54faf9e96e88ba1491fa9",
         1,
         "credit_card",
         6,
         "341.090000000000000000"
        ],
        [
         "0573b5e23cbd798006520e1d5b4c6714",
         1,
         "boleto",
         1,
         "51.950000000000000000"
        ]
       ],
       "datasetInfos": [],
       "dbfsResultPath": null,
       "isJsonSchema": true,
       "metadata": {},
       "overflow": false,
       "plotOptions": {
        "customPlotOptions": {},
        "displayType": "table",
        "pivotAggregation": null,
        "pivotColumns": null,
        "xColumns": null,
        "yColumns": null
       },
       "removedWidgets": [],
       "schema": [
        {
         "metadata": "{}",
         "name": "order_id",
         "type": "\"string\""
        },
        {
         "metadata": "{}",
         "name": "payment_sequential",
         "type": "\"long\""
        },
        {
         "metadata": "{}",
         "name": "payment_type",
         "type": "\"string\""
        },
        {
         "metadata": "{}",
         "name": "payment_installments",
         "type": "\"long\""
        },
        {
         "metadata": "{}",
         "name": "payment_value",
         "type": "\"decimal(38,18)\""
        }
       ],
       "type": "table"
      }
     },
     "output_type": "display_data"
    }
   ],
   "source": [
    "display(df_order_payments.take(10))"
   ]
  },
  {
   "cell_type": "code",
   "execution_count": 0,
   "metadata": {
    "application/vnd.databricks.v1+cell": {
     "cellMetadata": {
      "byteLimit": 2048000,
      "rowLimit": 10000
     },
     "inputWidgets": {},
     "nuid": "ef65459d-7d74-4b6a-961e-2356c08fd44e",
     "showTitle": false,
     "title": ""
    }
   },
   "outputs": [],
   "source": [
    "del schema"
   ]
  },
  {
   "cell_type": "markdown",
   "metadata": {
    "application/vnd.databricks.v1+cell": {
     "cellMetadata": {
      "byteLimit": 2048000,
      "rowLimit": 10000
     },
     "inputWidgets": {},
     "nuid": "b1e5c060-26f6-4c06-a473-bcc541cd460b",
     "showTitle": false,
     "title": ""
    }
   },
   "source": [
    "\n",
    "# 3. Exportando dados para Delta Lake\n",
    "\n",
    "> Teste Prático -> \"Grave os mesmos dados em formato Delta Lake para aproveitar as funcionalidades de versionamento e transações ACID.\""
   ]
  },
  {
   "cell_type": "code",
   "execution_count": 0,
   "metadata": {
    "application/vnd.databricks.v1+cell": {
     "cellMetadata": {
      "byteLimit": 2048000,
      "rowLimit": 10000
     },
     "inputWidgets": {},
     "nuid": "16248c92-c744-402e-b7f4-bb24f4d3bdc1",
     "showTitle": false,
     "title": ""
    }
   },
   "outputs": [],
   "source": [
    "df_order_payments.write.format(\"delta\").mode(\"overwrite\").option(\"mergeSchema\", \"true\").save(\n",
    "    \"dbfs:/FileStore/Datum/KaggleOlistData/silver/delta/order_payments\"\n",
    ")"
   ]
  },
  {
   "cell_type": "code",
   "execution_count": 0,
   "metadata": {
    "application/vnd.databricks.v1+cell": {
     "cellMetadata": {
      "byteLimit": 2048000,
      "rowLimit": 10000
     },
     "inputWidgets": {},
     "nuid": "d91112ac-b5b6-4363-868d-530f5282f063",
     "showTitle": false,
     "title": ""
    }
   },
   "outputs": [],
   "source": [
    "del df_order_payments"
   ]
  }
 ],
 "metadata": {
  "application/vnd.databricks.v1+notebook": {
   "dashboards": [],
   "language": "python",
   "notebookMetadata": {
    "pythonIndentUnit": 4
   },
   "notebookName": "OrderPayments",
   "widgets": {}
  }
 },
 "nbformat": 4,
 "nbformat_minor": 0
}
