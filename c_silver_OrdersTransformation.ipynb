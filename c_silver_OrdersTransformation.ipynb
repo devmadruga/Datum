{
 "cells": [
  {
   "cell_type": "markdown",
   "metadata": {
    "application/vnd.databricks.v1+cell": {
     "cellMetadata": {
      "byteLimit": 2048000,
      "rowLimit": 10000
     },
     "inputWidgets": {},
     "nuid": "e875823e-9f30-4e7f-ab4a-3b4e98123d20",
     "showTitle": false,
     "title": ""
    }
   },
   "source": [
    "\n",
    "# 1. Imports"
   ]
  },
  {
   "cell_type": "code",
   "execution_count": 0,
   "metadata": {
    "application/vnd.databricks.v1+cell": {
     "cellMetadata": {
      "byteLimit": 2048000,
      "rowLimit": 10000
     },
     "inputWidgets": {},
     "nuid": "c1668b84-1e69-4611-9f2f-ff3e3a404f3f",
     "showTitle": false,
     "title": ""
    }
   },
   "outputs": [],
   "source": [
    "from pyspark.sql.functions import (\n",
    "    datediff\n",
    ")"
   ]
  },
  {
   "cell_type": "markdown",
   "metadata": {
    "application/vnd.databricks.v1+cell": {
     "cellMetadata": {
      "byteLimit": 2048000,
      "rowLimit": 10000
     },
     "inputWidgets": {},
     "nuid": "cf611514-26bf-43b5-b7a6-f168857b88ed",
     "showTitle": false,
     "title": ""
    }
   },
   "source": [
    "\n",
    "# 2. Transformações de Dados"
   ]
  },
  {
   "cell_type": "markdown",
   "metadata": {
    "application/vnd.databricks.v1+cell": {
     "cellMetadata": {
      "byteLimit": 2048000,
      "rowLimit": 10000
     },
     "inputWidgets": {},
     "nuid": "219da292-7d5c-4872-a432-264a9c6877af",
     "showTitle": false,
     "title": ""
    }
   },
   "source": [
    "\n",
    "## 2.1 Adicionando coluna calculada em orders\n",
    "\n",
    "> Teste Prático -> Adicione uma coluna calculada, por exemplo, o valor total de cada transação.\n",
    "\n",
    "Estou criando uma coluna calculada. Esta coluna, chamada \"delivery_date_diff\" e representa a diferença entre duas datas: order_delivered_customer_date e order_estimated_delivery_date. \n",
    "\n",
    "delivery_time_diff | Descrição\n",
    "-------------------| -----------------\n",
    "&gt; 0             | pedido entregue DEPOIS da data estimada\n",
    "&lt; 0             | pedido entregue ANTES da data estimada\n",
    "&equals; 0         | pedido entregue NA data estimada\n",
    "null               | Pedido não foi entregue. Coluna order_status pode auxiliar a entender o null do order_delivered_customer_date\n",
    "\n",
    "Com esta coluna calculada, podemos:\n",
    "\n",
    "- Analisar se o algoritmo que estima a data de entrega está retornando um \"resultado satisfatório\".\n",
    "- Analisar para quais estados/cidades o algoritmo de estimativa possui melhor performance.\n",
    "- Analisar para quais estados/cidades, por exemplo, as entregas são realizadas antes/depois do previsto.\n",
    "- Gerar um relatórios a respeito das transportadoras que mais \"atrasam\" a entrega, se comparado com a data prevista pelo algoritmo."
   ]
  },
  {
   "cell_type": "code",
   "execution_count": 0,
   "metadata": {
    "application/vnd.databricks.v1+cell": {
     "cellMetadata": {
      "byteLimit": 2048000,
      "rowLimit": 10000
     },
     "inputWidgets": {},
     "nuid": "fb398263-5afd-499a-a684-69bf15274765",
     "showTitle": false,
     "title": ""
    }
   },
   "outputs": [],
   "source": [
    "# Local do arquivo Delta\n",
    "path_to_delta_table = \"dbfs:/FileStore/Datum/KaggleOlistData/silver/delta/orders\"\n",
    "\n",
    "# Ler o arquivo Delta como um DataFrame\n",
    "df_orders = spark.read.format(\"delta\").load(path_to_delta_table)"
   ]
  },
  {
   "cell_type": "code",
   "execution_count": 0,
   "metadata": {
    "application/vnd.databricks.v1+cell": {
     "cellMetadata": {
      "byteLimit": 2048000,
      "rowLimit": 10000
     },
     "inputWidgets": {},
     "nuid": "59ca784d-ad53-460d-942b-e44ff1a7e5e1",
     "showTitle": false,
     "title": ""
    }
   },
   "outputs": [],
   "source": [
    "del path_to_delta_table"
   ]
  },
  {
   "cell_type": "code",
   "execution_count": 0,
   "metadata": {
    "application/vnd.databricks.v1+cell": {
     "cellMetadata": {
      "byteLimit": 2048000,
      "rowLimit": 10000
     },
     "inputWidgets": {},
     "nuid": "9c9a9b1f-b08a-4ec4-b654-534b9341e326",
     "showTitle": false,
     "title": ""
    }
   },
   "outputs": [],
   "source": [
    "# Calculando a diferença de tempo entre as datas estimada e real de entrega\n",
    "df_orders = df_orders.withColumn(\n",
    "    \"delivery_time_diff\",\n",
    "    datediff(\n",
    "        df_orders[\"order_delivered_customer_date\"],\n",
    "        df_orders[\"order_estimated_delivery_date\"],\n",
    "    ),\n",
    ")"
   ]
  },
  {
   "cell_type": "code",
   "execution_count": 0,
   "metadata": {
    "application/vnd.databricks.v1+cell": {
     "cellMetadata": {
      "byteLimit": 2048000,
      "rowLimit": 10000
     },
     "inputWidgets": {},
     "nuid": "35d13e89-8ea4-4fbd-a592-a0ea0580aebf",
     "showTitle": false,
     "title": ""
    }
   },
   "outputs": [
    {
     "output_type": "display_data",
     "data": {
      "text/html": [
       "<style scoped>\n",
       "  .table-result-container {\n",
       "    max-height: 300px;\n",
       "    overflow: auto;\n",
       "  }\n",
       "  table, th, td {\n",
       "    border: 1px solid black;\n",
       "    border-collapse: collapse;\n",
       "  }\n",
       "  th, td {\n",
       "    padding: 5px;\n",
       "  }\n",
       "  th {\n",
       "    text-align: left;\n",
       "  }\n",
       "</style><div class='table-result-container'><table class='table-result'><thead style='background-color: white'><tr><th>order_id</th><th>customer_id</th><th>order_status</th><th>order_purchase_timestamp</th><th>order_approved_at</th><th>order_delivered_carrier_date</th><th>order_delivered_customer_date</th><th>order_estimated_delivery_date</th><th>delivery_time_diff</th></tr></thead><tbody><tr><td>e481f51cbdc54678b7cc49136f2d6af7</td><td>9ef432eb6251297304e76186b10a928d</td><td>delivered</td><td>2017-10-02T10:56:33Z</td><td>2017-10-02T11:07:15Z</td><td>2017-10-04T19:55:00Z</td><td>2017-10-10T21:25:13Z</td><td>2017-10-18T00:00:00Z</td><td>-8</td></tr><tr><td>53cdb2fc8bc7dce0b6741e2150273451</td><td>b0830fb4747a6c6d20dea0b8c802d7ef</td><td>delivered</td><td>2018-07-24T20:41:37Z</td><td>2018-07-26T03:24:27Z</td><td>2018-07-26T14:31:00Z</td><td>2018-08-07T15:27:45Z</td><td>2018-08-13T00:00:00Z</td><td>-6</td></tr><tr><td>47770eb9100c2d0c44946d9cf07ec65d</td><td>41ce2a54c0b03bf3443c3d931a367089</td><td>delivered</td><td>2018-08-08T08:38:49Z</td><td>2018-08-08T08:55:23Z</td><td>2018-08-08T13:50:00Z</td><td>2018-08-17T18:06:29Z</td><td>2018-09-04T00:00:00Z</td><td>-18</td></tr><tr><td>949d5b44dbf5de918fe9c16f97b45f8a</td><td>f88197465ea7920adcdbec7375364d82</td><td>delivered</td><td>2017-11-18T19:28:06Z</td><td>2017-11-18T19:45:59Z</td><td>2017-11-22T13:39:59Z</td><td>2017-12-02T00:28:42Z</td><td>2017-12-15T00:00:00Z</td><td>-13</td></tr><tr><td>ad21c59c0840e6cb83a9ceb5573f8159</td><td>8ab97904e6daea8866dbdbc4fb7aad2c</td><td>delivered</td><td>2018-02-13T21:18:39Z</td><td>2018-02-13T22:20:29Z</td><td>2018-02-14T19:46:34Z</td><td>2018-02-16T18:17:02Z</td><td>2018-02-26T00:00:00Z</td><td>-10</td></tr><tr><td>a4591c265e18cb1dcee52889e2d8acc3</td><td>503740e9ca751ccdda7ba28e9ab8f608</td><td>delivered</td><td>2017-07-09T21:57:05Z</td><td>2017-07-09T22:10:13Z</td><td>2017-07-11T14:58:04Z</td><td>2017-07-26T10:57:55Z</td><td>2017-08-01T00:00:00Z</td><td>-6</td></tr><tr><td>136cce7faa42fdb2cefd53fdc79a6098</td><td>ed0271e0b7da060a393796590e7b737a</td><td>invoiced</td><td>2017-04-11T12:22:08Z</td><td>2017-04-13T13:25:17Z</td><td>null</td><td>null</td><td>2017-05-09T00:00:00Z</td><td>null</td></tr><tr><td>6514b8ad8028c9f2cc2374ded245783f</td><td>9bdf08b4b3b52b5526ff42d37d47f222</td><td>delivered</td><td>2017-05-16T13:10:30Z</td><td>2017-05-16T13:22:11Z</td><td>2017-05-22T10:07:46Z</td><td>2017-05-26T12:55:51Z</td><td>2017-06-07T00:00:00Z</td><td>-12</td></tr><tr><td>76c6e866289321a7c93b82b54852dc33</td><td>f54a9f0e6b351c431402b8461ea51999</td><td>delivered</td><td>2017-01-23T18:29:09Z</td><td>2017-01-25T02:50:47Z</td><td>2017-01-26T14:16:31Z</td><td>2017-02-02T14:08:10Z</td><td>2017-03-06T00:00:00Z</td><td>-32</td></tr><tr><td>e69bfb5eb88e0ed6a785585b27e16dbf</td><td>31ad1d1b63eb9962463f764d4e6e0c9d</td><td>delivered</td><td>2017-07-29T11:55:02Z</td><td>2017-07-29T12:05:32Z</td><td>2017-08-10T19:45:24Z</td><td>2017-08-16T17:14:30Z</td><td>2017-08-23T00:00:00Z</td><td>-7</td></tr></tbody></table></div>"
      ]
     },
     "metadata": {
      "application/vnd.databricks.v1+output": {
       "addedWidgets": {},
       "aggData": [],
       "aggError": "",
       "aggOverflow": false,
       "aggSchema": [],
       "aggSeriesLimitReached": false,
       "aggType": "",
       "arguments": {},
       "columnCustomDisplayInfos": {},
       "data": [
        [
         "e481f51cbdc54678b7cc49136f2d6af7",
         "9ef432eb6251297304e76186b10a928d",
         "delivered",
         "2017-10-02T10:56:33Z",
         "2017-10-02T11:07:15Z",
         "2017-10-04T19:55:00Z",
         "2017-10-10T21:25:13Z",
         "2017-10-18T00:00:00Z",
         -8
        ],
        [
         "53cdb2fc8bc7dce0b6741e2150273451",
         "b0830fb4747a6c6d20dea0b8c802d7ef",
         "delivered",
         "2018-07-24T20:41:37Z",
         "2018-07-26T03:24:27Z",
         "2018-07-26T14:31:00Z",
         "2018-08-07T15:27:45Z",
         "2018-08-13T00:00:00Z",
         -6
        ],
        [
         "47770eb9100c2d0c44946d9cf07ec65d",
         "41ce2a54c0b03bf3443c3d931a367089",
         "delivered",
         "2018-08-08T08:38:49Z",
         "2018-08-08T08:55:23Z",
         "2018-08-08T13:50:00Z",
         "2018-08-17T18:06:29Z",
         "2018-09-04T00:00:00Z",
         -18
        ],
        [
         "949d5b44dbf5de918fe9c16f97b45f8a",
         "f88197465ea7920adcdbec7375364d82",
         "delivered",
         "2017-11-18T19:28:06Z",
         "2017-11-18T19:45:59Z",
         "2017-11-22T13:39:59Z",
         "2017-12-02T00:28:42Z",
         "2017-12-15T00:00:00Z",
         -13
        ],
        [
         "ad21c59c0840e6cb83a9ceb5573f8159",
         "8ab97904e6daea8866dbdbc4fb7aad2c",
         "delivered",
         "2018-02-13T21:18:39Z",
         "2018-02-13T22:20:29Z",
         "2018-02-14T19:46:34Z",
         "2018-02-16T18:17:02Z",
         "2018-02-26T00:00:00Z",
         -10
        ],
        [
         "a4591c265e18cb1dcee52889e2d8acc3",
         "503740e9ca751ccdda7ba28e9ab8f608",
         "delivered",
         "2017-07-09T21:57:05Z",
         "2017-07-09T22:10:13Z",
         "2017-07-11T14:58:04Z",
         "2017-07-26T10:57:55Z",
         "2017-08-01T00:00:00Z",
         -6
        ],
        [
         "136cce7faa42fdb2cefd53fdc79a6098",
         "ed0271e0b7da060a393796590e7b737a",
         "invoiced",
         "2017-04-11T12:22:08Z",
         "2017-04-13T13:25:17Z",
         null,
         null,
         "2017-05-09T00:00:00Z",
         null
        ],
        [
         "6514b8ad8028c9f2cc2374ded245783f",
         "9bdf08b4b3b52b5526ff42d37d47f222",
         "delivered",
         "2017-05-16T13:10:30Z",
         "2017-05-16T13:22:11Z",
         "2017-05-22T10:07:46Z",
         "2017-05-26T12:55:51Z",
         "2017-06-07T00:00:00Z",
         -12
        ],
        [
         "76c6e866289321a7c93b82b54852dc33",
         "f54a9f0e6b351c431402b8461ea51999",
         "delivered",
         "2017-01-23T18:29:09Z",
         "2017-01-25T02:50:47Z",
         "2017-01-26T14:16:31Z",
         "2017-02-02T14:08:10Z",
         "2017-03-06T00:00:00Z",
         -32
        ],
        [
         "e69bfb5eb88e0ed6a785585b27e16dbf",
         "31ad1d1b63eb9962463f764d4e6e0c9d",
         "delivered",
         "2017-07-29T11:55:02Z",
         "2017-07-29T12:05:32Z",
         "2017-08-10T19:45:24Z",
         "2017-08-16T17:14:30Z",
         "2017-08-23T00:00:00Z",
         -7
        ]
       ],
       "datasetInfos": [],
       "dbfsResultPath": null,
       "isJsonSchema": true,
       "metadata": {},
       "overflow": false,
       "plotOptions": {
        "customPlotOptions": {},
        "displayType": "table",
        "pivotAggregation": null,
        "pivotColumns": null,
        "xColumns": null,
        "yColumns": null
       },
       "removedWidgets": [],
       "schema": [
        {
         "metadata": "{}",
         "name": "order_id",
         "type": "\"string\""
        },
        {
         "metadata": "{}",
         "name": "customer_id",
         "type": "\"string\""
        },
        {
         "metadata": "{}",
         "name": "order_status",
         "type": "\"string\""
        },
        {
         "metadata": "{}",
         "name": "order_purchase_timestamp",
         "type": "\"timestamp\""
        },
        {
         "metadata": "{}",
         "name": "order_approved_at",
         "type": "\"timestamp\""
        },
        {
         "metadata": "{}",
         "name": "order_delivered_carrier_date",
         "type": "\"timestamp\""
        },
        {
         "metadata": "{}",
         "name": "order_delivered_customer_date",
         "type": "\"timestamp\""
        },
        {
         "metadata": "{}",
         "name": "order_estimated_delivery_date",
         "type": "\"timestamp\""
        },
        {
         "metadata": "{}",
         "name": "delivery_time_diff",
         "type": "\"long\""
        }
       ],
       "type": "table"
      }
     },
     "output_type": "display_data"
    }
   ],
   "source": [
    "display(df_orders.take(10))"
   ]
  },
  {
   "cell_type": "markdown",
   "metadata": {
    "application/vnd.databricks.v1+cell": {
     "cellMetadata": {
      "byteLimit": 2048000,
      "rowLimit": 10000
     },
     "inputWidgets": {},
     "nuid": "f76363c9-4f99-4fcd-b891-1a770298b28a",
     "showTitle": false,
     "title": ""
    }
   },
   "source": [
    "\n",
    "# 3. Exportando dados para Delta Lake"
   ]
  },
  {
   "cell_type": "code",
   "execution_count": 0,
   "metadata": {
    "application/vnd.databricks.v1+cell": {
     "cellMetadata": {
      "byteLimit": 2048000,
      "rowLimit": 10000
     },
     "inputWidgets": {},
     "nuid": "737b116e-1db5-4266-9a15-a330863865db",
     "showTitle": false,
     "title": ""
    }
   },
   "outputs": [],
   "source": [
    "df_orders.write.format(\"delta\").mode(\"overwrite\").option(\"mergeSchema\", \"true\").save(\n",
    "    \"dbfs:/FileStore/Datum/KaggleOlistData/silver/delta/orders\"\n",
    ")"
   ]
  },
  {
   "cell_type": "code",
   "execution_count": 0,
   "metadata": {
    "application/vnd.databricks.v1+cell": {
     "cellMetadata": {
      "byteLimit": 2048000,
      "rowLimit": 10000
     },
     "inputWidgets": {},
     "nuid": "8606f6ab-57a3-482f-b1cd-e5ed5b126f42",
     "showTitle": false,
     "title": ""
    }
   },
   "outputs": [],
   "source": [
    "del df_orders"
   ]
  }
 ],
 "metadata": {
  "application/vnd.databricks.v1+notebook": {
   "dashboards": [],
   "language": "python",
   "notebookMetadata": {
    "pythonIndentUnit": 4
   },
   "notebookName": "OrdersTransformation",
   "widgets": {}
  }
 },
 "nbformat": 4,
 "nbformat_minor": 0
}
